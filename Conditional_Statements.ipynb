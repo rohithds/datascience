{
  "cells": [
    {
      "cell_type": "code",
      "execution_count": null,
      "id": "f7e499f1",
      "metadata": {
        "id": "f7e499f1"
      },
      "outputs": [],
      "source": [
        "# If the number is positive, we print an appropriate message\n",
        "#There will be no output when condition is false\n",
        "num = -2\n",
        "if num > 0:\n",
        "  print(num, \"is a positive number.\")"
      ]
    },
    {
      "cell_type": "code",
      "source": [
        "#Output when condition is true\n",
        "num = 5\n",
        "if num>0:\n",
        "  print(num, \"is a positive number.\")"
      ],
      "metadata": {
        "colab": {
          "base_uri": "https://localhost:8080/"
        },
        "id": "uG3rjAIIdOhA",
        "outputId": "5112a7d8-13ab-441f-bdc1-3c08b27e7c3a"
      },
      "id": "uG3rjAIIdOhA",
      "execution_count": null,
      "outputs": [
        {
          "output_type": "stream",
          "name": "stdout",
          "text": [
            "5 is a positive number.\n"
          ]
        }
      ]
    },
    {
      "cell_type": "code",
      "source": [
        "num=-6\n",
        "if num<0:\n",
        "  print(num, 'is a negative number')\n",
        "\n",
        "print('Thank you!')"
      ],
      "metadata": {
        "colab": {
          "base_uri": "https://localhost:8080/"
        },
        "id": "8anq6f0J95_S",
        "outputId": "539d7433-0d35-40dc-bb18-1ec612e68e09"
      },
      "id": "8anq6f0J95_S",
      "execution_count": null,
      "outputs": [
        {
          "output_type": "stream",
          "name": "stdout",
          "text": [
            "-6 is a negative number\n",
            "Thank you!\n"
          ]
        }
      ]
    },
    {
      "cell_type": "code",
      "source": [
        "num=4\n",
        "if num>5:\n",
        "  print(num, \"is greater than 5\")\n",
        "\n",
        "print(\"---------------------------\")\n",
        "\n",
        "num=9\n",
        "if num>5:\n",
        "  print(num, \"is greater than 5\")\n",
        "\n",
        "print('Thank You!')"
      ],
      "metadata": {
        "colab": {
          "base_uri": "https://localhost:8080/"
        },
        "id": "K-0FrWaQ_Wnx",
        "outputId": "754a5a7f-252d-45e2-e20f-c5cd128dccfc"
      },
      "id": "K-0FrWaQ_Wnx",
      "execution_count": null,
      "outputs": [
        {
          "output_type": "stream",
          "name": "stdout",
          "text": [
            "---------------------------\n",
            "9 is greater than 5\n",
            "Thank You!\n"
          ]
        }
      ]
    },
    {
      "cell_type": "code",
      "source": [
        "num= 2\n",
        "if num>0:\n",
        "  print(num, \"is a positive value!\")\n",
        "else:\n",
        "  print(num, \"is a negative value!\")"
      ],
      "metadata": {
        "colab": {
          "base_uri": "https://localhost:8080/"
        },
        "id": "rZfVfMIS_ZxX",
        "outputId": "4534d2ca-9b16-4240-e9cb-b3797da24899"
      },
      "id": "rZfVfMIS_ZxX",
      "execution_count": null,
      "outputs": [
        {
          "output_type": "stream",
          "name": "stdout",
          "text": [
            "2 is a positive value!\n"
          ]
        }
      ]
    },
    {
      "cell_type": "code",
      "source": [
        "num=0\n",
        "if num>0:\n",
        "  print(num, \"is a positive number!\")\n",
        "elif num<0:\n",
        "  print(num, \"is a negative number!\")\n",
        "else:\n",
        "  print(num, \"is neither positive nor negative!\")"
      ],
      "metadata": {
        "colab": {
          "base_uri": "https://localhost:8080/"
        },
        "id": "A_lyaPSq_bRq",
        "outputId": "e0878b48-914d-4de5-8e51-7ba1f9366c72"
      },
      "id": "A_lyaPSq_bRq",
      "execution_count": null,
      "outputs": [
        {
          "output_type": "stream",
          "name": "stdout",
          "text": [
            "0 is neither positive nor negative!\n"
          ]
        }
      ]
    },
    {
      "cell_type": "code",
      "source": [
        "#Create an if elif and else statement, where the user gets remarks for the ratings given:\n",
        "#5 is Excellent\n",
        "#4 is Good\n",
        "#3 is Average\n",
        "#2 is Bad\n",
        "#1 is Horrible\n",
        "#>5 & <1 is Invalid Rating"
      ],
      "metadata": {
        "id": "TbA91FQvAyeJ"
      },
      "id": "TbA91FQvAyeJ",
      "execution_count": null,
      "outputs": []
    },
    {
      "cell_type": "code",
      "source": [
        "rating=round(float(input(\"Enter the Rating: \")))\n",
        "if rating==5:\n",
        "  print('Excellent')\n",
        "elif rating==4:\n",
        "  print('Good')\n",
        "elif rating==3:\n",
        "  print('Average')\n",
        "elif rating==2:\n",
        "  print('Bad')\n",
        "elif rating==1:\n",
        "  print('Horrible')\n",
        "else:\n",
        "  print('Invalid Rating')"
      ],
      "metadata": {
        "colab": {
          "base_uri": "https://localhost:8080/"
        },
        "id": "rgMQh0CHAyhB",
        "outputId": "ac7b064f-1b04-48e1-a3b1-9ac7ecc53171"
      },
      "id": "rgMQh0CHAyhB",
      "execution_count": null,
      "outputs": [
        {
          "output_type": "stream",
          "name": "stdout",
          "text": [
            "Enter the Rating: 3.6\n",
            "Good\n"
          ]
        }
      ]
    },
    {
      "cell_type": "code",
      "source": [],
      "metadata": {
        "id": "y8J26MSg_bUN"
      },
      "id": "y8J26MSg_bUN",
      "execution_count": null,
      "outputs": []
    },
    {
      "cell_type": "code",
      "execution_count": null,
      "id": "9cceb303",
      "metadata": {
        "id": "9cceb303"
      },
      "outputs": [],
      "source": [
        "num=-5\n",
        "if num < 0:\n",
        "    print(num, \"is a negative number\")"
      ]
    },
    {
      "cell_type": "code",
      "source": [
        "num=-5\n",
        "if num < 0:\n",
        "  c=num*(-1)\n",
        "  print(c)"
      ],
      "metadata": {
        "id": "qzJ3wWk0KdPd"
      },
      "id": "qzJ3wWk0KdPd",
      "execution_count": null,
      "outputs": []
    },
    {
      "cell_type": "code",
      "execution_count": null,
      "id": "d0a4b3ef",
      "metadata": {
        "id": "d0a4b3ef"
      },
      "outputs": [],
      "source": [
        "num=-6\n",
        "if num<0:\n",
        "    print(\"It is a negative number\")"
      ]
    },
    {
      "cell_type": "code",
      "execution_count": null,
      "id": "09cec38f",
      "metadata": {
        "id": "09cec38f"
      },
      "outputs": [],
      "source": [
        "num=-5\n",
        "if (num > 0):\n",
        "  print(num, \"is a positive number.\")\n",
        "\n",
        "print(\"This is always printed.\")"
      ]
    },
    {
      "cell_type": "code",
      "source": [
        "num=-5\n",
        "if (num < 0):\n",
        "  print(num, \"is a negative number.\")\n",
        "\n",
        "print(\"This is always printed.\")"
      ],
      "metadata": {
        "id": "9YtP9LroMWeY"
      },
      "id": "9YtP9LroMWeY",
      "execution_count": null,
      "outputs": []
    },
    {
      "cell_type": "code",
      "execution_count": null,
      "id": "bbd53ed9",
      "metadata": {
        "colab": {
          "base_uri": "https://localhost:8080/"
        },
        "id": "bbd53ed9",
        "outputId": "fbb2e805-31c3-424c-8966-c7195d97f73f"
      },
      "outputs": [
        {
          "output_type": "stream",
          "name": "stdout",
          "text": [
            "-6 is a negative number\n"
          ]
        }
      ],
      "source": [
        "#If else:\n",
        "num = -6\n",
        "if(num>=0):\n",
        "  print(num, \"is either positive or zero\")\n",
        "else:\n",
        "  print(num, \"is a negative number\")"
      ]
    },
    {
      "cell_type": "code",
      "execution_count": null,
      "id": "10e73903",
      "metadata": {
        "id": "10e73903",
        "colab": {
          "base_uri": "https://localhost:8080/"
        },
        "outputId": "06febdbe-6797-4194-c44d-b5dd46b2f05b"
      },
      "outputs": [
        {
          "output_type": "stream",
          "name": "stdout",
          "text": [
            "-8 is a negative number or zero\n"
          ]
        }
      ],
      "source": [
        "num=-8\n",
        "if num<=0:\n",
        "    print(num, \"is a negative number or zero\")\n",
        "else:\n",
        "    print(num, 'is positive')"
      ]
    },
    {
      "cell_type": "code",
      "execution_count": null,
      "id": "9081975d",
      "metadata": {
        "colab": {
          "base_uri": "https://localhost:8080/"
        },
        "id": "9081975d",
        "outputId": "a4a09182-a505-4084-8129-a7a735ef36f0"
      },
      "outputs": [
        {
          "output_type": "stream",
          "name": "stdout",
          "text": [
            "0 is neither positive nor negative\n"
          ]
        }
      ],
      "source": [
        "#if, elif & else\n",
        "num=0\n",
        "if (num>0):\n",
        "    print(num, 'is a positive number')\n",
        "elif (num<0):\n",
        "    print(num, 'is a negative number')\n",
        "else:\n",
        "    print(num, 'is neither positive nor negative')"
      ]
    },
    {
      "cell_type": "code",
      "source": [
        "marks=36\n",
        "if(marks>35):\n",
        "  print(marks,\"is a passing marks\")\n",
        "elif (marks<35):\n",
        "  print(marks,\" is a failing marks\")\n",
        "else:\n",
        "  print(marks,\"just passed\")"
      ],
      "metadata": {
        "id": "25nFUH7gFK-2"
      },
      "id": "25nFUH7gFK-2",
      "execution_count": null,
      "outputs": []
    },
    {
      "cell_type": "code",
      "source": [
        "#0-34 = Fail\n",
        "#35-59 = Second Division\n",
        "#60-74 = First Division\n",
        "#>=75 = Distinction"
      ],
      "metadata": {
        "id": "B4rE378RQgcd"
      },
      "id": "B4rE378RQgcd",
      "execution_count": null,
      "outputs": []
    },
    {
      "cell_type": "code",
      "source": [
        "#For integer input\n",
        "marks=80\n",
        "if (marks<0) | ((marks>=0) & (marks<=34)):\n",
        "  print(marks,'Fail')\n",
        "elif marks in range(35,60):\n",
        "  print(marks,'Second Division')\n",
        "elif marks in range(60,75):\n",
        "  print(marks,'First Division')\n",
        "else:\n",
        "  print(marks,'Distinction')"
      ],
      "metadata": {
        "colab": {
          "base_uri": "https://localhost:8080/"
        },
        "id": "FsIGruxsSUCk",
        "outputId": "b853fde0-af38-4502-b243-8fb89fc3149d"
      },
      "id": "FsIGruxsSUCk",
      "execution_count": null,
      "outputs": [
        {
          "output_type": "stream",
          "name": "stdout",
          "text": [
            "80 Distinction\n"
          ]
        }
      ]
    },
    {
      "cell_type": "code",
      "source": [
        "#For marks in float data type.\n",
        "marks=67.2\n",
        "if (marks<0) | ((marks>=0) & (marks<=34)):\n",
        "  print(marks,'Fail')\n",
        "elif (marks>=35) & (marks<60):\n",
        "  print(marks,'Second Division')\n",
        "elif (marks>=60) & (marks<75):\n",
        "  print(marks,'First Division')\n",
        "else:\n",
        "  print(marks,'Distinction')"
      ],
      "metadata": {
        "colab": {
          "base_uri": "https://localhost:8080/"
        },
        "id": "Ik_MUpdAWuzy",
        "outputId": "6ef400a4-0223-4a5b-9305-d5cc04dc80e1"
      },
      "id": "Ik_MUpdAWuzy",
      "execution_count": null,
      "outputs": [
        {
          "output_type": "stream",
          "name": "stdout",
          "text": [
            "67.2 First Division\n"
          ]
        }
      ]
    },
    {
      "cell_type": "code",
      "source": [
        "marks=0\n",
        "if (marks<0) | (marks in range(0,35)):\n",
        "  print(marks,'is Fail')\n",
        "elif marks in range(35,60):\n",
        "  print(marks,'Second Division')\n",
        "elif marks in range(60,75):\n",
        "  print(marks,'First Division')\n",
        "else:\n",
        "  print(marks,'Distinction')"
      ],
      "metadata": {
        "id": "U64g5qYRPjwx"
      },
      "id": "U64g5qYRPjwx",
      "execution_count": null,
      "outputs": []
    },
    {
      "cell_type": "code",
      "source": [
        "marks = int(input(\"Enter your marks: \"))\n",
        "if (marks<0) | (marks in range(0,35)):\n",
        "  print(marks,'is Fail')\n",
        "elif marks in range(35,60):\n",
        "  print(marks,'Second Division')\n",
        "elif marks in range(60,75):\n",
        "  print(marks,'First Division')\n",
        "else:\n",
        "  print(marks,'Distinction')"
      ],
      "metadata": {
        "id": "gMU0BSDAnI9E",
        "colab": {
          "base_uri": "https://localhost:8080/"
        },
        "outputId": "1188d351-8a3f-42a5-8348-2c6d4376588e"
      },
      "id": "gMU0BSDAnI9E",
      "execution_count": null,
      "outputs": [
        {
          "output_type": "stream",
          "name": "stdout",
          "text": [
            "Enter your marks: 35\n",
            "35 Second Division\n"
          ]
        }
      ]
    },
    {
      "cell_type": "code",
      "source": [
        "#Taking the user input\n",
        "marks = int(input(\"Enter your marks: \"))\n",
        "if marks < 35:\n",
        "  print(marks, \"You have been failed\")\n",
        "elif (marks >= 35) & (marks < 60):\n",
        "  print(marks, \"You have passed with Second Division\")\n",
        "elif (marks >= 60) & (marks <75):\n",
        "  print(marks, \"You have passed with First Division\")\n",
        "elif marks >= 75:\n",
        "  print(marks, \"You have passed with a Distinction\")"
      ],
      "metadata": {
        "id": "Qy4MIGQ7SzG2",
        "colab": {
          "base_uri": "https://localhost:8080/"
        },
        "outputId": "96bef28f-19f4-47bf-fb44-f2d8c43a4dac"
      },
      "id": "Qy4MIGQ7SzG2",
      "execution_count": null,
      "outputs": [
        {
          "output_type": "stream",
          "name": "stdout",
          "text": [
            "Enter your marks: 60\n",
            "60 You have passed with First Division\n"
          ]
        }
      ]
    },
    {
      "cell_type": "code",
      "source": [
        "review = 5\n",
        "if(review>6):\n",
        "    print('Movie is HIT')\n",
        "elif(review>=4 & review<=6):\n",
        "    print('movie is One time Worth-Watch')\n",
        "elif(review>=0 & review<=3) :\n",
        "    print('FLOP')\n",
        "else:\n",
        "    print('Wrong review no')\n"
      ],
      "metadata": {
        "id": "MP2SUECoFyj3"
      },
      "id": "MP2SUECoFyj3",
      "execution_count": null,
      "outputs": []
    },
    {
      "cell_type": "code",
      "execution_count": null,
      "id": "96e10759",
      "metadata": {
        "id": "96e10759"
      },
      "outputs": [],
      "source": [
        "num=3\n",
        "if (num>0):\n",
        "    print(num, 'is a positive number')\n",
        "elif (num<0):\n",
        "    print(num, 'is a negative number')\n",
        "else:\n",
        "    print(num, 'is neither positive nor negative')"
      ]
    },
    {
      "cell_type": "code",
      "execution_count": null,
      "id": "96ea88e7",
      "metadata": {
        "id": "96ea88e7"
      },
      "outputs": [],
      "source": [
        "rating=40\n",
        "if rating==5:\n",
        "    print(\"Excellent\")\n",
        "elif rating in range(3,5):\n",
        "    print(\"Good\")\n",
        "else:\n",
        "    print(\"Poor\")"
      ]
    },
    {
      "cell_type": "code",
      "execution_count": null,
      "id": "916d64ab",
      "metadata": {
        "id": "916d64ab"
      },
      "outputs": [],
      "source": [
        "rating=40\n",
        "if rating>=5:\n",
        "    print(\"Excellent\")\n",
        "elif rating in range(3,5):\n",
        "    print(\"Good\")\n",
        "else:\n",
        "    print(\"Poor\")"
      ]
    },
    {
      "cell_type": "code",
      "execution_count": null,
      "id": "bae4c7fb",
      "metadata": {
        "id": "bae4c7fb"
      },
      "outputs": [],
      "source": [
        "phvalue =7\n",
        "if phvalue >7:\n",
        "    print(' it is acid')\n",
        "elif phvalue <7:\n",
        "    print('it is base')\n",
        "else:\n",
        "    print('it is neutral')"
      ]
    },
    {
      "cell_type": "code",
      "execution_count": null,
      "id": "824401c2",
      "metadata": {
        "id": "824401c2"
      },
      "outputs": [],
      "source": [
        "displacement=360\n",
        "if displacement>350:\n",
        "    print(\"It has high engine capacity\")\n",
        "elif displacement==350:\n",
        "    print(\"Engine has more torque\")\n",
        "else:\n",
        "    print(\"Engine has normal Torque\")"
      ]
    },
    {
      "cell_type": "code",
      "execution_count": null,
      "id": "34051dca",
      "metadata": {
        "id": "34051dca"
      },
      "outputs": [],
      "source": [
        "marks  = 20\n",
        "if( marks >= 70):\n",
        "    print(\"first class\")\n",
        "elif marks in range (50,80):\n",
        "    print(\"second class\")\n",
        "elif marks in range (30,49):\n",
        "    print(\"Third class\")\n",
        "else:\n",
        "    print(\"Fail\")"
      ]
    },
    {
      "cell_type": "code",
      "execution_count": null,
      "id": "41afef59",
      "metadata": {
        "id": "41afef59"
      },
      "outputs": [],
      "source": [
        "rating=6\n",
        "if (rating>=8):\n",
        "    print(\"the product is excellent\")\n",
        "elif (rating>=6) & (rating<8):\n",
        "    print(\"the product is good\")\n",
        "elif (rating>=4) & (rating<6):\n",
        "    print(\"the product is average\")\n",
        "else:\n",
        "    print(\"the product is bad\")"
      ]
    },
    {
      "cell_type": "code",
      "source": [
        "list1=[41,56,12,52,41,48,57,59,53,82,93,69,74,14,15,25,65]\n",
        "list2=[]\n",
        "for i in list1:\n",
        "  if i%2==0:\n",
        "    list2.append(i)\n",
        "\n",
        "print(list2)"
      ],
      "metadata": {
        "colab": {
          "base_uri": "https://localhost:8080/"
        },
        "id": "6RE8pFH5KlEc",
        "outputId": "b52515eb-f4d5-4874-f5b1-961b57931368"
      },
      "id": "6RE8pFH5KlEc",
      "execution_count": null,
      "outputs": [
        {
          "output_type": "stream",
          "name": "stdout",
          "text": [
            "[56, 12, 52, 48, 82, 74, 14]\n"
          ]
        }
      ]
    },
    {
      "cell_type": "code",
      "source": [
        "a=round(float(input(\"Enter a Number: \")))\n",
        "print(\"The factors of\",a, \"are as below:\")\n",
        "for i in range(1,a+1):\n",
        "  if a%i==0:\n",
        "    print(i)"
      ],
      "metadata": {
        "colab": {
          "base_uri": "https://localhost:8080/"
        },
        "id": "XJl3s1k5RY5Y",
        "outputId": "ff914a39-9ac4-4c7c-e18a-9b4f1afe5662"
      },
      "id": "XJl3s1k5RY5Y",
      "execution_count": null,
      "outputs": [
        {
          "output_type": "stream",
          "name": "stdout",
          "text": [
            "Enter a Number: 23.6\n",
            "The factors of 24 are as below:\n",
            "1\n",
            "2\n",
            "3\n",
            "4\n",
            "6\n",
            "8\n",
            "12\n",
            "24\n"
          ]
        }
      ]
    },
    {
      "cell_type": "markdown",
      "source": [
        "- Suppose we input the value 10 for a.\n",
        "- The command 'for i in range(1,a+1)' means all values from 1 to 10. Therefore 'i' will iterate through [1,2,3,4,5,6,7,8,9,10]\n",
        "- And 'a' is the input given by user, hence in the example here, a=10.\n",
        "- So the first value for i will be considered as 1, so if a%i==0 means if 10%1==0, which means if I divide the input 10 by 1, I get a the remainder 0. If this condition is true, then print that value i, i.e. 1.\n",
        "- Then, go to the next element in the range, ie. 2. Do we get a remainder 0 when we divide 10 by 2? Yes, hence it will print 2 as well.\n",
        "- Then go to value 3, repeat the step.\n",
        "- This will print all the factors of the user input given in variable a."
      ],
      "metadata": {
        "id": "bmAghnPCSoAc"
      },
      "id": "bmAghnPCSoAc"
    },
    {
      "cell_type": "code",
      "execution_count": null,
      "id": "66cf1329",
      "metadata": {
        "colab": {
          "base_uri": "https://localhost:8080/"
        },
        "id": "66cf1329",
        "outputId": "afc0bdb0-d67d-4ecc-f5ef-14b489440594"
      },
      "outputs": [
        {
          "output_type": "execute_result",
          "data": {
            "text/plain": [
              "array([ 54,   3,  39,  77,  47,  94,   4,  96,  45,  50,  29,  45,  51,\n",
              "        56,  96,  67,  18,  63,  16,  28,  77,  82,  27,  42,  34,  94,\n",
              "        48,  83,  37,  98,  47,  58,   2,   4,  38,  88,   7,  25,   6,\n",
              "        15,  25,  40,  72,  81,  82,  24,  95,  30,   4,  70,  78,  41,\n",
              "        72,  97,  89,  99,  68,  67,  97,  41,  43,  45,  97,  98,  64,\n",
              "        56,  81,  75,  83,  21,  68,   8,  61,  24,  53,  43,  88,  31,\n",
              "        92,  21,  85,   6,  92,   6,  66,  86,  44,  94,  67,  30,  98,\n",
              "        52,  29,   9,  38,  14,  51,  65,  99,  60,   1,  32,  90,  91,\n",
              "        95,  99,  38,  23,  62, 100,  98,  19,  33,  18,  81,   6,  72,\n",
              "        48,  46,  21,  97,  52,  62,  72,  61,  50,  29,  55,  65,  15,\n",
              "        69,  67,  84,   6,  97,  26,   7,  19,  98,  27,  23,   8,  55,\n",
              "         2,   2,  76,  71,  85,  23,  44,  12,  69,  11,  75,   2,  10,\n",
              "        97,  59,  19,  84,  48,  15,  52,  98,  40,  64,  62,  43,  93,\n",
              "        20,  41,  31,   0,  63,  10,  14,  83,  89,  40,  84,  14,  32,\n",
              "        23,   9,  35,  22,  54,  58,  47,  17,  95,  48,  52,  87,  47,\n",
              "        73,   4,  71,  30,  43])"
            ]
          },
          "metadata": {},
          "execution_count": 19
        }
      ],
      "source": [
        "import numpy as np\n",
        "a=np.random.randint(0,101,200)\n",
        "a"
      ]
    },
    {
      "cell_type": "code",
      "source": [
        "mult_3=[]\n",
        "for i in a:\n",
        "  if i%3==0:\n",
        "    mult_3.append(i)\n",
        "    print(i)\n",
        "\n",
        "print(mult_3)"
      ],
      "metadata": {
        "colab": {
          "base_uri": "https://localhost:8080/"
        },
        "id": "8RB1LYXoUaqB",
        "outputId": "eb058836-577f-47c0-da73-fd31367734f4"
      },
      "id": "8RB1LYXoUaqB",
      "execution_count": null,
      "outputs": [
        {
          "output_type": "stream",
          "name": "stdout",
          "text": [
            "54\n",
            "3\n",
            "39\n",
            "96\n",
            "45\n",
            "45\n",
            "51\n",
            "96\n",
            "18\n",
            "63\n",
            "27\n",
            "42\n",
            "48\n",
            "6\n",
            "15\n",
            "72\n",
            "81\n",
            "24\n",
            "30\n",
            "78\n",
            "72\n",
            "99\n",
            "45\n",
            "81\n",
            "75\n",
            "21\n",
            "24\n",
            "21\n",
            "6\n",
            "6\n",
            "66\n",
            "30\n",
            "9\n",
            "51\n",
            "99\n",
            "60\n",
            "90\n",
            "99\n",
            "33\n",
            "18\n",
            "81\n",
            "6\n",
            "72\n",
            "48\n",
            "21\n",
            "72\n",
            "15\n",
            "69\n",
            "84\n",
            "6\n",
            "27\n",
            "12\n",
            "69\n",
            "75\n",
            "84\n",
            "48\n",
            "15\n",
            "93\n",
            "0\n",
            "63\n",
            "84\n",
            "9\n",
            "54\n",
            "48\n",
            "87\n",
            "30\n"
          ]
        }
      ]
    },
    {
      "cell_type": "markdown",
      "source": [
        "- Consider the values in the array as marks of students.\n",
        "Write a loop so that each element from the array gives the result status, as Fail between (0-34), Second Division between (35-59), First Division Between (60-74) & Distinction for values equal to or above 75.\n",
        "\n",
        "- Write a loop to create a list of all prime numbers from the given array.\n",
        "\n",
        "- Write a loop to find all numbers from the given that are divisible by 2,3 & 6."
      ],
      "metadata": {
        "id": "Frfuz3_7dkMC"
      },
      "id": "Frfuz3_7dkMC"
    },
    {
      "cell_type": "code",
      "source": [],
      "metadata": {
        "id": "SVbHeeA7dIk7"
      },
      "id": "SVbHeeA7dIk7",
      "execution_count": null,
      "outputs": []
    },
    {
      "cell_type": "code",
      "source": [
        "import numpy as np\n",
        "a=np.random.randint(0,101,300)\n",
        "#print(a)\n",
        "Result_Status=[]\n",
        "for i in a:\n",
        "  if i < 35:\n",
        "    Result_Status.append(\"Failed\")\n",
        "  elif (i >= 35) & (i < 60):\n",
        "    Result_Status.append(\"Second Division\")\n",
        "  elif (i >= 60) & (i < 75):\n",
        "    Result_Status.append(\"First Division\")\n",
        "  else:\n",
        "    Result_Status.append(\"Distinction\")\n",
        "#print(Result_Status)"
      ],
      "metadata": {
        "id": "YHnL_qDkVHXS"
      },
      "id": "YHnL_qDkVHXS",
      "execution_count": 4,
      "outputs": []
    },
    {
      "cell_type": "code",
      "source": [
        "import pandas as pd\n",
        "Marks=pd.DataFrame()\n",
        "Marks['Marks']=pd.Series(a)\n",
        "Marks['Result']=pd.Series(Result_Status)\n",
        "#Marks.sort_values(by=['Marks'],axis=0)\n",
        "Marks"
      ],
      "metadata": {
        "id": "kZmnXY_fWvIJ",
        "colab": {
          "base_uri": "https://localhost:8080/",
          "height": 423
        },
        "outputId": "6b9b7374-b777-4cac-efbf-3ddc5a63fee8"
      },
      "id": "kZmnXY_fWvIJ",
      "execution_count": 3,
      "outputs": [
        {
          "output_type": "execute_result",
          "data": {
            "text/plain": [
              "     Marks           Result\n",
              "0       15           Failed\n",
              "1        1           Failed\n",
              "2       63   First Division\n",
              "3       16           Failed\n",
              "4       49  Second Division\n",
              "..     ...              ...\n",
              "295     12           Failed\n",
              "296     85      Distinction\n",
              "297     26           Failed\n",
              "298     48  Second Division\n",
              "299     88      Distinction\n",
              "\n",
              "[300 rows x 2 columns]"
            ],
            "text/html": [
              "\n",
              "  <div id=\"df-b7dbf51d-c9da-4628-9ee6-dc2281ad2bb0\">\n",
              "    <div class=\"colab-df-container\">\n",
              "      <div>\n",
              "<style scoped>\n",
              "    .dataframe tbody tr th:only-of-type {\n",
              "        vertical-align: middle;\n",
              "    }\n",
              "\n",
              "    .dataframe tbody tr th {\n",
              "        vertical-align: top;\n",
              "    }\n",
              "\n",
              "    .dataframe thead th {\n",
              "        text-align: right;\n",
              "    }\n",
              "</style>\n",
              "<table border=\"1\" class=\"dataframe\">\n",
              "  <thead>\n",
              "    <tr style=\"text-align: right;\">\n",
              "      <th></th>\n",
              "      <th>Marks</th>\n",
              "      <th>Result</th>\n",
              "    </tr>\n",
              "  </thead>\n",
              "  <tbody>\n",
              "    <tr>\n",
              "      <th>0</th>\n",
              "      <td>15</td>\n",
              "      <td>Failed</td>\n",
              "    </tr>\n",
              "    <tr>\n",
              "      <th>1</th>\n",
              "      <td>1</td>\n",
              "      <td>Failed</td>\n",
              "    </tr>\n",
              "    <tr>\n",
              "      <th>2</th>\n",
              "      <td>63</td>\n",
              "      <td>First Division</td>\n",
              "    </tr>\n",
              "    <tr>\n",
              "      <th>3</th>\n",
              "      <td>16</td>\n",
              "      <td>Failed</td>\n",
              "    </tr>\n",
              "    <tr>\n",
              "      <th>4</th>\n",
              "      <td>49</td>\n",
              "      <td>Second Division</td>\n",
              "    </tr>\n",
              "    <tr>\n",
              "      <th>...</th>\n",
              "      <td>...</td>\n",
              "      <td>...</td>\n",
              "    </tr>\n",
              "    <tr>\n",
              "      <th>295</th>\n",
              "      <td>12</td>\n",
              "      <td>Failed</td>\n",
              "    </tr>\n",
              "    <tr>\n",
              "      <th>296</th>\n",
              "      <td>85</td>\n",
              "      <td>Distinction</td>\n",
              "    </tr>\n",
              "    <tr>\n",
              "      <th>297</th>\n",
              "      <td>26</td>\n",
              "      <td>Failed</td>\n",
              "    </tr>\n",
              "    <tr>\n",
              "      <th>298</th>\n",
              "      <td>48</td>\n",
              "      <td>Second Division</td>\n",
              "    </tr>\n",
              "    <tr>\n",
              "      <th>299</th>\n",
              "      <td>88</td>\n",
              "      <td>Distinction</td>\n",
              "    </tr>\n",
              "  </tbody>\n",
              "</table>\n",
              "<p>300 rows × 2 columns</p>\n",
              "</div>\n",
              "      <button class=\"colab-df-convert\" onclick=\"convertToInteractive('df-b7dbf51d-c9da-4628-9ee6-dc2281ad2bb0')\"\n",
              "              title=\"Convert this dataframe to an interactive table.\"\n",
              "              style=\"display:none;\">\n",
              "        \n",
              "  <svg xmlns=\"http://www.w3.org/2000/svg\" height=\"24px\"viewBox=\"0 0 24 24\"\n",
              "       width=\"24px\">\n",
              "    <path d=\"M0 0h24v24H0V0z\" fill=\"none\"/>\n",
              "    <path d=\"M18.56 5.44l.94 2.06.94-2.06 2.06-.94-2.06-.94-.94-2.06-.94 2.06-2.06.94zm-11 1L8.5 8.5l.94-2.06 2.06-.94-2.06-.94L8.5 2.5l-.94 2.06-2.06.94zm10 10l.94 2.06.94-2.06 2.06-.94-2.06-.94-.94-2.06-.94 2.06-2.06.94z\"/><path d=\"M17.41 7.96l-1.37-1.37c-.4-.4-.92-.59-1.43-.59-.52 0-1.04.2-1.43.59L10.3 9.45l-7.72 7.72c-.78.78-.78 2.05 0 2.83L4 21.41c.39.39.9.59 1.41.59.51 0 1.02-.2 1.41-.59l7.78-7.78 2.81-2.81c.8-.78.8-2.07 0-2.86zM5.41 20L4 18.59l7.72-7.72 1.47 1.35L5.41 20z\"/>\n",
              "  </svg>\n",
              "      </button>\n",
              "      \n",
              "  <style>\n",
              "    .colab-df-container {\n",
              "      display:flex;\n",
              "      flex-wrap:wrap;\n",
              "      gap: 12px;\n",
              "    }\n",
              "\n",
              "    .colab-df-convert {\n",
              "      background-color: #E8F0FE;\n",
              "      border: none;\n",
              "      border-radius: 50%;\n",
              "      cursor: pointer;\n",
              "      display: none;\n",
              "      fill: #1967D2;\n",
              "      height: 32px;\n",
              "      padding: 0 0 0 0;\n",
              "      width: 32px;\n",
              "    }\n",
              "\n",
              "    .colab-df-convert:hover {\n",
              "      background-color: #E2EBFA;\n",
              "      box-shadow: 0px 1px 2px rgba(60, 64, 67, 0.3), 0px 1px 3px 1px rgba(60, 64, 67, 0.15);\n",
              "      fill: #174EA6;\n",
              "    }\n",
              "\n",
              "    [theme=dark] .colab-df-convert {\n",
              "      background-color: #3B4455;\n",
              "      fill: #D2E3FC;\n",
              "    }\n",
              "\n",
              "    [theme=dark] .colab-df-convert:hover {\n",
              "      background-color: #434B5C;\n",
              "      box-shadow: 0px 1px 3px 1px rgba(0, 0, 0, 0.15);\n",
              "      filter: drop-shadow(0px 1px 2px rgba(0, 0, 0, 0.3));\n",
              "      fill: #FFFFFF;\n",
              "    }\n",
              "  </style>\n",
              "\n",
              "      <script>\n",
              "        const buttonEl =\n",
              "          document.querySelector('#df-b7dbf51d-c9da-4628-9ee6-dc2281ad2bb0 button.colab-df-convert');\n",
              "        buttonEl.style.display =\n",
              "          google.colab.kernel.accessAllowed ? 'block' : 'none';\n",
              "\n",
              "        async function convertToInteractive(key) {\n",
              "          const element = document.querySelector('#df-b7dbf51d-c9da-4628-9ee6-dc2281ad2bb0');\n",
              "          const dataTable =\n",
              "            await google.colab.kernel.invokeFunction('convertToInteractive',\n",
              "                                                     [key], {});\n",
              "          if (!dataTable) return;\n",
              "\n",
              "          const docLinkHtml = 'Like what you see? Visit the ' +\n",
              "            '<a target=\"_blank\" href=https://colab.research.google.com/notebooks/data_table.ipynb>data table notebook</a>'\n",
              "            + ' to learn more about interactive tables.';\n",
              "          element.innerHTML = '';\n",
              "          dataTable['output_type'] = 'display_data';\n",
              "          await google.colab.output.renderOutput(dataTable, element);\n",
              "          const docLink = document.createElement('div');\n",
              "          docLink.innerHTML = docLinkHtml;\n",
              "          element.appendChild(docLink);\n",
              "        }\n",
              "      </script>\n",
              "    </div>\n",
              "  </div>\n",
              "  "
            ]
          },
          "metadata": {},
          "execution_count": 3
        }
      ]
    },
    {
      "cell_type": "code",
      "source": [
        "import random\n",
        "random.random()"
      ],
      "metadata": {
        "colab": {
          "base_uri": "https://localhost:8080/"
        },
        "id": "ahCrsHEHcC21",
        "outputId": "d5b2b9d6-0596-440a-e829-944aca9c798a"
      },
      "id": "ahCrsHEHcC21",
      "execution_count": null,
      "outputs": [
        {
          "output_type": "execute_result",
          "data": {
            "text/plain": [
              "0.0988091447183006"
            ]
          },
          "metadata": {},
          "execution_count": 3
        }
      ]
    },
    {
      "cell_type": "code",
      "source": [
        "import random\n",
        "marks=0\n",
        "while marks != random.random():\n",
        "    marks = int(input('Enter your marks(Enter 101 to exit) '))\n",
        "    if marks in range(0,101):\n",
        "      if marks in range(0,35):\n",
        "        print('Fail')\n",
        "      elif marks in range(35,60):\n",
        "        print('Second Class')\n",
        "      elif marks in range(60,75):\n",
        "        print('First Class')\n",
        "      else:\n",
        "        print('Distinction')\n",
        "    elif (marks == 101):\n",
        "      break\n",
        "    else :\n",
        "      print('Invalid value,Please enter value b/w 0-100')\n",
        "\n",
        "print(\"Thank You\")"
      ],
      "metadata": {
        "id": "fVlzXakRFzrb",
        "colab": {
          "base_uri": "https://localhost:8080/"
        },
        "outputId": "9aa85a4a-6a1b-4ca2-f9ee-633f8802f50a"
      },
      "id": "fVlzXakRFzrb",
      "execution_count": null,
      "outputs": [
        {
          "output_type": "stream",
          "name": "stdout",
          "text": [
            "Enter your marks(Enter 101 to exit) 56\n",
            "Second Class\n",
            "Enter your marks(Enter 101 to exit) 85\n",
            "Distinction\n",
            "Enter your marks(Enter 101 to exit) 96\n",
            "Distinction\n",
            "Enter your marks(Enter 101 to exit) 25\n",
            "Fail\n",
            "Enter your marks(Enter 101 to exit) 45\n",
            "Second Class\n",
            "Enter your marks(Enter 101 to exit) 101\n",
            "Thank You\n"
          ]
        }
      ]
    },
    {
      "cell_type": "code",
      "source": [
        "import random\n",
        "random.random()"
      ],
      "metadata": {
        "id": "50NYVJPjM44U"
      },
      "id": "50NYVJPjM44U",
      "execution_count": null,
      "outputs": []
    },
    {
      "cell_type": "code",
      "source": [
        "marks=0\n",
        "while True:\n",
        "  marks =int(input(\"marks\"))\n",
        "  if marks in range(0,101):\n",
        "    if marks in range(0,35):\n",
        "      print(\"fail\")\n",
        "    elif marks in range(35,60):\n",
        "      print(\"second class\")\n",
        "    elif marks in range(60,75):\n",
        "      print(\"first class\")\n",
        "    elif marks in range(75,101):\n",
        "      print(\"distinction\")\n",
        "  elif marks==101:\n",
        "    print(\"invalid value,please enter the value 0-100\")\n",
        "    break\n",
        "  else:\n",
        "    print('Invalid value,Please enter value b/w 0-100')"
      ],
      "metadata": {
        "id": "d6EZM8qgJfTb"
      },
      "id": "d6EZM8qgJfTb",
      "execution_count": null,
      "outputs": []
    },
    {
      "cell_type": "code",
      "source": [
        "random.random()"
      ],
      "metadata": {
        "id": "0plQUJ0cIESi"
      },
      "id": "0plQUJ0cIESi",
      "execution_count": null,
      "outputs": []
    },
    {
      "cell_type": "code",
      "source": [
        "list1 =[]\n",
        "a = np.random.randint(0,100,100)\n",
        "for i in a:\n",
        "    if i%7 == 0:\n",
        "        list1.append(i)"
      ],
      "metadata": {
        "id": "5-8Lv0Y4Lgw6"
      },
      "id": "5-8Lv0Y4Lgw6",
      "execution_count": null,
      "outputs": []
    },
    {
      "cell_type": "code",
      "source": [
        "print(a)\n",
        "print(list1)"
      ],
      "metadata": {
        "id": "brI_ZhBALqRX"
      },
      "id": "brI_ZhBALqRX",
      "execution_count": null,
      "outputs": []
    },
    {
      "cell_type": "code",
      "execution_count": null,
      "id": "53bb8c69",
      "metadata": {
        "id": "53bb8c69"
      },
      "outputs": [],
      "source": [
        "for i in a:\n",
        "  if (i%2==0) & (i%3==0):\n",
        "    print(i)"
      ]
    },
    {
      "cell_type": "code",
      "source": [
        "num = 24\n",
        "Fact_24=[]\n",
        "print(\"Factors of\", num)\n",
        "for i in range(1,num+1):    #i=[1,2,3,4,5.....24]\n",
        "  if(num % i)==0:\n",
        "    print(i)\n",
        "    Fact_24.append(i)\n",
        "\n",
        "print(Fact_24)"
      ],
      "metadata": {
        "id": "uAcQy16fJqyZ"
      },
      "id": "uAcQy16fJqyZ",
      "execution_count": null,
      "outputs": []
    },
    {
      "cell_type": "code",
      "execution_count": null,
      "id": "ba20928e",
      "metadata": {
        "id": "ba20928e"
      },
      "outputs": [],
      "source": [
        "even_nos=[]\n",
        "for i in a:\n",
        "    if i%2==0:\n",
        "        even_nos.append(i)\n",
        "\n",
        "print(even_nos)"
      ]
    },
    {
      "cell_type": "code",
      "execution_count": null,
      "id": "3e9e8c5d",
      "metadata": {
        "id": "3e9e8c5d"
      },
      "outputs": [],
      "source": [
        "new_list=[]\n",
        "for i in a:\n",
        "    if i!=0:\n",
        "        if (i%3==0):\n",
        "            new_list.append(i)\n",
        "        #print(i,end=', ')\n",
        "print(new_list)"
      ]
    },
    {
      "cell_type": "code",
      "execution_count": null,
      "id": "20870e27",
      "metadata": {
        "id": "20870e27"
      },
      "outputs": [],
      "source": [
        "new_list=[]\n",
        "for i in a:\n",
        "    flag = 0\n",
        "    for x in range(2, i):\n",
        "        if(i%x == 0):\n",
        "            flag +=1\n",
        "            break\n",
        "    if (flag == 0 and i!= 1):\n",
        "        new_list.append(i)\n",
        "print(new_list)"
      ]
    },
    {
      "cell_type": "code",
      "execution_count": 7,
      "id": "87b7c148",
      "metadata": {
        "id": "87b7c148",
        "colab": {
          "base_uri": "https://localhost:8080/"
        },
        "outputId": "5f3df442-e662-4178-c15f-330f4c4dea98"
      },
      "outputs": [
        {
          "output_type": "stream",
          "name": "stdout",
          "text": [
            "[50 33 90 41 76 24 42  1 44 13 82 77  1 55 54 52 66 16 43 50 36 81 29 10\n",
            " 37  7 68 16 90 27 77  2 30 72  8 21 70 53 28 88 55 49 38 34 50 13 41 26\n",
            " 57 79 71 68 51 53  9 12 42 87 87 51 27 52 93  8 41  3 64 15 18 71 52 85\n",
            " 58 21 43 24 64 66 77 36 41 73 21 10 72 96 24 81 95 48  6 96 55 99 90 11\n",
            " 33 94 47 55 87 85 71 46 26 63 30 24 85 18 99  8 53 42 29 93 14 10 36  9\n",
            " 79 76 55 23 82 86 85 97 89 68 31 38 64 24 92 93 15 17 49 33 46 14 40 86\n",
            " 83 65 32 62 14 42 78 15 50 98 16 77 73 65 77 78 26  9 54  7 99 79 70 26\n",
            " 40 14 60 48 89  5 73 13 94 41 34 79 97 69 58 50 57 71 56 25  5  0 49 64\n",
            " 36  1 48 41 53  7 32 48 97 58 66 11 78 73 72  4 72 53 33 95  0 36 37 20\n",
            " 52 27 43 38  9 44 72 84 65 98 64 31 75 26  5 76 73 57  6 18 89 51 33 12\n",
            "  3  8  4 11 84 59 71 13  3 14 68 33 11 21 24 64 38 39 14 73 78 30 75 93\n",
            " 90 92 51 23 94 81 76 60 61 78 82 89 29 42 58 83 36 82 70 41 34 86 56  3\n",
            " 28 72 89 44 98 27 71 56 22 72 92 27 32 46 48 10 17 95 14 91 28  0 47 64\n",
            " 40 60 92 26 38 93 28 74 41 68 62 75 92 65 66 49 11 89 17 65 55 94 90 32\n",
            " 25 28 89 55 63 85 81 60 48 67 50 19 59 83 72 39 19  6 12  3 39 54 43 78\n",
            " 66 20 25 87 97 11 25 39 34 82 18 79 91 59  6 74 35 94 59 74 66 80 20 28\n",
            " 33  9 77 42 96 10 32 44 36 65 99 50 22  5 19 92 25 14 81 12 92 63 14 36\n",
            " 20 22  2 93 18 34 48 30 56 24 40 35 74 86 99 71 24 88  3 56 35 12 88 68\n",
            " 37 46 68 82 32 54 72  6 66 66 64 10 25 38 46 44 99 63 97 40 59 27 50 25\n",
            " 29 49 36  2 23 83 32 82 62 37 80 72 61 55 49 15 27  7 73 21 91 81 88 44\n",
            "  3 32 87 86 39 97 93  0 30 39 73 55 82 14 79 35 21 23 72  0]\n"
          ]
        },
        {
          "output_type": "execute_result",
          "data": {
            "text/plain": [
              "[41,\n",
              " 13,\n",
              " 43,\n",
              " 29,\n",
              " 37,\n",
              " 7,\n",
              " 2,\n",
              " 53,\n",
              " 13,\n",
              " 41,\n",
              " 79,\n",
              " 71,\n",
              " 53,\n",
              " 41,\n",
              " 3,\n",
              " 71,\n",
              " 43,\n",
              " 41,\n",
              " 73,\n",
              " 11,\n",
              " 47,\n",
              " 71,\n",
              " 53,\n",
              " 29,\n",
              " 79,\n",
              " 23,\n",
              " 97,\n",
              " 89,\n",
              " 31,\n",
              " 17,\n",
              " 83,\n",
              " 73,\n",
              " 7,\n",
              " 79,\n",
              " 89,\n",
              " 5,\n",
              " 73,\n",
              " 13,\n",
              " 41,\n",
              " 79,\n",
              " 97,\n",
              " 71,\n",
              " 5,\n",
              " 41,\n",
              " 53,\n",
              " 7,\n",
              " 97,\n",
              " 11,\n",
              " 73,\n",
              " 53,\n",
              " 37,\n",
              " 43,\n",
              " 31,\n",
              " 5,\n",
              " 73,\n",
              " 89,\n",
              " 3,\n",
              " 11,\n",
              " 59,\n",
              " 71,\n",
              " 13,\n",
              " 3,\n",
              " 11,\n",
              " 73,\n",
              " 23,\n",
              " 61,\n",
              " 89,\n",
              " 29,\n",
              " 83,\n",
              " 41,\n",
              " 3,\n",
              " 89,\n",
              " 71,\n",
              " 17,\n",
              " 47,\n",
              " 41,\n",
              " 11,\n",
              " 89,\n",
              " 17,\n",
              " 89,\n",
              " 67,\n",
              " 19,\n",
              " 59,\n",
              " 83,\n",
              " 19,\n",
              " 3,\n",
              " 43,\n",
              " 97,\n",
              " 11,\n",
              " 79,\n",
              " 59,\n",
              " 59,\n",
              " 5,\n",
              " 19,\n",
              " 2,\n",
              " 71,\n",
              " 3,\n",
              " 37,\n",
              " 97,\n",
              " 59,\n",
              " 29,\n",
              " 2,\n",
              " 23,\n",
              " 83,\n",
              " 37,\n",
              " 61,\n",
              " 7,\n",
              " 73,\n",
              " 3,\n",
              " 97,\n",
              " 73,\n",
              " 79,\n",
              " 23]"
            ]
          },
          "metadata": {},
          "execution_count": 7
        }
      ],
      "source": [
        "import numpy as np\n",
        "a=np.random.randint(0,100,500)\n",
        "print(a)\n",
        "prime_nos=[]\n",
        "for i in a:\n",
        "    if i!=0 and i!=1:\n",
        "        count=0\n",
        "        for j in range(2,i):    #i=2,3,4,5......13\n",
        "            if i%j==0:\n",
        "                count+=1\n",
        "        if count==0:\n",
        "            prime_nos.append(i)\n",
        "\n",
        "prime_nos"
      ]
    },
    {
      "cell_type": "code",
      "execution_count": 9,
      "id": "89a91594",
      "metadata": {
        "id": "89a91594",
        "colab": {
          "base_uri": "https://localhost:8080/"
        },
        "outputId": "688a432f-a9e8-4f0a-d9f0-411f5f57975e"
      },
      "outputs": [
        {
          "output_type": "execute_result",
          "data": {
            "text/plain": [
              "[0,\n",
              " 1,\n",
              " 4,\n",
              " 6,\n",
              " 10,\n",
              " 15,\n",
              " 17,\n",
              " 20,\n",
              " 23,\n",
              " 25,\n",
              " 28,\n",
              " 29,\n",
              " 30,\n",
              " 32,\n",
              " 33,\n",
              " 35,\n",
              " 37,\n",
              " 39,\n",
              " 45,\n",
              " 46,\n",
              " 48,\n",
              " 49,\n",
              " 54,\n",
              " 55,\n",
              " 56,\n",
              " 57,\n",
              " 61,\n",
              " 63,\n",
              " 65,\n",
              " 69,\n",
              " 70,\n",
              " 78,\n",
              " 80,\n",
              " 82,\n",
              " 83,\n",
              " 85,\n",
              " 86,\n",
              " 88,\n",
              " 92,\n",
              " 93,\n",
              " 99]"
            ]
          },
          "metadata": {},
          "execution_count": 9
        }
      ],
      "source": [
        "import numpy as np\n",
        "a=np.random.randint(0,100,50)\n",
        "unique_a=[]\n",
        "for i in a:\n",
        "  if i not in unique_a:\n",
        "    unique_a.append(i)\n",
        "\n",
        "sorted(unique_a)"
      ]
    },
    {
      "cell_type": "code",
      "execution_count": null,
      "id": "700848c5",
      "metadata": {
        "id": "700848c5"
      },
      "outputs": [],
      "source": [
        "new_list=[]\n",
        "for i in a:\n",
        "    flag = 0\n",
        "    for x in range(2, i):\n",
        "        if(i%x == 0):\n",
        "            flag +=1\n",
        "            break\n",
        "\n",
        "    if (flag == 0 and i!= 1 and i!=0):\n",
        "        new_list.append(i)\n",
        "print(new_list)"
      ]
    },
    {
      "cell_type": "code",
      "execution_count": null,
      "id": "59ff59d1",
      "metadata": {
        "id": "59ff59d1"
      },
      "outputs": [],
      "source": [
        "Prime_numbers=[]\n",
        "for i in a:\n",
        "        if i%i==0 and i%1==0 and i%2==1 and i>=2:\n",
        "            Prime_numbers.append(i)\n",
        "\n",
        "print(Prime_numbers)"
      ]
    },
    {
      "cell_type": "code",
      "execution_count": null,
      "id": "9c08047d",
      "metadata": {
        "id": "9c08047d"
      },
      "outputs": [],
      "source": [
        "a=[5,7,9,4,8]"
      ]
    },
    {
      "cell_type": "code",
      "execution_count": null,
      "id": "beebc383",
      "metadata": {
        "id": "beebc383"
      },
      "outputs": [],
      "source": [
        "a=[5,7,9,4,8]\n",
        "min_val=a[0]\n",
        "for val in a:\n",
        "    if val < min_val:\n",
        "        min_val=val\n",
        "\n",
        "print(min_val)"
      ]
    },
    {
      "cell_type": "code",
      "execution_count": null,
      "id": "5e1b1cd0",
      "metadata": {
        "id": "5e1b1cd0"
      },
      "outputs": [],
      "source": [
        "## Define a function with conditional statement\n",
        "\n",
        "def max_num(num1,num2,num3):\n",
        "    if (num1>=num2) and (num1>=num3):\n",
        "        return num1\n",
        "    elif (num2>=num1) and (num2>=num3):\n",
        "        return num2\n",
        "    else:\n",
        "        return num3\n",
        "\n",
        "max_num(80,141,3)"
      ]
    },
    {
      "cell_type": "code",
      "execution_count": null,
      "id": "80b65d1a",
      "metadata": {
        "id": "80b65d1a"
      },
      "outputs": [],
      "source": [
        "max_num(400,60,1150)"
      ]
    },
    {
      "cell_type": "code",
      "execution_count": null,
      "id": "69a06555",
      "metadata": {
        "id": "69a06555"
      },
      "outputs": [],
      "source": [
        "# Nested If\n",
        "num = int(input(\"Enter a number: \"))\n",
        "if (num >= 0):\n",
        "    if (num == 0):\n",
        "        print(\"Zero\")\n",
        "    else:\n",
        "        print(\"Positive number\")\n",
        "else:\n",
        "    print(\"Negative number\")"
      ]
    },
    {
      "cell_type": "code",
      "execution_count": null,
      "id": "5fc49bbd",
      "metadata": {
        "id": "5fc49bbd"
      },
      "outputs": [],
      "source": [
        "############# Loops #####################\n",
        "# for Loop\n",
        "# for each item in sequence , last item reached , no - body of loop , yes , exit loop\n",
        "\n",
        "#Ex:1\n",
        "\n",
        "snacks = ['pizza','burger','shawarma','franky']\n",
        "\n",
        "for x in snacks:\n",
        "    print(x, \"is a yummy snack\")\n",
        "\n",
        "print(\"Good day!\")\n"
      ]
    },
    {
      "cell_type": "code",
      "execution_count": null,
      "id": "661f0ed2",
      "metadata": {
        "id": "661f0ed2"
      },
      "outputs": [],
      "source": [
        "x=[1,2,3,4,5,[6,7]]\n",
        "y=[1,2,3,[4,4.5],5,6]\n",
        "z=[1,[2,2.5],3,4,5,6]\n",
        "count=0\n",
        "for i in x:\n",
        "    for j in y:\n",
        "        for k in z:\n",
        "            count+=1\n",
        "\n",
        "print(count)"
      ]
    },
    {
      "cell_type": "code",
      "execution_count": null,
      "id": "da60a645",
      "metadata": {
        "id": "da60a645"
      },
      "outputs": [],
      "source": [
        "x=[1,2,3,4,5,6]\n",
        "y=[1,2,3,4,5,6]\n",
        "z=[1,2,3,4,5,6]\n",
        "for i in x:\n",
        "    for j in y:\n",
        "        for k in z:\n",
        "            print(i,j,k)"
      ]
    },
    {
      "cell_type": "code",
      "execution_count": null,
      "id": "aaba66d6",
      "metadata": {
        "id": "aaba66d6"
      },
      "outputs": [],
      "source": [
        "#Ex:2\n",
        "num = int(input(\"Please give a number: \"))\n",
        "factorial = 1\n",
        "if num < 0:\n",
        "    print(\"Number must be positive\")\n",
        "elif num == 0:\n",
        "    print(\"factorial = 1\")\n",
        "else:\n",
        "    for i in range(1,num+1):       #(If user gives input of 5, range will have the values [1,2,3,4,5], only if we give the upper limit in the range as num+1, i.e.6 in this case)\n",
        "        factorial = factorial * i   #range has now the values [1,2,3,4,5]\n",
        "        print(\"i at this iteration is:\", i)\n",
        "        print(\"factorial at this iteration is:\",factorial)\n",
        "\n",
        "    print(\"factorial =  \" ,factorial)\n",
        "\n",
        "#What is a factorial?\n",
        "#5*4*3*2*1\n",
        "#7*6*5*4*3*2*1"
      ]
    },
    {
      "cell_type": "code",
      "execution_count": null,
      "id": "909f1383",
      "metadata": {
        "id": "909f1383"
      },
      "outputs": [],
      "source": [
        "num = int(input('Enter a number'))\n",
        "if num == 0 & num == 1:\n",
        "    print(num,'number is neither prime nor composite')\n",
        "elif num > 1:\n",
        "    for i in range(2,num):\n",
        "        if(num%i == 0):\n",
        "            print(num,'is not a prime but composite number')\n",
        "        else:\n",
        "            print(num,'is a prime number not composite')\n",
        "else:\n",
        "    print('please enter positive number only')"
      ]
    },
    {
      "cell_type": "code",
      "execution_count": null,
      "id": "ce43c412",
      "metadata": {
        "id": "ce43c412"
      },
      "outputs": [],
      "source": [
        "x = range(5)\n",
        "for i in x:\n",
        "    print(i)"
      ]
    },
    {
      "cell_type": "code",
      "execution_count": null,
      "id": "aebaf9c5",
      "metadata": {
        "id": "aebaf9c5"
      },
      "outputs": [],
      "source": [
        "#Nested for loop\n",
        "\n",
        "for i in range(0,3):     #[0,1,2]\n",
        "    for j in range(0,3):  #[0,1,2]\n",
        "        print(i,j)"
      ]
    },
    {
      "cell_type": "code",
      "execution_count": null,
      "id": "1e245e30",
      "metadata": {
        "id": "1e245e30"
      },
      "outputs": [],
      "source": [
        "#Nested for loop\n",
        "\n",
        "for i in range(0,6):     #[0,1,2]\n",
        "    for j in range(0,3):  #[0,1,2]\n",
        "        print(i,j)"
      ]
    },
    {
      "cell_type": "code",
      "execution_count": null,
      "id": "b5d927aa",
      "metadata": {
        "id": "b5d927aa"
      },
      "outputs": [],
      "source": [
        "# For loop with else:\n",
        "digits = [0, 1, 5]\n",
        "\n",
        "for i in digits:\n",
        "    print(i)\n",
        "else:\n",
        "    print(\"No items left.\")"
      ]
    },
    {
      "cell_type": "code",
      "execution_count": null,
      "id": "2736a8f0",
      "metadata": {
        "id": "2736a8f0"
      },
      "outputs": [],
      "source": [
        "#To sum up float values upto nth float number\n",
        "########################## While Loop #############################\n",
        "# Program to add n natural numbers\n",
        "# sum = 1+2+3+...+n\n",
        "# To take input from the user\n",
        "n = int(input(\"Enter n: \"))\n",
        "# n = 5\n",
        "# initialize sum and counter\n",
        "sum_n = 0\n",
        "i = 1      #i=1,2,3,4,5\n",
        "while i <= n:\n",
        "    sum_n = sum_n + i      #sum_n = 10+5 = 15\n",
        "    i = i+1    # update counter    i= 5+1 = 6\n",
        "    print(\"sum:\", sum_n)\n",
        "    print(\"i:\" , i)\n",
        "\n",
        "# print the sum\n",
        "print(\"The sum is\", sum_n)"
      ]
    },
    {
      "cell_type": "code",
      "source": [
        "#To sum up float values upto nth float number\n",
        "n = round(float(input(\"Enter n: \")),2)\n",
        "# initialize sum and counter\n",
        "sum_n = 0\n",
        "i = 0\n",
        "while i <= n:\n",
        "    sum_n = sum_n + i      #sum_n = 10+5 = 15\n",
        "    i = i+0.01    # update counter    i= 5+1 = 6\n",
        "    print(\"sum:\", sum_n)\n",
        "    print(\"i:\" , i)\n",
        "\n",
        "# print the sum\n",
        "print(\"The sum is\", sum_n)"
      ],
      "metadata": {
        "id": "qGmfIgH6RxgA"
      },
      "id": "qGmfIgH6RxgA",
      "execution_count": null,
      "outputs": []
    },
    {
      "cell_type": "markdown",
      "id": "5833f2a0",
      "metadata": {
        "id": "5833f2a0"
      },
      "source": [
        "At the start,\n",
        "\n",
        "n= 4, i=1, sum=0\n",
        "\n",
        "Since i<=n   (1<4)\n",
        "\n",
        "sum= sum+i = 0+1 = 1\n",
        "\n",
        "i= i+1 = 1+1 = 2\n",
        "\n",
        "Still i<=n    (2<=4)\n",
        "\n",
        "sum= sum+i = 1+2 = 3\n",
        "\n",
        "i= i+1 = 2+1 = 3\n",
        "\n",
        "Still i<=n    (3<=4)\n",
        "\n",
        "sum= sum+i = 3+3 = 6\n",
        "\n",
        "i= i+1 = 3+1 = 4\n",
        "\n",
        "Still i<=n    (4<=4)\n",
        "\n",
        "sum= sum+i = 6+4 = 10\n",
        "\n",
        "i= i+1 = 4+1 = 5\n",
        "\n",
        "At this time 'while' condition no longer fulfills because i=5 & 5 is not <=4\n",
        "\n",
        "Hence the loop stops."
      ]
    },
    {
      "cell_type": "code",
      "source": [
        "a = int(input('enter a no'))\n",
        "list1 =[]\n",
        "i = 1\n",
        "sum1 = 0\n",
        "while i<=a:\n",
        "    if a%i ==0:\n",
        "        list1.append(i)\n",
        "        sum1 = sum1 +i\n",
        "    i +=1\n",
        "print(list1)\n",
        "print('sum of the factors',sum1)"
      ],
      "metadata": {
        "id": "Pvmrpg0_U943"
      },
      "id": "Pvmrpg0_U943",
      "execution_count": null,
      "outputs": []
    },
    {
      "cell_type": "code",
      "source": [
        "a=['abc','xyz','lmn','xyz',123,'xyz','jkl','xyz',123,'xyz','xyz','lmn','xyz',123]"
      ],
      "metadata": {
        "id": "OkXLgQcvVGkj"
      },
      "id": "OkXLgQcvVGkj",
      "execution_count": null,
      "outputs": []
    },
    {
      "cell_type": "code",
      "execution_count": null,
      "id": "fa8211c3",
      "metadata": {
        "id": "fa8211c3"
      },
      "outputs": [],
      "source": [
        "speed_limit=100\n",
        "speed_vehicle=0\n",
        "accelation =10\n",
        "\n",
        "while(speed_vehicle<speed_limit):\n",
        "    speed_vehicle=speed_vehicle+accelation\n",
        "    print('Speed of vehicle :',speed_vehicle)\n",
        "\n",
        "print('Speed is now :',speed_vehicle)"
      ]
    },
    {
      "cell_type": "code",
      "execution_count": null,
      "id": "070b2413",
      "metadata": {
        "id": "070b2413"
      },
      "outputs": [],
      "source": [
        "limit=100\n",
        "i=int(input(\"Current speed of your vehicle is: \"))\n",
        "print(i)\n",
        "while(i>limit):\n",
        "    print(\"!!SPEED LIMIT CROSSED!!\")\n",
        "    i=i-10\n",
        "    if i>limit:\n",
        "        print(\"SPEED is\",i,\"! YOU NEED TO REDUCE BELOW 100, YOU WILL BE FINED!!\")\n",
        "    else:\n",
        "        print(\"YOU ARE GOOD TO GO NOW\")"
      ]
    },
    {
      "cell_type": "code",
      "execution_count": null,
      "id": "c6b0a1e6",
      "metadata": {
        "id": "c6b0a1e6"
      },
      "outputs": [],
      "source": [
        "a=int(input(\"Please give a natural number: \"))\n",
        "b=list(range(1,a+1))\n",
        "print('range b:',b)\n",
        "# initialize sum and counter\n",
        "sum = 0\n",
        "while sum<b[-1]:\n",
        "    for m in b:\n",
        "        sum=sum+m\n",
        "        print(\"sum:\", sum)\n",
        "\n",
        "# print the sum\n",
        "print(\"The sum is\", sum)"
      ]
    },
    {
      "cell_type": "code",
      "execution_count": null,
      "id": "7393516f",
      "metadata": {
        "id": "7393516f"
      },
      "outputs": [],
      "source": [
        "b=[1,2,3,4,5,7]\n",
        "# initialize sum and counter\n",
        "sum = 0\n",
        "while sum<b[-1]:\n",
        "    for m in b:\n",
        "        sum=sum+m\n",
        "        print(\"sum:\", sum)\n",
        "\n",
        "# print the sum\n",
        "print(\"The sum is\", sum)"
      ]
    },
    {
      "cell_type": "code",
      "execution_count": null,
      "id": "b87c1300",
      "metadata": {
        "id": "b87c1300"
      },
      "outputs": [],
      "source": [
        "c=['a','v','n','i','s','h']\n",
        "c\n",
        "\n",
        "for i in c:\n",
        "    print(i,end='')"
      ]
    },
    {
      "cell_type": "code",
      "execution_count": null,
      "id": "528e467d",
      "metadata": {
        "id": "528e467d"
      },
      "outputs": [],
      "source": [
        "# While loop with else\n",
        "# Example to illustrate\n",
        "# the use of else statement\n",
        "# with the while loop\n",
        "\n",
        "counter = 0\n",
        "\n",
        "while counter < 3:\n",
        "    print(\"Inside loop\")\n",
        "    counter = counter + 1\n",
        "else:\n",
        "    print(\"Inside else\")"
      ]
    },
    {
      "cell_type": "code",
      "execution_count": null,
      "id": "c65b8fe8",
      "metadata": {
        "id": "c65b8fe8"
      },
      "outputs": [],
      "source": [
        "#Ex: 1\n",
        "count = 0\n",
        "while count < 20:\n",
        "    print(\"Digit: \", count)\n",
        "    count = count + 1\n",
        "\n",
        "print(\"Thank you\")"
      ]
    },
    {
      "cell_type": "code",
      "execution_count": null,
      "id": "7156f552",
      "metadata": {
        "id": "7156f552"
      },
      "outputs": [],
      "source": [
        "#Ex: 2\n",
        "\n",
        "import random\n",
        "\n",
        "n = 20\n",
        "\n",
        "random_number = int(n * random.random())\n",
        "\n",
        "guess = 0\n",
        "\n",
        "while guess != random_number:\n",
        "    guess = int(input(\"New Number: \"))\n",
        "    if guess > 0:\n",
        "        if guess > random_number:\n",
        "            print(\"number is too large\")\n",
        "        elif guess < random_number:\n",
        "            print(\"number is too small\")\n",
        "    else:\n",
        "        print(\"sorry that you are giveup!\")\n",
        "        break\n",
        "else:\n",
        "    print(\"Congratulations. YOU WON!\")"
      ]
    },
    {
      "cell_type": "code",
      "execution_count": null,
      "id": "bb5de436",
      "metadata": {
        "id": "bb5de436"
      },
      "outputs": [],
      "source": []
    },
    {
      "cell_type": "code",
      "execution_count": null,
      "id": "49259d73",
      "metadata": {
        "id": "49259d73"
      },
      "outputs": [],
      "source": [
        "a=10\n",
        "print(id(a))"
      ]
    },
    {
      "cell_type": "code",
      "execution_count": null,
      "id": "91c46429",
      "metadata": {
        "id": "91c46429"
      },
      "outputs": [],
      "source": [
        "id(10)"
      ]
    },
    {
      "cell_type": "code",
      "execution_count": null,
      "id": "de520e62",
      "metadata": {
        "id": "de520e62"
      },
      "outputs": [],
      "source": [
        "def min_num(num1,num2,num3,num4,num5):\n",
        "    if (num1<=num2) and (num1<=num3) and (num1<=num4) and (num1<=num5):\n",
        "        return num1\n",
        "    elif (num2<=num1) and (num2<=num3)and (num2<=num4)and (num2<=num5):\n",
        "        return num2\n",
        "    elif (num3<=num1) and (num3<=num2)and (num3<=num4)and (num3<=num5):\n",
        "        return num3\n",
        "    elif (num4<=num1) and (num4<=num2)and (num4<=num3)and (num4<=num5):\n",
        "        return num4\n",
        "    else:\n",
        "        return num5\n",
        "\n",
        "min_num(5,7,9,4,8)"
      ]
    },
    {
      "cell_type": "code",
      "execution_count": null,
      "id": "043bc989",
      "metadata": {
        "id": "043bc989"
      },
      "outputs": [],
      "source": [
        "a=[5,7,9,4,8]\n",
        "    if (a[0]<=a[0]) and (a[0]<=a[1]) and (a[0]<=a[2]) and (a[0]<=a[3]) and (a[0]<=a[4]):\n",
        "        return a[0]\n",
        "    elif (a[1]<=a[0]) and (a[1]<=a[1]) and (a[1]<=a[2]) and (a[1]<=a[3]) and (a[1]<=a[4]):\n",
        "        return num2\n",
        "    elif (num3<=num1) and (num3<=num2)and (num3<=num4)and (num3<=num5):\n",
        "        return num3\n",
        "    elif (num4<=num1) and (num4<=num2)and (num4<=num3)and (num4<=num5):\n",
        "        return num4\n",
        "    else:\n",
        "        return num5\n",
        "\n"
      ]
    },
    {
      "cell_type": "code",
      "source": [],
      "metadata": {
        "id": "P1aHV4a98Ap2"
      },
      "id": "P1aHV4a98Ap2",
      "execution_count": null,
      "outputs": []
    },
    {
      "cell_type": "code",
      "source": [],
      "metadata": {
        "id": "XSCkFPWx8Asn"
      },
      "id": "XSCkFPWx8Asn",
      "execution_count": null,
      "outputs": []
    },
    {
      "cell_type": "markdown",
      "source": [
        "- Generate an array of 300 values between 0 to 100.\n",
        "- Treat these values as marks scored by students in an exam.\n",
        "- Create a dataframe with a column with these marks, & another column where the remarks subjective to the marks are given as below\n",
        "\n",
        "1. Lesser than 35 is 'Fail'\n",
        "2. Greater than 35 & Lesser than or equal to 59 is 'Second Division'\n",
        "3. Greater than 59 & Lesser than or equal to 74 is 'First Division'\n",
        "4. Greater than 74 is 'Distinction'\n"
      ],
      "metadata": {
        "id": "kK4qoyuc8fjJ"
      },
      "id": "kK4qoyuc8fjJ"
    },
    {
      "cell_type": "markdown",
      "source": [
        "Create an array using numpy randint with 100 values, between 0 to 10.\n",
        "For every unique/distinct number in the array created using numpy randint, find the indices on which those numbers exist in that array using conditional statements and loops."
      ],
      "metadata": {
        "id": "kgYxOzYrBNID"
      },
      "id": "kgYxOzYrBNID"
    }
  ],
  "metadata": {
    "kernelspec": {
      "display_name": "Python 3 (ipykernel)",
      "language": "python",
      "name": "python3"
    },
    "language_info": {
      "codemirror_mode": {
        "name": "ipython",
        "version": 3
      },
      "file_extension": ".py",
      "mimetype": "text/x-python",
      "name": "python",
      "nbconvert_exporter": "python",
      "pygments_lexer": "ipython3",
      "version": "3.9.12"
    },
    "colab": {
      "provenance": []
    }
  },
  "nbformat": 4,
  "nbformat_minor": 5
}