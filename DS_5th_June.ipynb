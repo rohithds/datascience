{
  "nbformat": 4,
  "nbformat_minor": 0,
  "metadata": {
    "colab": {
      "provenance": []
    },
    "kernelspec": {
      "name": "python3",
      "display_name": "Python 3"
    },
    "language_info": {
      "name": "python"
    }
  },
  "cells": [
    {
      "cell_type": "code",
      "execution_count": null,
      "metadata": {
        "colab": {
          "base_uri": "https://localhost:8080/"
        },
        "id": "5CBE_0Sm0FmT",
        "outputId": "d08b348f-ceae-4311-c30a-3f1afde5dc26"
      },
      "outputs": [
        {
          "output_type": "execute_result",
          "data": {
            "text/plain": [
              "6"
            ]
          },
          "metadata": {},
          "execution_count": 4
        }
      ],
      "source": [
        "a=6\n",
        "a"
      ]
    },
    {
      "cell_type": "code",
      "source": [
        "a=9\n",
        "a"
      ],
      "metadata": {
        "colab": {
          "base_uri": "https://localhost:8080/"
        },
        "id": "FUqEQW9M11De",
        "outputId": "4cd36c09-2348-413a-f56f-818a515583f7"
      },
      "execution_count": null,
      "outputs": [
        {
          "output_type": "execute_result",
          "data": {
            "text/plain": [
              "9"
            ]
          },
          "metadata": {},
          "execution_count": 3
        }
      ]
    },
    {
      "cell_type": "code",
      "source": [
        "a=2\n",
        "print(a)\n",
        "a=8\n",
        "print(a)\n",
        "a=7\n",
        "a"
      ],
      "metadata": {
        "colab": {
          "base_uri": "https://localhost:8080/"
        },
        "id": "lvuiJQVQ2GxQ",
        "outputId": "4cbff601-bcc7-43fb-a891-ee60a6be8ca5"
      },
      "execution_count": null,
      "outputs": [
        {
          "output_type": "stream",
          "name": "stdout",
          "text": [
            "2\n",
            "8\n"
          ]
        },
        {
          "output_type": "execute_result",
          "data": {
            "text/plain": [
              "7"
            ]
          },
          "metadata": {},
          "execution_count": 6
        }
      ]
    },
    {
      "cell_type": "code",
      "source": [
        "A"
      ],
      "metadata": {
        "colab": {
          "base_uri": "https://localhost:8080/",
          "height": 169
        },
        "id": "fKNQB78T21Bh",
        "outputId": "79994917-df77-4c65-ae8a-e7ad5d2a8e4b"
      },
      "execution_count": null,
      "outputs": [
        {
          "output_type": "error",
          "ename": "NameError",
          "evalue": "ignored",
          "traceback": [
            "\u001b[0;31m---------------------------------------------------------------------------\u001b[0m",
            "\u001b[0;31mNameError\u001b[0m                                 Traceback (most recent call last)",
            "\u001b[0;32m<ipython-input-7-7d157d7c000a>\u001b[0m in \u001b[0;36m<cell line: 1>\u001b[0;34m()\u001b[0m\n\u001b[0;32m----> 1\u001b[0;31m \u001b[0mA\u001b[0m\u001b[0;34m\u001b[0m\u001b[0;34m\u001b[0m\u001b[0m\n\u001b[0m",
            "\u001b[0;31mNameError\u001b[0m: name 'A' is not defined"
          ]
        }
      ]
    },
    {
      "cell_type": "code",
      "source": [
        "1Python= 56"
      ],
      "metadata": {
        "colab": {
          "base_uri": "https://localhost:8080/",
          "height": 133
        },
        "id": "xrlbyXr_3IGU",
        "outputId": "5f73f35c-de68-47b8-f5ca-9c39007ffa4b"
      },
      "execution_count": null,
      "outputs": [
        {
          "output_type": "error",
          "ename": "SyntaxError",
          "evalue": "ignored",
          "traceback": [
            "\u001b[0;36m  File \u001b[0;32m\"<ipython-input-8-1535fa6b4228>\"\u001b[0;36m, line \u001b[0;32m1\u001b[0m\n\u001b[0;31m    1Python= 56\u001b[0m\n\u001b[0m    ^\u001b[0m\n\u001b[0;31mSyntaxError\u001b[0m\u001b[0;31m:\u001b[0m invalid decimal literal\n"
          ]
        }
      ]
    },
    {
      "cell_type": "code",
      "source": [
        "Python 1"
      ],
      "metadata": {
        "colab": {
          "base_uri": "https://localhost:8080/",
          "height": 133
        },
        "id": "GdegWjSp4i9N",
        "outputId": "57e4b3fd-c6c4-42f9-9e7c-d69bedefe4ae"
      },
      "execution_count": null,
      "outputs": [
        {
          "output_type": "error",
          "ename": "SyntaxError",
          "evalue": "ignored",
          "traceback": [
            "\u001b[0;36m  File \u001b[0;32m\"<ipython-input-13-9f82add120de>\"\u001b[0;36m, line \u001b[0;32m1\u001b[0m\n\u001b[0;31m    Python 1\u001b[0m\n\u001b[0m           ^\u001b[0m\n\u001b[0;31mSyntaxError\u001b[0m\u001b[0;31m:\u001b[0m invalid syntax\n"
          ]
        }
      ]
    },
    {
      "cell_type": "code",
      "source": [
        "Python_1 = 41"
      ],
      "metadata": {
        "id": "39v0GX983O3V"
      },
      "execution_count": null,
      "outputs": []
    },
    {
      "cell_type": "code",
      "source": [
        "Character/String\n",
        "Numerical : Integers, Float, Complex, Binary\n",
        "Boollean : True, False"
      ],
      "metadata": {
        "id": "-3BGFbZs3wWM"
      },
      "execution_count": null,
      "outputs": []
    },
    {
      "cell_type": "code",
      "source": [
        "56.3, 2,74,21.3,4,5,3,'Neha'"
      ],
      "metadata": {
        "id": "oCxXzEkV6Aii"
      },
      "execution_count": null,
      "outputs": []
    },
    {
      "cell_type": "code",
      "source": [
        "a = 5\n",
        "print(a)\n",
        "type(a)"
      ],
      "metadata": {
        "colab": {
          "base_uri": "https://localhost:8080/"
        },
        "id": "I2ljI0FT7TGV",
        "outputId": "14427d4c-7b81-42f9-c13c-15c9fbc02123"
      },
      "execution_count": null,
      "outputs": [
        {
          "output_type": "stream",
          "name": "stdout",
          "text": [
            "5\n"
          ]
        },
        {
          "output_type": "execute_result",
          "data": {
            "text/plain": [
              "int"
            ]
          },
          "metadata": {},
          "execution_count": 16
        }
      ]
    },
    {
      "cell_type": "code",
      "source": [
        "b = 56.3\n",
        "print(b)\n",
        "type(b)"
      ],
      "metadata": {
        "colab": {
          "base_uri": "https://localhost:8080/"
        },
        "id": "c-E1VXVH71fc",
        "outputId": "628a8200-b4de-466f-ee31-574de9785443"
      },
      "execution_count": null,
      "outputs": [
        {
          "output_type": "stream",
          "name": "stdout",
          "text": [
            "56.3\n"
          ]
        },
        {
          "output_type": "execute_result",
          "data": {
            "text/plain": [
              "float"
            ]
          },
          "metadata": {},
          "execution_count": 17
        }
      ]
    },
    {
      "cell_type": "code",
      "source": [
        "c= 5+0j\n",
        "print(c)\n",
        "type(c)"
      ],
      "metadata": {
        "colab": {
          "base_uri": "https://localhost:8080/"
        },
        "id": "-wOzh8Sg79xP",
        "outputId": "fab7d712-82a3-493f-90c8-06d8f62bd155"
      },
      "execution_count": null,
      "outputs": [
        {
          "output_type": "stream",
          "name": "stdout",
          "text": [
            "(5+0j)\n"
          ]
        },
        {
          "output_type": "execute_result",
          "data": {
            "text/plain": [
              "complex"
            ]
          },
          "metadata": {},
          "execution_count": 19
        }
      ]
    },
    {
      "cell_type": "code",
      "source": [
        "d='Python'\n",
        "d=\"Python\"\n",
        "print(d)\n",
        "type(d)"
      ],
      "metadata": {
        "colab": {
          "base_uri": "https://localhost:8080/"
        },
        "id": "jEro2-EC8Y1t",
        "outputId": "8d282087-4d31-4ab3-b10f-73574dfae8d3"
      },
      "execution_count": null,
      "outputs": [
        {
          "output_type": "stream",
          "name": "stdout",
          "text": [
            "Python\n"
          ]
        },
        {
          "output_type": "execute_result",
          "data": {
            "text/plain": [
              "str"
            ]
          },
          "metadata": {},
          "execution_count": 20
        }
      ]
    },
    {
      "cell_type": "code",
      "source": [
        "m=True\n",
        "n=False\n",
        "print(m)\n",
        "print(n)\n",
        "print(type(m))\n",
        "print(type(n))"
      ],
      "metadata": {
        "colab": {
          "base_uri": "https://localhost:8080/"
        },
        "id": "rzidEm868mao",
        "outputId": "e2127556-2dfc-4bc6-9dd6-6bd131853c93"
      },
      "execution_count": null,
      "outputs": [
        {
          "output_type": "stream",
          "name": "stdout",
          "text": [
            "True\n",
            "False\n",
            "<class 'bool'>\n",
            "<class 'bool'>\n"
          ]
        }
      ]
    },
    {
      "cell_type": "code",
      "source": [
        "# + for addition\n",
        "5+6"
      ],
      "metadata": {
        "colab": {
          "base_uri": "https://localhost:8080/"
        },
        "id": "0o3QShWEA7lM",
        "outputId": "ae9b4fd8-46dd-456c-a7d2-c8a22fb046c9"
      },
      "execution_count": null,
      "outputs": [
        {
          "output_type": "execute_result",
          "data": {
            "text/plain": [
              "11"
            ]
          },
          "metadata": {},
          "execution_count": 25
        }
      ]
    },
    {
      "cell_type": "code",
      "source": [
        "# - for subtraction\n",
        "6-4"
      ],
      "metadata": {
        "colab": {
          "base_uri": "https://localhost:8080/"
        },
        "id": "iGCIyrOYBSt9",
        "outputId": "90448e84-3ec2-4b06-e0fd-becdc9b9ad35"
      },
      "execution_count": null,
      "outputs": [
        {
          "output_type": "execute_result",
          "data": {
            "text/plain": [
              "2"
            ]
          },
          "metadata": {},
          "execution_count": 26
        }
      ]
    },
    {
      "cell_type": "code",
      "source": [
        "# * for multiplication\n",
        "3*6"
      ],
      "metadata": {
        "colab": {
          "base_uri": "https://localhost:8080/"
        },
        "id": "B34ZkU79BYnd",
        "outputId": "172a2968-249b-48e1-ffbe-705ec0691b9c"
      },
      "execution_count": null,
      "outputs": [
        {
          "output_type": "execute_result",
          "data": {
            "text/plain": [
              "18"
            ]
          },
          "metadata": {},
          "execution_count": 27
        }
      ]
    },
    {
      "cell_type": "code",
      "source": [
        "# / for division\n",
        "8/4"
      ],
      "metadata": {
        "colab": {
          "base_uri": "https://localhost:8080/"
        },
        "id": "5nfC_kuPB2x_",
        "outputId": "d74c256e-d03b-4f29-dc19-d2cc7c3d7ad9"
      },
      "execution_count": null,
      "outputs": [
        {
          "output_type": "execute_result",
          "data": {
            "text/plain": [
              "2.0"
            ]
          },
          "metadata": {},
          "execution_count": 28
        }
      ]
    },
    {
      "cell_type": "code",
      "source": [
        "# // for floor division\n",
        "8//5"
      ],
      "metadata": {
        "colab": {
          "base_uri": "https://localhost:8080/"
        },
        "id": "XKmXGAh4CCHa",
        "outputId": "0bbac02e-0673-42b9-93a7-57628b43fbc4"
      },
      "execution_count": null,
      "outputs": [
        {
          "output_type": "execute_result",
          "data": {
            "text/plain": [
              "1"
            ]
          },
          "metadata": {},
          "execution_count": 30
        }
      ]
    },
    {
      "cell_type": "code",
      "source": [
        "# ** for power\n",
        "4**6      #4*4*4*4*4*4"
      ],
      "metadata": {
        "colab": {
          "base_uri": "https://localhost:8080/"
        },
        "id": "IM1Q6aMuCTWh",
        "outputId": "1a1caa08-bfe9-42b1-900f-f20c67a62bec"
      },
      "execution_count": null,
      "outputs": [
        {
          "output_type": "execute_result",
          "data": {
            "text/plain": [
              "4096"
            ]
          },
          "metadata": {},
          "execution_count": 32
        }
      ]
    },
    {
      "cell_type": "code",
      "source": [
        "# % for mod\n",
        "8%5"
      ],
      "metadata": {
        "colab": {
          "base_uri": "https://localhost:8080/"
        },
        "id": "SfpR4fKLC92M",
        "outputId": "2157e187-205e-4c04-bf63-2901163e7421"
      },
      "execution_count": null,
      "outputs": [
        {
          "output_type": "execute_result",
          "data": {
            "text/plain": [
              "3"
            ]
          },
          "metadata": {},
          "execution_count": 33
        }
      ]
    },
    {
      "cell_type": "code",
      "source": [
        "a=10\n",
        "b=15\n",
        "print('a + b is : ', a+b)\n",
        "print('a - b is : ', a-b)\n",
        "print('a * b is : ', a*b)\n",
        "print('a / b is : ', a/b)\n",
        "print('a ** b is : ', a**b)\n",
        "print('a % b is : ', a%b)\n",
        "print('a // b is : ', a//b)"
      ],
      "metadata": {
        "colab": {
          "base_uri": "https://localhost:8080/"
        },
        "id": "j5MaMDJ9DSqj",
        "outputId": "ad8cff0c-5017-4c36-ebc6-ace6408797f5"
      },
      "execution_count": null,
      "outputs": [
        {
          "output_type": "stream",
          "name": "stdout",
          "text": [
            "a + b is :  25\n",
            "a - b is :  -5\n",
            "a * b is :  150\n",
            "a / b is :  0.6666666666666666\n",
            "a ** b is :  1000000000000000\n",
            "a % b is :  10\n",
            "a // b is :  0\n"
          ]
        }
      ]
    },
    {
      "cell_type": "code",
      "source": [
        "#Concatenating (joining strings)\n",
        "a = 'Python'\n",
        "b = 'Basics'\n",
        "a+b"
      ],
      "metadata": {
        "colab": {
          "base_uri": "https://localhost:8080/",
          "height": 36
        },
        "id": "__LvEDVVEd6J",
        "outputId": "e377b105-dcec-4a27-d5e3-953fa5d40bfe"
      },
      "execution_count": null,
      "outputs": [
        {
          "output_type": "execute_result",
          "data": {
            "text/plain": [
              "'PythonBasics'"
            ],
            "application/vnd.google.colaboratory.intrinsic+json": {
              "type": "string"
            }
          },
          "metadata": {},
          "execution_count": 37
        }
      ]
    },
    {
      "cell_type": "code",
      "source": [
        "a + ' ' + b"
      ],
      "metadata": {
        "colab": {
          "base_uri": "https://localhost:8080/",
          "height": 36
        },
        "id": "JBltA-tNErMC",
        "outputId": "a4d811ac-4733-4d92-b665-2875756b4d85"
      },
      "execution_count": null,
      "outputs": [
        {
          "output_type": "execute_result",
          "data": {
            "text/plain": [
              "'Python Basics'"
            ],
            "application/vnd.google.colaboratory.intrinsic+json": {
              "type": "string"
            }
          },
          "metadata": {},
          "execution_count": 38
        }
      ]
    },
    {
      "cell_type": "code",
      "source": [
        "a = 'Python'\n",
        "b = 5\n",
        "a + b"
      ],
      "metadata": {
        "colab": {
          "base_uri": "https://localhost:8080/",
          "height": 205
        },
        "id": "1HhwuRG2FGg7",
        "outputId": "9ba2b9ef-27cf-439b-bc2c-f75f272ad5f0"
      },
      "execution_count": null,
      "outputs": [
        {
          "output_type": "error",
          "ename": "TypeError",
          "evalue": "ignored",
          "traceback": [
            "\u001b[0;31m---------------------------------------------------------------------------\u001b[0m",
            "\u001b[0;31mTypeError\u001b[0m                                 Traceback (most recent call last)",
            "\u001b[0;32m<ipython-input-39-d0ace9a66e83>\u001b[0m in \u001b[0;36m<cell line: 3>\u001b[0;34m()\u001b[0m\n\u001b[1;32m      1\u001b[0m \u001b[0ma\u001b[0m \u001b[0;34m=\u001b[0m \u001b[0;34m'Python'\u001b[0m\u001b[0;34m\u001b[0m\u001b[0;34m\u001b[0m\u001b[0m\n\u001b[1;32m      2\u001b[0m \u001b[0mb\u001b[0m \u001b[0;34m=\u001b[0m \u001b[0;36m5\u001b[0m\u001b[0;34m\u001b[0m\u001b[0;34m\u001b[0m\u001b[0m\n\u001b[0;32m----> 3\u001b[0;31m \u001b[0ma\u001b[0m \u001b[0;34m+\u001b[0m \u001b[0mb\u001b[0m\u001b[0;34m\u001b[0m\u001b[0;34m\u001b[0m\u001b[0m\n\u001b[0m",
            "\u001b[0;31mTypeError\u001b[0m: can only concatenate str (not \"int\") to str"
          ]
        }
      ]
    },
    {
      "cell_type": "code",
      "source": [
        "a = '9'\n",
        "b = '7'\n",
        "a+b"
      ],
      "metadata": {
        "colab": {
          "base_uri": "https://localhost:8080/",
          "height": 36
        },
        "id": "n-woglNLFjTc",
        "outputId": "c1ba98c9-4ecc-4c6a-fb71-4852fd41b2a6"
      },
      "execution_count": null,
      "outputs": [
        {
          "output_type": "execute_result",
          "data": {
            "text/plain": [
              "'97'"
            ],
            "application/vnd.google.colaboratory.intrinsic+json": {
              "type": "string"
            }
          },
          "metadata": {},
          "execution_count": 40
        }
      ]
    },
    {
      "cell_type": "code",
      "source": [
        "#Python indexing starts from 0\n",
        "x = '1234567890'\n",
        "y = '9876543210'\n",
        "z = 'abcdefghij'"
      ],
      "metadata": {
        "id": "pwESGDnjGCTY"
      },
      "execution_count": null,
      "outputs": []
    },
    {
      "cell_type": "code",
      "source": [
        "# From start of the string till the 4th index will be displayed\n",
        "x[:5]"
      ],
      "metadata": {
        "colab": {
          "base_uri": "https://localhost:8080/",
          "height": 36
        },
        "id": "q4bpdLhnGQQz",
        "outputId": "2c2e13d5-b26c-4460-d1d5-effdd3597cad"
      },
      "execution_count": null,
      "outputs": [
        {
          "output_type": "execute_result",
          "data": {
            "text/plain": [
              "'12345'"
            ],
            "application/vnd.google.colaboratory.intrinsic+json": {
              "type": "string"
            }
          },
          "metadata": {},
          "execution_count": 42
        }
      ]
    },
    {
      "cell_type": "code",
      "source": [
        "z[4:]"
      ],
      "metadata": {
        "colab": {
          "base_uri": "https://localhost:8080/",
          "height": 36
        },
        "id": "ViRGQapnG3-c",
        "outputId": "4be7ad36-b5cf-4434-80a0-1507a34ecfbb"
      },
      "execution_count": null,
      "outputs": [
        {
          "output_type": "execute_result",
          "data": {
            "text/plain": [
              "'efghij'"
            ],
            "application/vnd.google.colaboratory.intrinsic+json": {
              "type": "string"
            }
          },
          "metadata": {},
          "execution_count": 43
        }
      ]
    },
    {
      "cell_type": "code",
      "source": [
        "y[3:7]"
      ],
      "metadata": {
        "colab": {
          "base_uri": "https://localhost:8080/",
          "height": 36
        },
        "id": "qVO_mYcnHI_b",
        "outputId": "b8b5c321-42ee-47e2-aaed-81759cca5701"
      },
      "execution_count": null,
      "outputs": [
        {
          "output_type": "execute_result",
          "data": {
            "text/plain": [
              "'6543'"
            ],
            "application/vnd.google.colaboratory.intrinsic+json": {
              "type": "string"
            }
          },
          "metadata": {},
          "execution_count": 44
        }
      ]
    },
    {
      "cell_type": "code",
      "source": [
        "a= x+y\n",
        "a"
      ],
      "metadata": {
        "colab": {
          "base_uri": "https://localhost:8080/",
          "height": 36
        },
        "id": "iI1xE1FzHtvQ",
        "outputId": "3f1a4f2c-5490-42cb-ab5f-4b9614a47c68"
      },
      "execution_count": null,
      "outputs": [
        {
          "output_type": "execute_result",
          "data": {
            "text/plain": [
              "'12345678909876543210'"
            ],
            "application/vnd.google.colaboratory.intrinsic+json": {
              "type": "string"
            }
          },
          "metadata": {},
          "execution_count": 45
        }
      ]
    },
    {
      "cell_type": "code",
      "source": [
        "a[4:16]"
      ],
      "metadata": {
        "colab": {
          "base_uri": "https://localhost:8080/",
          "height": 36
        },
        "id": "0fOEbnncIKKj",
        "outputId": "8c9ba848-9181-4de0-dad3-f0cddd1d8867"
      },
      "execution_count": null,
      "outputs": [
        {
          "output_type": "execute_result",
          "data": {
            "text/plain": [
              "'567890987654'"
            ],
            "application/vnd.google.colaboratory.intrinsic+json": {
              "type": "string"
            }
          },
          "metadata": {},
          "execution_count": 46
        }
      ]
    },
    {
      "cell_type": "code",
      "source": [
        "a[4:16:3]"
      ],
      "metadata": {
        "colab": {
          "base_uri": "https://localhost:8080/",
          "height": 36
        },
        "id": "ipDmROKsH24p",
        "outputId": "1515d739-77a3-4a67-d2c0-51a5c7e81e73"
      },
      "execution_count": null,
      "outputs": [
        {
          "output_type": "execute_result",
          "data": {
            "text/plain": [
              "'5896'"
            ],
            "application/vnd.google.colaboratory.intrinsic+json": {
              "type": "string"
            }
          },
          "metadata": {},
          "execution_count": 49
        }
      ]
    },
    {
      "cell_type": "markdown",
      "source": [
        "# LIST"
      ],
      "metadata": {
        "id": "dshJM0afJDn2"
      }
    },
    {
      "cell_type": "code",
      "source": [
        "list1 = [1,2,5,6,20.3,52.6,True,False,[1,8,3,6],'Python','DS', 5+6j,2+7j]"
      ],
      "metadata": {
        "id": "PsN03X3G5ty2"
      },
      "execution_count": null,
      "outputs": []
    },
    {
      "cell_type": "code",
      "source": [
        "list1"
      ],
      "metadata": {
        "colab": {
          "base_uri": "https://localhost:8080/"
        },
        "id": "QMvHY1gL6KT8",
        "outputId": "148e5430-350d-4245-b2fb-d4b184281816"
      },
      "execution_count": null,
      "outputs": [
        {
          "output_type": "execute_result",
          "data": {
            "text/plain": [
              "[1,\n",
              " 2,\n",
              " 5,\n",
              " 6,\n",
              " 20.3,\n",
              " 52.6,\n",
              " True,\n",
              " False,\n",
              " [1, 8, 3, 6],\n",
              " 'Python',\n",
              " 'DS',\n",
              " (5+6j),\n",
              " (2+7j)]"
            ]
          },
          "metadata": {},
          "execution_count": 4
        }
      ]
    },
    {
      "cell_type": "code",
      "source": [
        "list1[5]"
      ],
      "metadata": {
        "colab": {
          "base_uri": "https://localhost:8080/"
        },
        "id": "3-g6qdUy65vO",
        "outputId": "a8a4203a-e775-4e3c-cd86-9afb56f49be7"
      },
      "execution_count": null,
      "outputs": [
        {
          "output_type": "execute_result",
          "data": {
            "text/plain": [
              "52.6"
            ]
          },
          "metadata": {},
          "execution_count": 5
        }
      ]
    },
    {
      "cell_type": "code",
      "source": [
        "list1[8][1]"
      ],
      "metadata": {
        "colab": {
          "base_uri": "https://localhost:8080/"
        },
        "id": "I1EhtC9p7W9t",
        "outputId": "afcedf0e-d86a-4cbb-b9e8-15b7f3d4284f"
      },
      "execution_count": null,
      "outputs": [
        {
          "output_type": "execute_result",
          "data": {
            "text/plain": [
              "8"
            ]
          },
          "metadata": {},
          "execution_count": 9
        }
      ]
    },
    {
      "cell_type": "code",
      "source": [
        "list1= [1,2,3,4,5]\n",
        "list2= [7,8,9,6,3]\n",
        "list3= ['a','b','c','d','e']\n",
        "list4= 'a','b','c','d','e'"
      ],
      "metadata": {
        "id": "7B65u3Q39XMb"
      },
      "execution_count": null,
      "outputs": []
    },
    {
      "cell_type": "code",
      "source": [
        "list4"
      ],
      "metadata": {
        "colab": {
          "base_uri": "https://localhost:8080/"
        },
        "id": "Fwewz9ua_D2h",
        "outputId": "06ecb4ac-3f9e-4af9-afae-5fc36fb7aab3"
      },
      "execution_count": null,
      "outputs": [
        {
          "output_type": "execute_result",
          "data": {
            "text/plain": [
              "('a', 'b', 'c', 'd', 'e')"
            ]
          },
          "metadata": {},
          "execution_count": 32
        }
      ]
    },
    {
      "cell_type": "code",
      "source": [
        "print(list1 + list2 + list3)"
      ],
      "metadata": {
        "colab": {
          "base_uri": "https://localhost:8080/"
        },
        "id": "w-9RFinS9krn",
        "outputId": "a5b15cc0-4f12-40b1-e6ec-9c004c37d725"
      },
      "execution_count": null,
      "outputs": [
        {
          "output_type": "stream",
          "name": "stdout",
          "text": [
            "[1, 2, 3, 4, 5, 7, 8, 9, 6, 3, 'a', 'b', 'c', 'd', 'e']\n"
          ]
        }
      ]
    },
    {
      "cell_type": "code",
      "source": [
        "print(list1 + list2 + list3 + list4)"
      ],
      "metadata": {
        "colab": {
          "base_uri": "https://localhost:8080/",
          "height": 169
        },
        "id": "WrJ2LKct_Xx0",
        "outputId": "66d0af69-c557-4acd-febf-e5391465f2fd"
      },
      "execution_count": null,
      "outputs": [
        {
          "output_type": "error",
          "ename": "TypeError",
          "evalue": "ignored",
          "traceback": [
            "\u001b[0;31m---------------------------------------------------------------------------\u001b[0m",
            "\u001b[0;31mTypeError\u001b[0m                                 Traceback (most recent call last)",
            "\u001b[0;32m<ipython-input-24-881d063f4b20>\u001b[0m in \u001b[0;36m<cell line: 1>\u001b[0;34m()\u001b[0m\n\u001b[0;32m----> 1\u001b[0;31m \u001b[0mprint\u001b[0m\u001b[0;34m(\u001b[0m\u001b[0mlist1\u001b[0m \u001b[0;34m+\u001b[0m \u001b[0mlist2\u001b[0m \u001b[0;34m+\u001b[0m \u001b[0mlist3\u001b[0m \u001b[0;34m+\u001b[0m \u001b[0mlist4\u001b[0m\u001b[0;34m)\u001b[0m\u001b[0;34m\u001b[0m\u001b[0;34m\u001b[0m\u001b[0m\n\u001b[0m",
            "\u001b[0;31mTypeError\u001b[0m: can only concatenate list (not \"tuple\") to list"
          ]
        }
      ]
    },
    {
      "cell_type": "code",
      "source": [
        "print(list1 , list2 , list3)"
      ],
      "metadata": {
        "colab": {
          "base_uri": "https://localhost:8080/"
        },
        "id": "7EIPpvN99v71",
        "outputId": "e28442be-4ffa-485c-81cc-2c2197da499d"
      },
      "execution_count": null,
      "outputs": [
        {
          "output_type": "stream",
          "name": "stdout",
          "text": [
            "[1, 2, 3, 4, 5] [7, 8, 9, 6, 3] ['a', 'b', 'c', 'd', 'e']\n"
          ]
        }
      ]
    },
    {
      "cell_type": "code",
      "source": [
        "print(list1 , list2 , list3, list4)"
      ],
      "metadata": {
        "colab": {
          "base_uri": "https://localhost:8080/"
        },
        "id": "r3cOb61DAfui",
        "outputId": "559fb52f-96ac-43d4-b42a-55a37466bec9"
      },
      "execution_count": null,
      "outputs": [
        {
          "output_type": "stream",
          "name": "stdout",
          "text": [
            "[1, 2, 3, 4, 5] [7, 8, 9, 6, 3] ['a', 'b', 'c', 'd', 'e'] ('a', 'b', 'c', 'd', 'e')\n"
          ]
        }
      ]
    },
    {
      "cell_type": "code",
      "source": [
        "print(list1) ; print(list2) ; print(list3)"
      ],
      "metadata": {
        "colab": {
          "base_uri": "https://localhost:8080/"
        },
        "id": "GBdJMiPn96BV",
        "outputId": "8ed3650f-7aa0-47ec-c65b-d2c5c8115f01"
      },
      "execution_count": null,
      "outputs": [
        {
          "output_type": "stream",
          "name": "stdout",
          "text": [
            "[1, 2, 3, 4, 5]\n",
            "[7, 8, 9, 6, 3]\n",
            "['a', 'b', 'c', 'd', 'e']\n"
          ]
        }
      ]
    },
    {
      "cell_type": "code",
      "source": [
        "print(list1) ; print(list2) ; print(list3) ; print(list4)"
      ],
      "metadata": {
        "colab": {
          "base_uri": "https://localhost:8080/"
        },
        "id": "o_dkHcw1AnqD",
        "outputId": "cfd45065-3026-496f-afa2-d70373b53353"
      },
      "execution_count": null,
      "outputs": [
        {
          "output_type": "stream",
          "name": "stdout",
          "text": [
            "[1, 2, 3, 4, 5]\n",
            "[7, 8, 9, 6, 3]\n",
            "['a', 'b', 'c', 'd', 'e']\n",
            "('a', 'b', 'c', 'd', 'e')\n"
          ]
        }
      ]
    },
    {
      "cell_type": "code",
      "source": [
        "list1= 1,2,3,4,5\n",
        "list2= 7,8,9,6,3\n",
        "list3= 4,5,2,3,6,5\n",
        "list4= 'a','b','c','d','e'"
      ],
      "metadata": {
        "id": "soFBADjf_mkq"
      },
      "execution_count": null,
      "outputs": []
    },
    {
      "cell_type": "code",
      "source": [
        "print(list1 + list2 + list3 + list4)"
      ],
      "metadata": {
        "colab": {
          "base_uri": "https://localhost:8080/"
        },
        "id": "M1elFInU_pyh",
        "outputId": "561824db-5ba4-4f84-8aa4-3f233f0a2781"
      },
      "execution_count": null,
      "outputs": [
        {
          "output_type": "stream",
          "name": "stdout",
          "text": [
            "(1, 2, 3, 4, 5, 7, 8, 9, 6, 3, 4, 5, 2, 3, 6, 5, 'a', 'b', 'c', 'd', 'e')\n"
          ]
        }
      ]
    },
    {
      "cell_type": "code",
      "source": [
        "a = [1, 2, 3, 4, 5, (7, 8, 9), 6, 3, 'a', 'b', 'c', 'd', 'e']\n",
        "a"
      ],
      "metadata": {
        "colab": {
          "base_uri": "https://localhost:8080/"
        },
        "id": "-ffgAVnmA_jX",
        "outputId": "79ef510f-117a-4f08-b689-547b7b5341b3"
      },
      "execution_count": null,
      "outputs": [
        {
          "output_type": "execute_result",
          "data": {
            "text/plain": [
              "[1, 2, 3, 4, 5, (7, 8, 9), 6, 3, 'a', 'b', 'c', 'd', 'e']"
            ]
          },
          "metadata": {},
          "execution_count": 37
        }
      ]
    },
    {
      "cell_type": "code",
      "source": [
        "a[8] = 'Neha'\n",
        "a"
      ],
      "metadata": {
        "colab": {
          "base_uri": "https://localhost:8080/"
        },
        "id": "efoOipZYCaeC",
        "outputId": "ec424a4d-6c28-4da2-bad5-211b36b5cb0f"
      },
      "execution_count": null,
      "outputs": [
        {
          "output_type": "execute_result",
          "data": {
            "text/plain": [
              "[1, 2, 3, 4, 5, (7, 8, 9), 6, 3, 'Neha', 'b', 'c', 'd', 'e']"
            ]
          },
          "metadata": {},
          "execution_count": 38
        }
      ]
    },
    {
      "cell_type": "code",
      "source": [
        "a[11] = 'Data Science'\n",
        "a"
      ],
      "metadata": {
        "colab": {
          "base_uri": "https://localhost:8080/"
        },
        "id": "881v1E5sCmD6",
        "outputId": "1cdefbca-bd37-445e-a8dc-a77b85145eb7"
      },
      "execution_count": null,
      "outputs": [
        {
          "output_type": "execute_result",
          "data": {
            "text/plain": [
              "[1, 2, 3, 4, 5, (7, 8, 9), 6, 3, 'Neha', 'b', 'c', 'Data Science', 'e']"
            ]
          },
          "metadata": {},
          "execution_count": 39
        }
      ]
    },
    {
      "cell_type": "code",
      "source": [
        "b = [1, 2, 3, 4, 5, [7, 8, 9], 6, 3, 'Neha', 'b', 'c', 'Data Science', 'e']"
      ],
      "metadata": {
        "id": "rEfBPn1OC5em"
      },
      "execution_count": null,
      "outputs": []
    },
    {
      "cell_type": "code",
      "source": [
        "b[5][1] = 82\n",
        "b"
      ],
      "metadata": {
        "colab": {
          "base_uri": "https://localhost:8080/"
        },
        "id": "oOX98zIoC9UL",
        "outputId": "3293232f-c6dd-46a4-93bf-ac9a3eced808"
      },
      "execution_count": null,
      "outputs": [
        {
          "output_type": "execute_result",
          "data": {
            "text/plain": [
              "[1, 2, 3, 4, 5, [7, 82, 9], 6, 3, 'Neha', 'b', 'c', 'Data Science', 'e']"
            ]
          },
          "metadata": {},
          "execution_count": 41
        }
      ]
    },
    {
      "cell_type": "code",
      "source": [
        "list1= [1, 2, 3, 4, 5, [7, 82, 9], 6, 3, 'Neha', 'b', 'c', 'Data Science', 'e']"
      ],
      "metadata": {
        "id": "y26Z8jIvETfC"
      },
      "execution_count": null,
      "outputs": []
    },
    {
      "cell_type": "code",
      "source": [
        "list1= [1, 2, 3, 4, 5, [7, 82, 9], 6, 3, 'Neha', 'b', 'c', 'Data Science', 'e']\n",
        "list1.append('Python')\n",
        "print(list1)"
      ],
      "metadata": {
        "colab": {
          "base_uri": "https://localhost:8080/"
        },
        "id": "8ztntqE9EaLx",
        "outputId": "397e839f-51cc-4277-b3e0-477b2fd8a6a4"
      },
      "execution_count": null,
      "outputs": [
        {
          "output_type": "stream",
          "name": "stdout",
          "text": [
            "[1, 2, 3, 4, 5, [7, 82, 9], 6, 3, 'Neha', 'b', 'c', 'Data Science', 'e', 'Python']\n"
          ]
        }
      ]
    },
    {
      "cell_type": "code",
      "source": [
        "list1= [1, 2, 3, 4, 5, [7, 82, 9], 6, 3, 'Neha', 'b', 'c', 'Data Science', 'e']\n",
        "print(list1)\n",
        "print(list1[5])\n",
        "list1[5].append('100')\n",
        "print(list1)"
      ],
      "metadata": {
        "colab": {
          "base_uri": "https://localhost:8080/"
        },
        "id": "4c71fbX1E7e4",
        "outputId": "d466cd01-3994-4d13-a618-e7475d7f7628"
      },
      "execution_count": null,
      "outputs": [
        {
          "output_type": "stream",
          "name": "stdout",
          "text": [
            "[1, 2, 3, 4, 5, [7, 82, 9], 6, 3, 'Neha', 'b', 'c', 'Data Science', 'e']\n",
            "[7, 82, 9]\n",
            "[1, 2, 3, 4, 5, [7, 82, 9, '100'], 6, 3, 'Neha', 'b', 'c', 'Data Science', 'e']\n"
          ]
        }
      ]
    },
    {
      "cell_type": "code",
      "source": [
        "list1= [1, 2, 3, 4, 5, [7, 82, 9], 6, 3, 'Neha', 'b', 'c', 'Data Science', 'e']\n",
        "print(list1)\n",
        "print(list1[7])\n",
        "list1[7].append('100')"
      ],
      "metadata": {
        "colab": {
          "base_uri": "https://localhost:8080/",
          "height": 241
        },
        "id": "pQIN1-b6Guc3",
        "outputId": "60befc2a-0a03-4ab4-ede9-3b8c9508eb7a"
      },
      "execution_count": null,
      "outputs": [
        {
          "output_type": "stream",
          "name": "stdout",
          "text": [
            "[1, 2, 3, 4, 5, [7, 82, 9], 6, 3, 'Neha', 'b', 'c', 'Data Science', 'e']\n",
            "3\n"
          ]
        },
        {
          "output_type": "error",
          "ename": "AttributeError",
          "evalue": "ignored",
          "traceback": [
            "\u001b[0;31m---------------------------------------------------------------------------\u001b[0m",
            "\u001b[0;31mAttributeError\u001b[0m                            Traceback (most recent call last)",
            "\u001b[0;32m<ipython-input-56-67a3eda2af69>\u001b[0m in \u001b[0;36m<cell line: 4>\u001b[0;34m()\u001b[0m\n\u001b[1;32m      2\u001b[0m \u001b[0mprint\u001b[0m\u001b[0;34m(\u001b[0m\u001b[0mlist1\u001b[0m\u001b[0;34m)\u001b[0m\u001b[0;34m\u001b[0m\u001b[0;34m\u001b[0m\u001b[0m\n\u001b[1;32m      3\u001b[0m \u001b[0mprint\u001b[0m\u001b[0;34m(\u001b[0m\u001b[0mlist1\u001b[0m\u001b[0;34m[\u001b[0m\u001b[0;36m7\u001b[0m\u001b[0;34m]\u001b[0m\u001b[0;34m)\u001b[0m\u001b[0;34m\u001b[0m\u001b[0;34m\u001b[0m\u001b[0m\n\u001b[0;32m----> 4\u001b[0;31m \u001b[0mlist1\u001b[0m\u001b[0;34m[\u001b[0m\u001b[0;36m7\u001b[0m\u001b[0;34m]\u001b[0m\u001b[0;34m.\u001b[0m\u001b[0mappend\u001b[0m\u001b[0;34m(\u001b[0m\u001b[0;34m'100'\u001b[0m\u001b[0;34m)\u001b[0m\u001b[0;34m\u001b[0m\u001b[0;34m\u001b[0m\u001b[0m\n\u001b[0m",
            "\u001b[0;31mAttributeError\u001b[0m: 'int' object has no attribute 'append'"
          ]
        }
      ]
    },
    {
      "cell_type": "code",
      "source": [
        "list1=[1, 2, 3, 4, 5, [7, 82, 9, '100'], 6, 3, 'Neha', 'b', 'c', 'Data Science', 'e']\n",
        "print(list1)\n",
        "list1[-1]= 'Bangalore'\n",
        "print(list1)"
      ],
      "metadata": {
        "colab": {
          "base_uri": "https://localhost:8080/"
        },
        "id": "ljJhGNu_GSVk",
        "outputId": "db5c8b63-6086-48f1-c1bd-fcc32e0256eb"
      },
      "execution_count": null,
      "outputs": [
        {
          "output_type": "stream",
          "name": "stdout",
          "text": [
            "[1, 2, 3, 4, 5, [7, 82, 9, '100'], 6, 3, 'Neha', 'b', 'c', 'Data Science', 'e']\n",
            "[1, 2, 3, 4, 5, [7, 82, 9, '100'], 6, 3, 'Neha', 'b', 'c', 'Data Science', 'Bangalore']\n"
          ]
        }
      ]
    },
    {
      "cell_type": "code",
      "source": [
        "a = (6,5,6)\n",
        "print(a)\n",
        "a = list(a)\n",
        "print(a)"
      ],
      "metadata": {
        "colab": {
          "base_uri": "https://localhost:8080/"
        },
        "id": "WcPCmAalIbVt",
        "outputId": "2ad0aa79-4ba2-49a5-845f-418c77e05722"
      },
      "execution_count": null,
      "outputs": [
        {
          "output_type": "stream",
          "name": "stdout",
          "text": [
            "(6, 5, 6)\n",
            "[6, 5, 6]\n"
          ]
        }
      ]
    },
    {
      "cell_type": "code",
      "source": [
        "a = {6,5,8}\n",
        "print(a)\n",
        "a = list(a)\n",
        "print(a)"
      ],
      "metadata": {
        "colab": {
          "base_uri": "https://localhost:8080/"
        },
        "id": "Ek94NRoAI828",
        "outputId": "7910c409-5b73-4058-ab64-3718b00e241a"
      },
      "execution_count": null,
      "outputs": [
        {
          "output_type": "stream",
          "name": "stdout",
          "text": [
            "{8, 5, 6}\n",
            "[8, 5, 6]\n"
          ]
        }
      ]
    },
    {
      "cell_type": "code",
      "source": [
        "a = (6,5,6)\n",
        "print(a)\n",
        "a= list(a)\n",
        "print(a)"
      ],
      "metadata": {
        "colab": {
          "base_uri": "https://localhost:8080/"
        },
        "id": "VdXXBUtjPfzL",
        "outputId": "0f5281b6-b6a7-4bc7-99e4-b2f5b0b79ceb"
      },
      "execution_count": null,
      "outputs": [
        {
          "output_type": "stream",
          "name": "stdout",
          "text": [
            "(6, 5, 6)\n",
            "[6, 5, 6]\n"
          ]
        }
      ]
    },
    {
      "cell_type": "code",
      "source": [
        "list1=[1, 2, 3, 4, 5, [7, 82, 9, '100'], 6, 3, 'Neha', 'b', 'c', 'Data Science', 'e']\n",
        "print(list1)\n",
        "list1.append([12,52,96,23,78])\n",
        "print(list1)"
      ],
      "metadata": {
        "colab": {
          "base_uri": "https://localhost:8080/"
        },
        "id": "80C4bnRqcEyh",
        "outputId": "aa952650-b87c-47f6-f335-4fac6a1ccca9"
      },
      "execution_count": null,
      "outputs": [
        {
          "output_type": "stream",
          "name": "stdout",
          "text": [
            "[1, 2, 3, 4, 5, [7, 82, 9, '100'], 6, 3, 'Neha', 'b', 'c', 'Data Science', 'e']\n",
            "[1, 2, 3, 4, 5, [7, 82, 9, '100'], 6, 3, 'Neha', 'b', 'c', 'Data Science', 'e', [12, 52, 96, 23, 78]]\n"
          ]
        }
      ]
    },
    {
      "cell_type": "code",
      "source": [
        "list1=[1, 2, 3, 4, 5, [7, 82, 9, '100'], 6, 3, 'Neha', 'b', 'c', 'Data Science', 'e']\n",
        "print(list1)\n",
        "list1.remove('Data Science')\n",
        "print(list1)"
      ],
      "metadata": {
        "colab": {
          "base_uri": "https://localhost:8080/"
        },
        "id": "l9v9fmqvQJST",
        "outputId": "708bad55-1ef6-4dd1-86fb-671ea34a26d5"
      },
      "execution_count": null,
      "outputs": [
        {
          "output_type": "stream",
          "name": "stdout",
          "text": [
            "[1, 2, 3, 4, 5, [7, 82, 9, '100'], 6, 3, 'Neha', 'b', 'c', 'Data Science', 'e']\n",
            "[1, 2, 3, 4, 5, [7, 82, 9, '100'], 6, 3, 'Neha', 'b', 'c', 'e']\n"
          ]
        }
      ]
    },
    {
      "cell_type": "code",
      "source": [
        "list1=[1, 2, 3, 4, 5, [7, 82, 9, '100'], 6, 3, 'Neha', 'b', 'c', 'Data Science', 'e']\n",
        "print(list1)\n",
        "list1.remove(list1[11])\n",
        "print(list1)"
      ],
      "metadata": {
        "colab": {
          "base_uri": "https://localhost:8080/"
        },
        "id": "-2PoXaNMQa9g",
        "outputId": "4dafdf5e-860b-498e-8d47-1677c92e6c82"
      },
      "execution_count": null,
      "outputs": [
        {
          "output_type": "stream",
          "name": "stdout",
          "text": [
            "[1, 2, 3, 4, 5, [7, 82, 9, '100'], 6, 3, 'Neha', 'b', 'c', 'Data Science', 'e']\n",
            "[1, 2, 3, 4, 5, [7, 82, 9, '100'], 6, 3, 'Neha', 'b', 'c', 'e']\n"
          ]
        }
      ]
    },
    {
      "cell_type": "code",
      "source": [
        "list1=[1, 2, 3, 4, 5, [7, 82, 9, '100'], 6, 3, 'Neha', 'b', 'c', 'Data Science', 'e']\n",
        "print(list1)\n",
        "del(list1[11])\n",
        "print(list1)"
      ],
      "metadata": {
        "colab": {
          "base_uri": "https://localhost:8080/"
        },
        "id": "LU7Vi7toQ0CD",
        "outputId": "a7e23c07-9e63-498c-9228-ac0c4375e934"
      },
      "execution_count": null,
      "outputs": [
        {
          "output_type": "stream",
          "name": "stdout",
          "text": [
            "[1, 2, 3, 4, 5, [7, 82, 9, '100'], 6, 3, 'Neha', 'b', 'c', 'Data Science', 'e']\n",
            "[1, 2, 3, 4, 5, [7, 82, 9, '100'], 6, 3, 'Neha', 'b', 'c', 'e']\n"
          ]
        }
      ]
    },
    {
      "cell_type": "code",
      "source": [
        "list1 = ['Neha', 'b', 'c', 'Data Science', 'e','Neha', 'b', 'c', 'Data Science', 'e', 2, 5, 3]\n",
        "print(list1)\n",
        "list1.remove(list1[8])\n",
        "print(list1)"
      ],
      "metadata": {
        "colab": {
          "base_uri": "https://localhost:8080/"
        },
        "id": "M1oHYfy6RiY7",
        "outputId": "19694fd1-3881-4188-e48f-583c35060685"
      },
      "execution_count": null,
      "outputs": [
        {
          "output_type": "stream",
          "name": "stdout",
          "text": [
            "['Neha', 'b', 'c', 'Data Science', 'e', 'Neha', 'b', 'c', 'Data Science', 'e', 2, 5, 3]\n",
            "['Neha', 'b', 'c', 'e', 'Neha', 'b', 'c', 'Data Science', 'e', 2, 5, 3]\n"
          ]
        }
      ]
    },
    {
      "cell_type": "code",
      "source": [
        "list1 = ['Neha', 'b', 'c', 'Data Science', 'e','Neha', 'b', 'c', 'Data Science', 'e', 2, 5, 3]\n",
        "print(list1)\n",
        "list1.remove('Data Science')\n",
        "print(list1)"
      ],
      "metadata": {
        "colab": {
          "base_uri": "https://localhost:8080/"
        },
        "id": "hMWaRpRbSw5y",
        "outputId": "d564c7dd-5f84-495e-80d3-f1f0942cfdd8"
      },
      "execution_count": null,
      "outputs": [
        {
          "output_type": "stream",
          "name": "stdout",
          "text": [
            "['Neha', 'b', 'c', 'Data Science', 'e', 'Neha', 'b', 'c', 'Data Science', 'e', 2, 5, 3]\n",
            "['Neha', 'b', 'c', 'e', 'Neha', 'b', 'c', 'Data Science', 'e', 2, 5, 3]\n"
          ]
        }
      ]
    },
    {
      "cell_type": "code",
      "source": [
        "list1 = ['Neha', 'b', 'c', 'Data Science', 'e','Neha', 'b', 'c', 'Data Science', 'e', 2, 5, 3]\n",
        "print(list1)\n",
        "del(list1[8])\n",
        "print(list1)"
      ],
      "metadata": {
        "colab": {
          "base_uri": "https://localhost:8080/"
        },
        "id": "PW7gM7PHShOu",
        "outputId": "0f6bba53-59a3-45b0-eab9-e622f0b0b664"
      },
      "execution_count": null,
      "outputs": [
        {
          "output_type": "stream",
          "name": "stdout",
          "text": [
            "['Neha', 'b', 'c', 'Data Science', 'e', 'Neha', 'b', 'c', 'Data Science', 'e', 2, 5, 3]\n",
            "['Neha', 'b', 'c', 'Data Science', 'e', 'Neha', 'b', 'c', 'e', 2, 5, 3]\n"
          ]
        }
      ]
    },
    {
      "cell_type": "code",
      "source": [
        "list1 = ['Neha', 'b', 'c', 'Data Science', 'e','Neha', 'b', 'c', 'Data Science', 'e', 2, 5, 3]\n",
        "print(list1)\n",
        "list1.remove('Python')\n",
        "print(list1)"
      ],
      "metadata": {
        "colab": {
          "base_uri": "https://localhost:8080/",
          "height": 241
        },
        "id": "jwOnDJ1wS_xV",
        "outputId": "0874d895-aaad-4ebf-891b-276b5ea26468"
      },
      "execution_count": null,
      "outputs": [
        {
          "output_type": "stream",
          "name": "stdout",
          "text": [
            "['Neha', 'b', 'c', 'Data Science', 'e', 'Neha', 'b', 'c', 'Data Science', 'e', 2, 5, 3]\n"
          ]
        },
        {
          "output_type": "error",
          "ename": "ValueError",
          "evalue": "ignored",
          "traceback": [
            "\u001b[0;31m---------------------------------------------------------------------------\u001b[0m",
            "\u001b[0;31mValueError\u001b[0m                                Traceback (most recent call last)",
            "\u001b[0;32m<ipython-input-10-24a09162fa07>\u001b[0m in \u001b[0;36m<cell line: 3>\u001b[0;34m()\u001b[0m\n\u001b[1;32m      1\u001b[0m \u001b[0mlist1\u001b[0m \u001b[0;34m=\u001b[0m \u001b[0;34m[\u001b[0m\u001b[0;34m'Neha'\u001b[0m\u001b[0;34m,\u001b[0m \u001b[0;34m'b'\u001b[0m\u001b[0;34m,\u001b[0m \u001b[0;34m'c'\u001b[0m\u001b[0;34m,\u001b[0m \u001b[0;34m'Data Science'\u001b[0m\u001b[0;34m,\u001b[0m \u001b[0;34m'e'\u001b[0m\u001b[0;34m,\u001b[0m\u001b[0;34m'Neha'\u001b[0m\u001b[0;34m,\u001b[0m \u001b[0;34m'b'\u001b[0m\u001b[0;34m,\u001b[0m \u001b[0;34m'c'\u001b[0m\u001b[0;34m,\u001b[0m \u001b[0;34m'Data Science'\u001b[0m\u001b[0;34m,\u001b[0m \u001b[0;34m'e'\u001b[0m\u001b[0;34m,\u001b[0m \u001b[0;36m2\u001b[0m\u001b[0;34m,\u001b[0m \u001b[0;36m5\u001b[0m\u001b[0;34m,\u001b[0m \u001b[0;36m3\u001b[0m\u001b[0;34m]\u001b[0m\u001b[0;34m\u001b[0m\u001b[0;34m\u001b[0m\u001b[0m\n\u001b[1;32m      2\u001b[0m \u001b[0mprint\u001b[0m\u001b[0;34m(\u001b[0m\u001b[0mlist1\u001b[0m\u001b[0;34m)\u001b[0m\u001b[0;34m\u001b[0m\u001b[0;34m\u001b[0m\u001b[0m\n\u001b[0;32m----> 3\u001b[0;31m \u001b[0mlist1\u001b[0m\u001b[0;34m.\u001b[0m\u001b[0mremove\u001b[0m\u001b[0;34m(\u001b[0m\u001b[0;34m'Python'\u001b[0m\u001b[0;34m)\u001b[0m\u001b[0;34m\u001b[0m\u001b[0;34m\u001b[0m\u001b[0m\n\u001b[0m\u001b[1;32m      4\u001b[0m \u001b[0mprint\u001b[0m\u001b[0;34m(\u001b[0m\u001b[0mlist1\u001b[0m\u001b[0;34m)\u001b[0m\u001b[0;34m\u001b[0m\u001b[0;34m\u001b[0m\u001b[0m\n",
            "\u001b[0;31mValueError\u001b[0m: list.remove(x): x not in list"
          ]
        }
      ]
    },
    {
      "cell_type": "code",
      "source": [
        "list1=[1, 2, 3, 4, 5, [7, 82, 9, '100'], 6, 3, 'Neha', 'b', 'c', 'Data Science', 'e']\n",
        "print(list1)\n",
        "list1[5].remove(9)\n",
        "print(list1)"
      ],
      "metadata": {
        "colab": {
          "base_uri": "https://localhost:8080/"
        },
        "id": "YlBMqSZlTUBG",
        "outputId": "45219cbf-2256-4bf1-c64f-c8b0e23a69eb"
      },
      "execution_count": null,
      "outputs": [
        {
          "output_type": "stream",
          "name": "stdout",
          "text": [
            "[1, 2, 3, 4, 5, [7, 82, 9, '100'], 6, 3, 'Neha', 'b', 'c', 'Data Science', 'e']\n",
            "[1, 2, 3, 4, 5, [7, 82, '100'], 6, 3, 'Neha', 'b', 'c', 'Data Science', 'e']\n"
          ]
        }
      ]
    },
    {
      "cell_type": "code",
      "source": [
        "list1 = ['Neha', 'b', 'c', 'Data Science', 'e','Neha', 'b', 'c', 'Data Science', 'e', 2, 5, 3]\n",
        "print(list1)\n",
        "del(list1[3:8])\n",
        "print(list1)"
      ],
      "metadata": {
        "colab": {
          "base_uri": "https://localhost:8080/"
        },
        "id": "toDMUm2cVpXn",
        "outputId": "e0a6fdf8-ac4b-4a7e-82a6-496c9581afa5"
      },
      "execution_count": null,
      "outputs": [
        {
          "output_type": "stream",
          "name": "stdout",
          "text": [
            "['Neha', 'b', 'c', 'Data Science', 'e', 'Neha', 'b', 'c', 'Data Science', 'e', 2, 5, 3]\n",
            "['Neha', 'b', 'c', 'Data Science', 'e', 2, 5, 3]\n"
          ]
        }
      ]
    },
    {
      "cell_type": "code",
      "source": [
        "list1 = ['Neha', 'b', 'c', 'Data Science', 'e','Neha', 'b', 'c', 'Data Science', 'e', 2, 'Data Science', 5, 3]\n",
        "print(list1)\n",
        "del(list1[-11], list1[-6], list1[-3])\n",
        "print(list1)"
      ],
      "metadata": {
        "colab": {
          "base_uri": "https://localhost:8080/"
        },
        "id": "vhIHJqhQDjo1",
        "outputId": "de3a6e90-6e1a-46b5-a7f2-db5018ff7ba8"
      },
      "execution_count": null,
      "outputs": [
        {
          "output_type": "stream",
          "name": "stdout",
          "text": [
            "['Neha', 'b', 'c', 'Data Science', 'e', 'Neha', 'b', 'c', 'Data Science', 'e', 2, 'Data Science', 5, 3]\n",
            "['Neha', 'b', 'c', 'e', 'Neha', 'b', 'c', 'e', 2, 5, 3]\n"
          ]
        }
      ]
    },
    {
      "cell_type": "code",
      "source": [
        "list1 = ['Neha', 'b', 'c', 'Data Science', 'e','Neha', 'b', 'c', 'Data Science', 'e', 2, 'Data Science', 5, 3]\n",
        "print(list1)\n",
        "del(list1[-3], list1[-6], list1[-11])\n",
        "print(list1)"
      ],
      "metadata": {
        "colab": {
          "base_uri": "https://localhost:8080/"
        },
        "id": "vahFLRuSJT-Z",
        "outputId": "e94b9a37-f8c0-47ec-bf2c-c4f0f898c098"
      },
      "execution_count": null,
      "outputs": [
        {
          "output_type": "stream",
          "name": "stdout",
          "text": [
            "['Neha', 'b', 'c', 'Data Science', 'e', 'Neha', 'b', 'c', 'Data Science', 'e', 2, 'Data Science', 5, 3]\n",
            "['Neha', 'c', 'Data Science', 'e', 'Neha', 'b', 'Data Science', 'e', 2, 5, 3]\n"
          ]
        }
      ]
    },
    {
      "cell_type": "code",
      "source": [
        "list1 = ['Neha', 'b', 'c', 'Data Science', 'e','Neha', 'b', 'c', 'Data Science', 'e', 2, 'Data Science', 5, 3]\n",
        "print(list1)\n",
        "del(list1[-11])\n",
        "print(list1)\n",
        "del(list1[-6])\n",
        "print(list1)\n",
        "del(list1[-3])\n",
        "print(list1)"
      ],
      "metadata": {
        "colab": {
          "base_uri": "https://localhost:8080/"
        },
        "id": "6FC8TSkpG5zt",
        "outputId": "13f2ba87-0906-4a33-91de-b280d6c38fad"
      },
      "execution_count": null,
      "outputs": [
        {
          "output_type": "stream",
          "name": "stdout",
          "text": [
            "['Neha', 'b', 'c', 'Data Science', 'e', 'Neha', 'b', 'c', 'Data Science', 'e', 2, 'Data Science', 5, 3]\n",
            "['Neha', 'b', 'c', 'e', 'Neha', 'b', 'c', 'Data Science', 'e', 2, 'Data Science', 5, 3]\n",
            "['Neha', 'b', 'c', 'e', 'Neha', 'b', 'c', 'e', 2, 'Data Science', 5, 3]\n",
            "['Neha', 'b', 'c', 'e', 'Neha', 'b', 'c', 'e', 2, 5, 3]\n"
          ]
        }
      ]
    },
    {
      "cell_type": "code",
      "source": [
        "list1 = ['Neha', 'b', 'c', 'Data Science', 'e','Neha', 'b', 'c', 'Data Science', 'e', 2, 'Data Science', 5, 3]\n",
        "print(list1)\n",
        "del(list1[11])\n",
        "print(list1)\n",
        "del(list1[8])\n",
        "print(list1)\n",
        "del(list1[3])\n",
        "print(list1)"
      ],
      "metadata": {
        "colab": {
          "base_uri": "https://localhost:8080/"
        },
        "id": "Fq0VDdNjHjDz",
        "outputId": "c3cf901e-7845-4dc2-be90-f29c6382c15b"
      },
      "execution_count": null,
      "outputs": [
        {
          "output_type": "stream",
          "name": "stdout",
          "text": [
            "['Neha', 'b', 'c', 'Data Science', 'e', 'Neha', 'b', 'c', 'Data Science', 'e', 2, 'Data Science', 5, 3]\n",
            "['Neha', 'b', 'c', 'Data Science', 'e', 'Neha', 'b', 'c', 'Data Science', 'e', 2, 5, 3]\n",
            "['Neha', 'b', 'c', 'Data Science', 'e', 'Neha', 'b', 'c', 'e', 2, 5, 3]\n",
            "['Neha', 'b', 'c', 'e', 'Neha', 'b', 'c', 'e', 2, 5, 3]\n"
          ]
        }
      ]
    },
    {
      "cell_type": "code",
      "source": [
        "list1 = ['Neha', 'b', 'c', 'Data Science', 'e','Neha', 'b', 'c', 'Data Science', 'e', 2, 'Data Science', 5, 3]\n",
        "print(list1)\n",
        "del(list1[11], list1[8], list1[3])\n",
        "print(list1)"
      ],
      "metadata": {
        "colab": {
          "base_uri": "https://localhost:8080/"
        },
        "id": "1Lc3Yr0aH6qa",
        "outputId": "0cdc214b-ecec-4c5b-b139-adafa6d3690b"
      },
      "execution_count": null,
      "outputs": [
        {
          "output_type": "stream",
          "name": "stdout",
          "text": [
            "['Neha', 'b', 'c', 'Data Science', 'e', 'Neha', 'b', 'c', 'Data Science', 'e', 2, 'Data Science', 5, 3]\n",
            "['Neha', 'b', 'c', 'e', 'Neha', 'b', 'c', 'e', 2, 5, 3]\n"
          ]
        }
      ]
    },
    {
      "cell_type": "code",
      "source": [
        "list1 = ['Neha', 'b', 'c', 'Data Science', ['e','Neha', 'b', 'c', 'Data Science'], 'e', 2, 'Data Science', 5, 3]\n",
        "print(list1)\n",
        "list1.insert(3,'Python')\n",
        "print(list1)\n",
        "list1[5].insert(2,'Python')\n",
        "print(list1)\n",
        "list1.insert(3,[44,58,63,45])\n",
        "print(list1)\n",
        "list1[6].insert(4,[44,58,63,45])\n",
        "print(list1)"
      ],
      "metadata": {
        "colab": {
          "base_uri": "https://localhost:8080/"
        },
        "id": "FKD5aIX5ME_Z",
        "outputId": "9e289544-2109-4ead-ce4e-40f1fa6e1c02"
      },
      "execution_count": null,
      "outputs": [
        {
          "output_type": "stream",
          "name": "stdout",
          "text": [
            "['Neha', 'b', 'c', 'Data Science', ['e', 'Neha', 'b', 'c', 'Data Science'], 'e', 2, 'Data Science', 5, 3]\n",
            "['Neha', 'b', 'c', 'Python', 'Data Science', ['e', 'Neha', 'b', 'c', 'Data Science'], 'e', 2, 'Data Science', 5, 3]\n",
            "['Neha', 'b', 'c', 'Python', 'Data Science', ['e', 'Neha', 'Python', 'b', 'c', 'Data Science'], 'e', 2, 'Data Science', 5, 3]\n",
            "['Neha', 'b', 'c', [44, 58, 63, 45], 'Python', 'Data Science', ['e', 'Neha', 'Python', 'b', 'c', 'Data Science'], 'e', 2, 'Data Science', 5, 3]\n",
            "['Neha', 'b', 'c', [44, 58, 63, 45], 'Python', 'Data Science', ['e', 'Neha', 'Python', 'b', [44, 58, 63, 45], 'c', 'Data Science'], 'e', 2, 'Data Science', 5, 3]\n"
          ]
        }
      ]
    },
    {
      "cell_type": "code",
      "source": [
        "list1 = ['Neha', 'b', 'c', 'Data Science', ['e','Neha', 'b', 'c', 'Data Science'], 'e', 2, 'Data Science', 5, 3]\n",
        "print(list1)\n",
        "list1.insert(-4,'Python')\n",
        "print(list1)"
      ],
      "metadata": {
        "colab": {
          "base_uri": "https://localhost:8080/"
        },
        "id": "hYUUncB8WUvG",
        "outputId": "bb220151-7469-4d3d-af12-fa6920ec41cd"
      },
      "execution_count": null,
      "outputs": [
        {
          "output_type": "stream",
          "name": "stdout",
          "text": [
            "['Neha', 'b', 'c', 'Data Science', ['e', 'Neha', 'b', 'c', 'Data Science'], 'e', 2, 'Data Science', 5, 3]\n",
            "['Neha', 'b', 'c', 'Data Science', ['e', 'Neha', 'b', 'c', 'Data Science'], 'e', 'Python', 2, 'Data Science', 5, 3]\n"
          ]
        }
      ]
    },
    {
      "cell_type": "code",
      "source": [
        "list1 = ['Neha', 'b', 'c', 'Data Science', 'e', 'Neha', 'b', 'c', 'Data Science', 'e', 2, 'Data Science', 5, 3]\n",
        "list1.count('Data Science')"
      ],
      "metadata": {
        "colab": {
          "base_uri": "https://localhost:8080/"
        },
        "id": "VJIqa__8MpO5",
        "outputId": "5487bd7a-36db-4386-c6ba-63aaf23dc3b9"
      },
      "execution_count": null,
      "outputs": [
        {
          "output_type": "execute_result",
          "data": {
            "text/plain": [
              "3"
            ]
          },
          "metadata": {},
          "execution_count": 16
        }
      ]
    },
    {
      "cell_type": "code",
      "source": [
        "list1.count('e')"
      ],
      "metadata": {
        "colab": {
          "base_uri": "https://localhost:8080/"
        },
        "id": "pbd-qHPIN2QG",
        "outputId": "9f247155-f74a-4f04-9a09-9db223dcce96"
      },
      "execution_count": null,
      "outputs": [
        {
          "output_type": "execute_result",
          "data": {
            "text/plain": [
              "2"
            ]
          },
          "metadata": {},
          "execution_count": 17
        }
      ]
    },
    {
      "cell_type": "code",
      "source": [
        "list1.count(2)"
      ],
      "metadata": {
        "colab": {
          "base_uri": "https://localhost:8080/"
        },
        "id": "6WsNfd-ON7dW",
        "outputId": "86704c3a-2d41-466e-86c3-02791978eef1"
      },
      "execution_count": null,
      "outputs": [
        {
          "output_type": "execute_result",
          "data": {
            "text/plain": [
              "1"
            ]
          },
          "metadata": {},
          "execution_count": 18
        }
      ]
    },
    {
      "cell_type": "code",
      "source": [
        "list1 = ['Neha', 'b', 'c', 'Data Science', 'e', 'Neha', 'b', 'c', 'Data Science', 'e', 2, 'Data Science', 5, 3]\n",
        "print(list1)\n",
        "list1.reverse()\n",
        "print(list1)"
      ],
      "metadata": {
        "colab": {
          "base_uri": "https://localhost:8080/"
        },
        "id": "Rrn4pItnWABa",
        "outputId": "8f354ef3-3d17-4bb2-de47-9437b9408a59"
      },
      "execution_count": null,
      "outputs": [
        {
          "output_type": "stream",
          "name": "stdout",
          "text": [
            "['Neha', 'b', 'c', 'Data Science', 'e', 'Neha', 'b', 'c', 'Data Science', 'e', 2, 'Data Science', 5, 3]\n",
            "[3, 5, 'Data Science', 2, 'e', 'Data Science', 'c', 'b', 'Neha', 'e', 'Data Science', 'c', 'b', 'Neha']\n"
          ]
        }
      ]
    },
    {
      "cell_type": "code",
      "source": [
        "list1 = ['Neha', 'b', 'c', 'Data Science', 'e', 'Neha', 'b', 'c', 'Data Science', 'e', 2, 'Data Science', 5, 3]\n",
        "print(list1)\n",
        "list1.sort()\n",
        "print(list1)"
      ],
      "metadata": {
        "colab": {
          "base_uri": "https://localhost:8080/",
          "height": 259
        },
        "id": "o_wCXSLxZJmL",
        "outputId": "14f34e87-0bd9-44fc-9a01-dc58e8bb3506"
      },
      "execution_count": null,
      "outputs": [
        {
          "output_type": "stream",
          "name": "stdout",
          "text": [
            "['Neha', 'b', 'c', 'Data Science', 'e', 'Neha', 'b', 'c', 'Data Science', 'e', 2, 'Data Science', 5, 3]\n"
          ]
        },
        {
          "output_type": "error",
          "ename": "TypeError",
          "evalue": "ignored",
          "traceback": [
            "\u001b[0;31m---------------------------------------------------------------------------\u001b[0m",
            "\u001b[0;31mTypeError\u001b[0m                                 Traceback (most recent call last)",
            "\u001b[0;32m<ipython-input-26-9087ea27206a>\u001b[0m in \u001b[0;36m<cell line: 3>\u001b[0;34m()\u001b[0m\n\u001b[1;32m      1\u001b[0m \u001b[0mlist1\u001b[0m \u001b[0;34m=\u001b[0m \u001b[0;34m[\u001b[0m\u001b[0;34m'Neha'\u001b[0m\u001b[0;34m,\u001b[0m \u001b[0;34m'b'\u001b[0m\u001b[0;34m,\u001b[0m \u001b[0;34m'c'\u001b[0m\u001b[0;34m,\u001b[0m \u001b[0;34m'Data Science'\u001b[0m\u001b[0;34m,\u001b[0m \u001b[0;34m'e'\u001b[0m\u001b[0;34m,\u001b[0m \u001b[0;34m'Neha'\u001b[0m\u001b[0;34m,\u001b[0m \u001b[0;34m'b'\u001b[0m\u001b[0;34m,\u001b[0m \u001b[0;34m'c'\u001b[0m\u001b[0;34m,\u001b[0m \u001b[0;34m'Data Science'\u001b[0m\u001b[0;34m,\u001b[0m \u001b[0;34m'e'\u001b[0m\u001b[0;34m,\u001b[0m \u001b[0;36m2\u001b[0m\u001b[0;34m,\u001b[0m \u001b[0;34m'Data Science'\u001b[0m\u001b[0;34m,\u001b[0m \u001b[0;36m5\u001b[0m\u001b[0;34m,\u001b[0m \u001b[0;36m3\u001b[0m\u001b[0;34m]\u001b[0m\u001b[0;34m\u001b[0m\u001b[0;34m\u001b[0m\u001b[0m\n\u001b[1;32m      2\u001b[0m \u001b[0mprint\u001b[0m\u001b[0;34m(\u001b[0m\u001b[0mlist1\u001b[0m\u001b[0;34m)\u001b[0m\u001b[0;34m\u001b[0m\u001b[0;34m\u001b[0m\u001b[0m\n\u001b[0;32m----> 3\u001b[0;31m \u001b[0mlist1\u001b[0m\u001b[0;34m.\u001b[0m\u001b[0msort\u001b[0m\u001b[0;34m(\u001b[0m\u001b[0;34m)\u001b[0m\u001b[0;34m\u001b[0m\u001b[0;34m\u001b[0m\u001b[0m\n\u001b[0m\u001b[1;32m      4\u001b[0m \u001b[0mprint\u001b[0m\u001b[0;34m(\u001b[0m\u001b[0mlist1\u001b[0m\u001b[0;34m)\u001b[0m\u001b[0;34m\u001b[0m\u001b[0;34m\u001b[0m\u001b[0m\n",
            "\u001b[0;31mTypeError\u001b[0m: '<' not supported between instances of 'int' and 'str'"
          ]
        }
      ]
    },
    {
      "cell_type": "code",
      "source": [
        "list1=[25,85,12,74.3,56,36,96.6,25,52,74.2,96,23,45]\n",
        "list1.sort()\n",
        "print(list1)"
      ],
      "metadata": {
        "colab": {
          "base_uri": "https://localhost:8080/"
        },
        "id": "IWWi89VXarQv",
        "outputId": "e0396a6b-0736-4ee0-ba9a-0e574b9e0603"
      },
      "execution_count": null,
      "outputs": [
        {
          "output_type": "stream",
          "name": "stdout",
          "text": [
            "[12, 23, 25, 25, 36, 45, 52, 56, 74, 74, 85, 96, 96]\n"
          ]
        }
      ]
    },
    {
      "cell_type": "code",
      "source": [
        "list1=[25,85,12,74.3,56,36,96.6,25,52,74.2,96,23,45]\n",
        "list1.sort(reverse=True)\n",
        "print(list1)"
      ],
      "metadata": {
        "colab": {
          "base_uri": "https://localhost:8080/"
        },
        "id": "kVE4Ktb6bCMF",
        "outputId": "a4be6d1d-2c74-4465-a5b4-ff9f5bdaadd5"
      },
      "execution_count": null,
      "outputs": [
        {
          "output_type": "stream",
          "name": "stdout",
          "text": [
            "[96.6, 96, 85, 74.3, 74.2, 56, 52, 45, 36, 25, 25, 23, 12]\n"
          ]
        }
      ]
    },
    {
      "cell_type": "code",
      "source": [
        "list1= ['n','e','q','A','h','W','E','u','t','e','R']\n",
        "list1.sort()\n",
        "list1"
      ],
      "metadata": {
        "colab": {
          "base_uri": "https://localhost:8080/"
        },
        "id": "QdIKSisbgrBa",
        "outputId": "393ebb3a-683c-4157-f4fb-5e6a89cc0c47"
      },
      "execution_count": null,
      "outputs": [
        {
          "output_type": "execute_result",
          "data": {
            "text/plain": [
              "['A', 'E', 'R', 'W', 'e', 'e', 'h', 'n', 'q', 't', 'u']"
            ]
          },
          "metadata": {},
          "execution_count": 44
        }
      ]
    },
    {
      "cell_type": "code",
      "source": [
        "list1 = ['Neha', 'b', 'c', 'Data Science', 'e', 'Neha', 'b', 'c']\n",
        "print(list1)\n",
        "list1.extend([12,85,36,96,78])\n",
        "list1\n",
        "list1.insert(3,[12,85,36,96,78])\n",
        "list1"
      ],
      "metadata": {
        "colab": {
          "base_uri": "https://localhost:8080/"
        },
        "id": "M1lEbjP9cWGv",
        "outputId": "12ac8037-162e-4800-b07c-1c373cc62572"
      },
      "execution_count": null,
      "outputs": [
        {
          "output_type": "stream",
          "name": "stdout",
          "text": [
            "['Neha', 'b', 'c', 'Data Science', 'e', 'Neha', 'b', 'c']\n"
          ]
        },
        {
          "output_type": "execute_result",
          "data": {
            "text/plain": [
              "['Neha',\n",
              " 'b',\n",
              " 'c',\n",
              " [12, 85, 36, 96, 78],\n",
              " 'Data Science',\n",
              " 'e',\n",
              " 'Neha',\n",
              " 'b',\n",
              " 'c',\n",
              " [12, 85, 36, 96, 78]]"
            ]
          },
          "metadata": {},
          "execution_count": 40
        }
      ]
    },
    {
      "cell_type": "code",
      "source": [
        "list1 = ['Neha', 'b', 'c', 'Data Science', 'e', 'Neha', 'b', 'c']\n",
        "list1.index('Data Science')"
      ],
      "metadata": {
        "colab": {
          "base_uri": "https://localhost:8080/"
        },
        "id": "CLCfzRl-e2Ar",
        "outputId": "bde31222-590d-4a70-d13e-ed19a65db7e6"
      },
      "execution_count": null,
      "outputs": [
        {
          "output_type": "execute_result",
          "data": {
            "text/plain": [
              "3"
            ]
          },
          "metadata": {},
          "execution_count": 41
        }
      ]
    },
    {
      "cell_type": "code",
      "source": [
        "list1 = ['Neha', 'b', 'c', 'Data Science', 'e', 'Neha', 'b', 'c']\n",
        "list1.index('b')"
      ],
      "metadata": {
        "colab": {
          "base_uri": "https://localhost:8080/"
        },
        "id": "NqY2wcNYfAFU",
        "outputId": "a063a23f-b316-4a75-f3f5-edf0f1e8f174"
      },
      "execution_count": null,
      "outputs": [
        {
          "output_type": "execute_result",
          "data": {
            "text/plain": [
              "1"
            ]
          },
          "metadata": {},
          "execution_count": 42
        }
      ]
    },
    {
      "cell_type": "code",
      "source": [
        "list1 = ['Neha', 'b', 'c', 'Data Science', 'e', 'Neha', 'b', 'c']\n",
        "list1.index(list1[-1])"
      ],
      "metadata": {
        "colab": {
          "base_uri": "https://localhost:8080/"
        },
        "id": "5ERqjDR9hTw2",
        "outputId": "d679bf3d-e579-470c-a0b5-9e75007ab660"
      },
      "execution_count": null,
      "outputs": [
        {
          "output_type": "execute_result",
          "data": {
            "text/plain": [
              "2"
            ]
          },
          "metadata": {},
          "execution_count": 45
        }
      ]
    },
    {
      "cell_type": "code",
      "source": [
        "len(list1)-1"
      ],
      "metadata": {
        "colab": {
          "base_uri": "https://localhost:8080/"
        },
        "id": "Jlv8aG0phmPI",
        "outputId": "e1ed31e7-7074-438e-8cc7-3cd0c1f935a6"
      },
      "execution_count": null,
      "outputs": [
        {
          "output_type": "execute_result",
          "data": {
            "text/plain": [
              "7"
            ]
          },
          "metadata": {},
          "execution_count": 46
        }
      ]
    },
    {
      "cell_type": "code",
      "source": [
        "#Reversing half list\n",
        "#Reversing elements from an index to another index\n",
        "#Sorting a part of a list (from one index to another)\n",
        "#Inserting multiple elements at a specific index in a list, not as a nested list"
      ],
      "metadata": {
        "id": "g8z72BMegR1A"
      },
      "execution_count": null,
      "outputs": []
    },
    {
      "cell_type": "code",
      "source": [
        "list1 = ['Neha', 'b', 'c', 'Data Science', 'e', 'Neha', 'b', 'c', 'Data Science', 'e', 2, 'Data Science', 5, 3]\n",
        "print(list1)\n",
        "list1[3:10][::-1]"
      ],
      "metadata": {
        "colab": {
          "base_uri": "https://localhost:8080/"
        },
        "id": "HUexWIjqiyJ3",
        "outputId": "22bbea76-e2b8-44d5-df7c-690a325989b2"
      },
      "execution_count": null,
      "outputs": [
        {
          "output_type": "stream",
          "name": "stdout",
          "text": [
            "['Neha', 'b', 'c', 'Data Science', 'e', 'Neha', 'b', 'c', 'Data Science', 'e', 2, 'Data Science', 5, 3]\n"
          ]
        },
        {
          "output_type": "execute_result",
          "data": {
            "text/plain": [
              "['e', 'Data Science', 'c', 'b', 'Neha', 'e', 'Data Science']"
            ]
          },
          "metadata": {},
          "execution_count": 52
        }
      ]
    },
    {
      "cell_type": "code",
      "source": [
        "#Reversing half list\n",
        "#Reversing elements from an index to another index\n",
        "\n",
        "list1 = ['Neha', 'b', 'c', 'Data Science', 'e', 'Neha', 'b', 'c', 'Data Science', 'e', 2, 'Data Science', 5, 3]\n",
        "print(list1)\n",
        "list2 = list1[:3] +  list1[3:10][::-1] + list1[10:]\n",
        "print(list2)"
      ],
      "metadata": {
        "colab": {
          "base_uri": "https://localhost:8080/"
        },
        "id": "TzLrIgukkUS0",
        "outputId": "d363ddd3-b2a3-4623-9db9-edb46a89ba14"
      },
      "execution_count": null,
      "outputs": [
        {
          "output_type": "stream",
          "name": "stdout",
          "text": [
            "['Neha', 'b', 'c', 'Data Science', 'e', 'Neha', 'b', 'c', 'Data Science', 'e', 2, 'Data Science', 5, 3]\n",
            "['Neha', 'b', 'c', 'e', 'Data Science', 'c', 'b', 'Neha', 'e', 'Data Science', 2, 'Data Science', 5, 3]\n"
          ]
        }
      ]
    },
    {
      "cell_type": "code",
      "source": [
        "l = [25,85,12,74.3,56,36,96.6,25,52,74.2,96,23,45]\n",
        "print(l)\n",
        "l[5:9] = sorted(l[5:9])\n",
        "print(l)"
      ],
      "metadata": {
        "colab": {
          "base_uri": "https://localhost:8080/"
        },
        "id": "F0TY7OCpnK8U",
        "outputId": "f8d4e22a-4cb7-4ef0-8387-b6b5183557ca"
      },
      "execution_count": null,
      "outputs": [
        {
          "output_type": "stream",
          "name": "stdout",
          "text": [
            "[25, 85, 12, 74.3, 56, 36, 96.6, 25, 52, 74.2, 96, 23, 45]\n",
            "[25, 85, 12, 74.3, 56, 25, 36, 52, 96.6, 74.2, 96, 23, 45]\n"
          ]
        }
      ]
    },
    {
      "cell_type": "code",
      "source": [
        "list1 = ['Neha', 'b', 'c', 'Data Science', 'e', 'Neha', 'b', 'c', 'Data Science', 'e', 2, 'Data Science', 5, 3]\n",
        "print(list1)\n",
        "list1.pop()\n",
        "print(list1)\n",
        "list1.pop(5)\n",
        "print(list1)\n",
        "list1.remove(list1[5])\n",
        "print(list1)\n",
        "#list1.remove() will give error as we need to define the element we want to remove inside the method."
      ],
      "metadata": {
        "colab": {
          "base_uri": "https://localhost:8080/"
        },
        "id": "qHlj8ORwkavH",
        "outputId": "3f3ec673-64c3-4a35-bfbc-994fea71cd86"
      },
      "execution_count": null,
      "outputs": [
        {
          "output_type": "stream",
          "name": "stdout",
          "text": [
            "['Neha', 'b', 'c', 'Data Science', 'e', 'Neha', 'b', 'c', 'Data Science', 'e', 2, 'Data Science', 5, 3]\n",
            "['Neha', 'b', 'c', 'Data Science', 'e', 'Neha', 'b', 'c', 'Data Science', 'e', 2, 'Data Science', 5]\n",
            "['Neha', 'b', 'c', 'Data Science', 'e', 'b', 'c', 'Data Science', 'e', 2, 'Data Science', 5]\n",
            "['Neha', 'c', 'Data Science', 'e', 'b', 'c', 'Data Science', 'e', 2, 'Data Science', 5]\n"
          ]
        }
      ]
    },
    {
      "cell_type": "code",
      "source": [
        "list1 = ['Neha', 'b', 'c', 'Data Science', 'e', 'Neha', 'b', 'c', 'Data Science', 'e', 2, 'Data Science', 5, 3]\n",
        "print(list1)\n",
        "list2 = list1.copy()\n",
        "print(list2)"
      ],
      "metadata": {
        "colab": {
          "base_uri": "https://localhost:8080/"
        },
        "id": "9RicZMuol-ky",
        "outputId": "66e762a7-72d9-4ad9-fe62-ebda1759afcc"
      },
      "execution_count": null,
      "outputs": [
        {
          "output_type": "stream",
          "name": "stdout",
          "text": [
            "['Neha', 'b', 'c', 'Data Science', 'e', 'Neha', 'b', 'c', 'Data Science', 'e', 2, 'Data Science', 5, 3]\n",
            "['Neha', 'b', 'c', 'Data Science', 'e', 'Neha', 'b', 'c', 'Data Science', 'e', 2, 'Data Science', 5, 3]\n"
          ]
        }
      ]
    },
    {
      "cell_type": "code",
      "source": [
        "list1 = ['Neha', 'b', 'c', 'Data Science', 'e', 'Neha', 'b', 'c', 'Data Science', 'e', 2, 'Data Science', 5, 3]\n",
        "print(list1)\n",
        "list1.clear()\n",
        "print(list1)"
      ],
      "metadata": {
        "colab": {
          "base_uri": "https://localhost:8080/"
        },
        "id": "BdoMRXdRnUt1",
        "outputId": "2dd1d10b-e572-4144-a9ef-b4262a8aac26"
      },
      "execution_count": null,
      "outputs": [
        {
          "output_type": "stream",
          "name": "stdout",
          "text": [
            "['Neha', 'b', 'c', 'Data Science', 'e', 'Neha', 'b', 'c', 'Data Science', 'e', 2, 'Data Science', 5, 3]\n",
            "[]\n"
          ]
        }
      ]
    },
    {
      "cell_type": "code",
      "source": [
        "list1 = ['Neha', 'b', 'c', 'Data Science', 'e', 'Neha', 'b', 'c', 'Data Science', 'e', 2, 'Data Science', 5, 3]\n",
        "print(list1)\n",
        "del(list1[5:10])\n",
        "print(list1)"
      ],
      "metadata": {
        "colab": {
          "base_uri": "https://localhost:8080/"
        },
        "id": "HJ_7EfX9ny29",
        "outputId": "12854bd3-a254-4d9a-98a4-b2950c38f54c"
      },
      "execution_count": null,
      "outputs": [
        {
          "output_type": "stream",
          "name": "stdout",
          "text": [
            "['Neha', 'b', 'c', 'Data Science', 'e', 'Neha', 'b', 'c', 'Data Science', 'e', 2, 'Data Science', 5, 3]\n",
            "['Neha', 'b', 'c', 'Data Science', 'e', 2, 'Data Science', 5, 3]\n"
          ]
        }
      ]
    },
    {
      "cell_type": "code",
      "source": [
        "5=a\n",
        "a=5"
      ],
      "metadata": {
        "colab": {
          "base_uri": "https://localhost:8080/",
          "height": 133
        },
        "id": "S9yl1uFpoxo6",
        "outputId": "bbe14adc-e635-41af-b2a5-5cc6ac45e94b"
      },
      "execution_count": null,
      "outputs": [
        {
          "output_type": "error",
          "ename": "SyntaxError",
          "evalue": "ignored",
          "traceback": [
            "\u001b[0;36m  File \u001b[0;32m\"<ipython-input-11-a3e11d51cb20>\"\u001b[0;36m, line \u001b[0;32m1\u001b[0m\n\u001b[0;31m    5=a\u001b[0m\n\u001b[0m    ^\u001b[0m\n\u001b[0;31mSyntaxError\u001b[0m\u001b[0;31m:\u001b[0m cannot assign to literal here. Maybe you meant '==' instead of '='?\n"
          ]
        }
      ]
    },
    {
      "cell_type": "markdown",
      "source": [
        "- is equal to - ==\n",
        "- is not equal to - !=\n",
        "- in\n",
        "- not in"
      ],
      "metadata": {
        "id": "lBt-IF25oFd_"
      }
    },
    {
      "cell_type": "code",
      "source": [
        "a= [1,2,3,4,5]\n",
        "a[2] is 3"
      ],
      "metadata": {
        "colab": {
          "base_uri": "https://localhost:8080/"
        },
        "id": "mmmkkzjqoEGv",
        "outputId": "581eb842-5414-4a4f-8642-1d38dd23383e"
      },
      "execution_count": null,
      "outputs": [
        {
          "output_type": "stream",
          "name": "stderr",
          "text": [
            "<>:2: SyntaxWarning: \"is\" with a literal. Did you mean \"==\"?\n",
            "<>:2: SyntaxWarning: \"is\" with a literal. Did you mean \"==\"?\n",
            "<ipython-input-12-deb47c3e2c95>:2: SyntaxWarning: \"is\" with a literal. Did you mean \"==\"?\n",
            "  a[2] is 3\n"
          ]
        },
        {
          "output_type": "execute_result",
          "data": {
            "text/plain": [
              "True"
            ]
          },
          "metadata": {},
          "execution_count": 12
        }
      ]
    },
    {
      "cell_type": "code",
      "source": [
        "a[2] == 3"
      ],
      "metadata": {
        "colab": {
          "base_uri": "https://localhost:8080/"
        },
        "id": "4rCzcfIppCGD",
        "outputId": "257b81fc-9c49-4c04-c3ce-dd8aca821d74"
      },
      "execution_count": null,
      "outputs": [
        {
          "output_type": "execute_result",
          "data": {
            "text/plain": [
              "True"
            ]
          },
          "metadata": {},
          "execution_count": 13
        }
      ]
    },
    {
      "cell_type": "code",
      "source": [
        "a[3] == 6"
      ],
      "metadata": {
        "colab": {
          "base_uri": "https://localhost:8080/"
        },
        "id": "1zCU_YRNpLBB",
        "outputId": "d88f3c6f-bde8-47ac-88fa-2e48912210ff"
      },
      "execution_count": null,
      "outputs": [
        {
          "output_type": "execute_result",
          "data": {
            "text/plain": [
              "False"
            ]
          },
          "metadata": {},
          "execution_count": 14
        }
      ]
    },
    {
      "cell_type": "code",
      "source": [
        "a[3] is not 7"
      ],
      "metadata": {
        "colab": {
          "base_uri": "https://localhost:8080/"
        },
        "id": "MF4tOxZRp0el",
        "outputId": "5839d280-54aa-47f8-c629-63a31bd77d24"
      },
      "execution_count": null,
      "outputs": [
        {
          "output_type": "stream",
          "name": "stderr",
          "text": [
            "<>:1: SyntaxWarning: \"is not\" with a literal. Did you mean \"!=\"?\n",
            "<>:1: SyntaxWarning: \"is not\" with a literal. Did you mean \"!=\"?\n",
            "<ipython-input-15-791d11e6920f>:1: SyntaxWarning: \"is not\" with a literal. Did you mean \"!=\"?\n",
            "  a[3] is not 7\n"
          ]
        },
        {
          "output_type": "execute_result",
          "data": {
            "text/plain": [
              "True"
            ]
          },
          "metadata": {},
          "execution_count": 15
        }
      ]
    },
    {
      "cell_type": "code",
      "source": [
        "a[0] is not 1"
      ],
      "metadata": {
        "colab": {
          "base_uri": "https://localhost:8080/"
        },
        "id": "iEoES3nmp-VF",
        "outputId": "717cef8a-71c7-43a8-8d02-2655489205b4"
      },
      "execution_count": null,
      "outputs": [
        {
          "output_type": "stream",
          "name": "stderr",
          "text": [
            "<>:1: SyntaxWarning: \"is not\" with a literal. Did you mean \"!=\"?\n",
            "<>:1: SyntaxWarning: \"is not\" with a literal. Did you mean \"!=\"?\n",
            "<ipython-input-16-56a9ecae065a>:1: SyntaxWarning: \"is not\" with a literal. Did you mean \"!=\"?\n",
            "  a[0] is not 1\n"
          ]
        },
        {
          "output_type": "execute_result",
          "data": {
            "text/plain": [
              "False"
            ]
          },
          "metadata": {},
          "execution_count": 16
        }
      ]
    },
    {
      "cell_type": "code",
      "source": [
        "a[3] != 7"
      ],
      "metadata": {
        "colab": {
          "base_uri": "https://localhost:8080/"
        },
        "id": "FeXYaBNTqLIY",
        "outputId": "77a84a51-4ac5-4dfa-be38-8abff2295f8f"
      },
      "execution_count": null,
      "outputs": [
        {
          "output_type": "execute_result",
          "data": {
            "text/plain": [
              "True"
            ]
          },
          "metadata": {},
          "execution_count": 17
        }
      ]
    },
    {
      "cell_type": "code",
      "source": [
        "a[0] != 1"
      ],
      "metadata": {
        "colab": {
          "base_uri": "https://localhost:8080/"
        },
        "id": "rrXV7SxWqP-S",
        "outputId": "095efa94-5ade-41a1-a1a2-19f9ca148b65"
      },
      "execution_count": null,
      "outputs": [
        {
          "output_type": "execute_result",
          "data": {
            "text/plain": [
              "False"
            ]
          },
          "metadata": {},
          "execution_count": 18
        }
      ]
    },
    {
      "cell_type": "code",
      "source": [
        "6 in a"
      ],
      "metadata": {
        "colab": {
          "base_uri": "https://localhost:8080/"
        },
        "id": "WBNnAXgcqkfk",
        "outputId": "9b0a75ac-964a-46ac-919c-8aa9b4b7777f"
      },
      "execution_count": null,
      "outputs": [
        {
          "output_type": "execute_result",
          "data": {
            "text/plain": [
              "False"
            ]
          },
          "metadata": {},
          "execution_count": 19
        }
      ]
    },
    {
      "cell_type": "code",
      "source": [
        "2 in a"
      ],
      "metadata": {
        "colab": {
          "base_uri": "https://localhost:8080/"
        },
        "id": "cqk3VZOHqsvG",
        "outputId": "b8becafc-5e2c-4899-b77c-d3f74d0af118"
      },
      "execution_count": null,
      "outputs": [
        {
          "output_type": "execute_result",
          "data": {
            "text/plain": [
              "True"
            ]
          },
          "metadata": {},
          "execution_count": 20
        }
      ]
    },
    {
      "cell_type": "code",
      "source": [
        "7 not in a"
      ],
      "metadata": {
        "colab": {
          "base_uri": "https://localhost:8080/"
        },
        "id": "dvjS1BTBqwva",
        "outputId": "cba60898-6ba6-4aa6-eb63-2ecca6675319"
      },
      "execution_count": null,
      "outputs": [
        {
          "output_type": "execute_result",
          "data": {
            "text/plain": [
              "True"
            ]
          },
          "metadata": {},
          "execution_count": 21
        }
      ]
    },
    {
      "cell_type": "code",
      "source": [
        "3 not in a"
      ],
      "metadata": {
        "colab": {
          "base_uri": "https://localhost:8080/"
        },
        "id": "eFCgoCPGqz1i",
        "outputId": "c5c923de-f98e-4fad-fe73-cdfa92202477"
      },
      "execution_count": null,
      "outputs": [
        {
          "output_type": "execute_result",
          "data": {
            "text/plain": [
              "False"
            ]
          },
          "metadata": {},
          "execution_count": 22
        }
      ]
    },
    {
      "cell_type": "markdown",
      "source": [
        "# TUPLE"
      ],
      "metadata": {
        "id": "Nh-aVH0nwiRj"
      }
    },
    {
      "cell_type": "code",
      "source": [
        "tup1= (12,85,'Data Science', 'Neha', 5+1j, 52.1, True, False)\n",
        "print(tup1)"
      ],
      "metadata": {
        "colab": {
          "base_uri": "https://localhost:8080/"
        },
        "id": "O5zddBlbwcyO",
        "outputId": "617ff7ba-dc46-4826-a48c-32b102c29c33"
      },
      "execution_count": null,
      "outputs": [
        {
          "output_type": "stream",
          "name": "stdout",
          "text": [
            "(12, 85, 'Data Science', 'Neha', (5+1j), 52.1, True, False)\n"
          ]
        }
      ]
    },
    {
      "cell_type": "code",
      "source": [
        "tup1.append(5)"
      ],
      "metadata": {
        "colab": {
          "base_uri": "https://localhost:8080/",
          "height": 169
        },
        "id": "lg1HaJY9xo36",
        "outputId": "981aba94-564c-45c1-fa49-d304db8912c0"
      },
      "execution_count": null,
      "outputs": [
        {
          "output_type": "error",
          "ename": "AttributeError",
          "evalue": "ignored",
          "traceback": [
            "\u001b[0;31m---------------------------------------------------------------------------\u001b[0m",
            "\u001b[0;31mAttributeError\u001b[0m                            Traceback (most recent call last)",
            "\u001b[0;32m<ipython-input-24-689023f251a1>\u001b[0m in \u001b[0;36m<cell line: 1>\u001b[0;34m()\u001b[0m\n\u001b[0;32m----> 1\u001b[0;31m \u001b[0mtup1\u001b[0m\u001b[0;34m.\u001b[0m\u001b[0mappend\u001b[0m\u001b[0;34m(\u001b[0m\u001b[0;36m5\u001b[0m\u001b[0;34m)\u001b[0m\u001b[0;34m\u001b[0m\u001b[0;34m\u001b[0m\u001b[0m\n\u001b[0m",
            "\u001b[0;31mAttributeError\u001b[0m: 'tuple' object has no attribute 'append'"
          ]
        }
      ]
    },
    {
      "cell_type": "code",
      "source": [
        "tup1.reverse()"
      ],
      "metadata": {
        "colab": {
          "base_uri": "https://localhost:8080/",
          "height": 169
        },
        "id": "K7lUp4I6xuNo",
        "outputId": "a18e09c2-0278-4d45-9d8b-97b043bf7f9d"
      },
      "execution_count": null,
      "outputs": [
        {
          "output_type": "error",
          "ename": "AttributeError",
          "evalue": "ignored",
          "traceback": [
            "\u001b[0;31m---------------------------------------------------------------------------\u001b[0m",
            "\u001b[0;31mAttributeError\u001b[0m                            Traceback (most recent call last)",
            "\u001b[0;32m<ipython-input-26-bee9c4b60366>\u001b[0m in \u001b[0;36m<cell line: 1>\u001b[0;34m()\u001b[0m\n\u001b[0;32m----> 1\u001b[0;31m \u001b[0mtup1\u001b[0m\u001b[0;34m.\u001b[0m\u001b[0mreverse\u001b[0m\u001b[0;34m(\u001b[0m\u001b[0;34m)\u001b[0m\u001b[0;34m\u001b[0m\u001b[0;34m\u001b[0m\u001b[0m\n\u001b[0m",
            "\u001b[0;31mAttributeError\u001b[0m: 'tuple' object has no attribute 'reverse'"
          ]
        }
      ]
    },
    {
      "cell_type": "code",
      "source": [
        "tup1=(5)\n",
        "print(tup1)\n",
        "type(tup1)"
      ],
      "metadata": {
        "colab": {
          "base_uri": "https://localhost:8080/"
        },
        "id": "_HeY4VpUx2ZX",
        "outputId": "1896e870-8357-4220-88b9-6c1433bda55a"
      },
      "execution_count": null,
      "outputs": [
        {
          "output_type": "stream",
          "name": "stdout",
          "text": [
            "5\n"
          ]
        },
        {
          "output_type": "execute_result",
          "data": {
            "text/plain": [
              "int"
            ]
          },
          "metadata": {},
          "execution_count": 27
        }
      ]
    },
    {
      "cell_type": "code",
      "source": [
        "tup1=(5,)\n",
        "print(tup1)\n",
        "type(tup1)"
      ],
      "metadata": {
        "colab": {
          "base_uri": "https://localhost:8080/"
        },
        "id": "HuTEo7A8yESl",
        "outputId": "e98a7c97-3c48-45e7-b5e5-15a280efbcc1"
      },
      "execution_count": null,
      "outputs": [
        {
          "output_type": "stream",
          "name": "stdout",
          "text": [
            "(5,)\n"
          ]
        },
        {
          "output_type": "execute_result",
          "data": {
            "text/plain": [
              "tuple"
            ]
          },
          "metadata": {},
          "execution_count": 28
        }
      ]
    },
    {
      "cell_type": "code",
      "source": [
        "tup1= (12,85,'Data Science', 'Neha', 5+1j, 52.1, True, False)\n",
        "print(tup1)\n",
        "print(tup1[2])\n",
        "print(tup1[5])"
      ],
      "metadata": {
        "colab": {
          "base_uri": "https://localhost:8080/"
        },
        "id": "OjNgJO9NyvNG",
        "outputId": "15e4245b-1871-4215-840b-9118f6f687e1"
      },
      "execution_count": null,
      "outputs": [
        {
          "output_type": "stream",
          "name": "stdout",
          "text": [
            "(12, 85, 'Data Science', 'Neha', (5+1j), 52.1, True, False)\n",
            "Data Science\n",
            "52.1\n"
          ]
        }
      ]
    },
    {
      "cell_type": "code",
      "source": [
        "tup1= (12,85,'Data Science', 'Neha', 5+1j, 52.1, True, False)\n",
        "print(tup1)\n",
        "tup1[5] = 'ExcelR'"
      ],
      "metadata": {
        "colab": {
          "base_uri": "https://localhost:8080/",
          "height": 223
        },
        "id": "xyOgi-kgzU_9",
        "outputId": "2bed1ed1-2bc2-4cbb-cc2c-0e179ea9b8bc"
      },
      "execution_count": null,
      "outputs": [
        {
          "output_type": "stream",
          "name": "stdout",
          "text": [
            "(12, 85, 'Data Science', 'Neha', (5+1j), 52.1, True, False)\n"
          ]
        },
        {
          "output_type": "error",
          "ename": "TypeError",
          "evalue": "ignored",
          "traceback": [
            "\u001b[0;31m---------------------------------------------------------------------------\u001b[0m",
            "\u001b[0;31mTypeError\u001b[0m                                 Traceback (most recent call last)",
            "\u001b[0;32m<ipython-input-30-b98339af5081>\u001b[0m in \u001b[0;36m<cell line: 3>\u001b[0;34m()\u001b[0m\n\u001b[1;32m      1\u001b[0m \u001b[0mtup1\u001b[0m\u001b[0;34m=\u001b[0m \u001b[0;34m(\u001b[0m\u001b[0;36m12\u001b[0m\u001b[0;34m,\u001b[0m\u001b[0;36m85\u001b[0m\u001b[0;34m,\u001b[0m\u001b[0;34m'Data Science'\u001b[0m\u001b[0;34m,\u001b[0m \u001b[0;34m'Neha'\u001b[0m\u001b[0;34m,\u001b[0m \u001b[0;36m5\u001b[0m\u001b[0;34m+\u001b[0m\u001b[0;36m1j\u001b[0m\u001b[0;34m,\u001b[0m \u001b[0;36m52.1\u001b[0m\u001b[0;34m,\u001b[0m \u001b[0;32mTrue\u001b[0m\u001b[0;34m,\u001b[0m \u001b[0;32mFalse\u001b[0m\u001b[0;34m)\u001b[0m\u001b[0;34m\u001b[0m\u001b[0;34m\u001b[0m\u001b[0m\n\u001b[1;32m      2\u001b[0m \u001b[0mprint\u001b[0m\u001b[0;34m(\u001b[0m\u001b[0mtup1\u001b[0m\u001b[0;34m)\u001b[0m\u001b[0;34m\u001b[0m\u001b[0;34m\u001b[0m\u001b[0m\n\u001b[0;32m----> 3\u001b[0;31m \u001b[0mtup1\u001b[0m\u001b[0;34m[\u001b[0m\u001b[0;36m5\u001b[0m\u001b[0;34m]\u001b[0m \u001b[0;34m=\u001b[0m \u001b[0;34m'ExcelR'\u001b[0m\u001b[0;34m\u001b[0m\u001b[0;34m\u001b[0m\u001b[0m\n\u001b[0m",
            "\u001b[0;31mTypeError\u001b[0m: 'tuple' object does not support item assignment"
          ]
        }
      ]
    },
    {
      "cell_type": "code",
      "source": [
        "tup1 = (1,2,3,4,5)\n",
        "tup2 = (6,7,8,9,10)\n",
        "print(tup1[0])\n",
        "print(tup2[3])\n",
        "tup1[0] + tup2[3]"
      ],
      "metadata": {
        "colab": {
          "base_uri": "https://localhost:8080/"
        },
        "id": "oktzSB_jzxL9",
        "outputId": "20a12d5a-da25-42f7-b0bc-72a7417a8962"
      },
      "execution_count": null,
      "outputs": [
        {
          "output_type": "stream",
          "name": "stdout",
          "text": [
            "1\n",
            "9\n"
          ]
        },
        {
          "output_type": "execute_result",
          "data": {
            "text/plain": [
              "10"
            ]
          },
          "metadata": {},
          "execution_count": 32
        }
      ]
    },
    {
      "cell_type": "code",
      "source": [
        "tup1 = (1,2,3,4,5)\n",
        "tup2 = (6,7,8,9,10)\n",
        "lst1 = [8,5,2,3,6]"
      ],
      "metadata": {
        "id": "HhiJ7ZMJ0n2I"
      },
      "execution_count": null,
      "outputs": []
    },
    {
      "cell_type": "code",
      "source": [
        "tup1 + tup2"
      ],
      "metadata": {
        "colab": {
          "base_uri": "https://localhost:8080/"
        },
        "id": "fezAo1l90ueM",
        "outputId": "058a4130-6e4e-464a-c1b9-ada5251be51e"
      },
      "execution_count": null,
      "outputs": [
        {
          "output_type": "execute_result",
          "data": {
            "text/plain": [
              "(1, 2, 3, 4, 5, 6, 7, 8, 9, 10)"
            ]
          },
          "metadata": {},
          "execution_count": 34
        }
      ]
    },
    {
      "cell_type": "code",
      "source": [
        "tup1 + lst1"
      ],
      "metadata": {
        "colab": {
          "base_uri": "https://localhost:8080/",
          "height": 169
        },
        "id": "lg5rIyE504wT",
        "outputId": "556bf560-02d1-4109-f89e-58c30e052c39"
      },
      "execution_count": null,
      "outputs": [
        {
          "output_type": "error",
          "ename": "TypeError",
          "evalue": "ignored",
          "traceback": [
            "\u001b[0;31m---------------------------------------------------------------------------\u001b[0m",
            "\u001b[0;31mTypeError\u001b[0m                                 Traceback (most recent call last)",
            "\u001b[0;32m<ipython-input-35-b4c54ce96341>\u001b[0m in \u001b[0;36m<cell line: 1>\u001b[0;34m()\u001b[0m\n\u001b[0;32m----> 1\u001b[0;31m \u001b[0mtup1\u001b[0m \u001b[0;34m+\u001b[0m \u001b[0mlst1\u001b[0m\u001b[0;34m\u001b[0m\u001b[0;34m\u001b[0m\u001b[0m\n\u001b[0m",
            "\u001b[0;31mTypeError\u001b[0m: can only concatenate tuple (not \"list\") to tuple"
          ]
        }
      ]
    },
    {
      "cell_type": "code",
      "source": [
        "tup1= (12,85,'Data Science', 'Neha', 5+1j, 52.1, True, False)\n",
        "print(tup1)\n",
        "lst1 = list(tup1)\n",
        "print(lst1)\n",
        "lst1.reverse()\n",
        "lst1.append('Python')\n",
        "lst1.pop(3)\n",
        "print(lst1)\n",
        "tup1=tuple(lst1)\n",
        "print(tup1)"
      ],
      "metadata": {
        "colab": {
          "base_uri": "https://localhost:8080/"
        },
        "id": "WpZXb0LP1SwO",
        "outputId": "31f65588-727b-42e4-abee-3cf5f2f209f3"
      },
      "execution_count": null,
      "outputs": [
        {
          "output_type": "stream",
          "name": "stdout",
          "text": [
            "(12, 85, 'Data Science', 'Neha', (5+1j), 52.1, True, False)\n",
            "[12, 85, 'Data Science', 'Neha', (5+1j), 52.1, True, False]\n",
            "[False, True, 52.1, 'Neha', 'Data Science', 85, 12, 'Python']\n",
            "(False, True, 52.1, 'Neha', 'Data Science', 85, 12, 'Python')\n"
          ]
        }
      ]
    },
    {
      "cell_type": "code",
      "source": [
        "tup1= (12,85,'Data Science', 'Neha')\n",
        "tup1*5"
      ],
      "metadata": {
        "colab": {
          "base_uri": "https://localhost:8080/"
        },
        "id": "VDoUUjyN3NKp",
        "outputId": "e6791a04-50b0-4a4b-cee3-6baef48ea310"
      },
      "execution_count": null,
      "outputs": [
        {
          "output_type": "execute_result",
          "data": {
            "text/plain": [
              "(12,\n",
              " 85,\n",
              " 'Data Science',\n",
              " 'Neha',\n",
              " 12,\n",
              " 85,\n",
              " 'Data Science',\n",
              " 'Neha',\n",
              " 12,\n",
              " 85,\n",
              " 'Data Science',\n",
              " 'Neha',\n",
              " 12,\n",
              " 85,\n",
              " 'Data Science',\n",
              " 'Neha',\n",
              " 12,\n",
              " 85,\n",
              " 'Data Science',\n",
              " 'Neha')"
            ]
          },
          "metadata": {},
          "execution_count": 39
        }
      ]
    },
    {
      "cell_type": "code",
      "source": [
        "tup1= (12,85,'Data Science', 'Neha', 5+1j, 52.1, True, False,85,'Data Science', 'Neha',12,85,'Data Science')"
      ],
      "metadata": {
        "id": "hBfmPQkg31oc"
      },
      "execution_count": null,
      "outputs": []
    },
    {
      "cell_type": "code",
      "source": [
        "tup1.index('Neha')"
      ],
      "metadata": {
        "colab": {
          "base_uri": "https://localhost:8080/"
        },
        "id": "GUQ65As13_kC",
        "outputId": "1e9c05a7-3197-45ac-a10a-8cfdd73bd455"
      },
      "execution_count": null,
      "outputs": [
        {
          "output_type": "execute_result",
          "data": {
            "text/plain": [
              "3"
            ]
          },
          "metadata": {},
          "execution_count": 41
        }
      ]
    },
    {
      "cell_type": "code",
      "source": [
        "tup1.count('Data Science')"
      ],
      "metadata": {
        "colab": {
          "base_uri": "https://localhost:8080/"
        },
        "id": "L3hnqCQ84akw",
        "outputId": "0c24a59a-9a52-4e8c-bcb1-6234dc20a35e"
      },
      "execution_count": null,
      "outputs": [
        {
          "output_type": "execute_result",
          "data": {
            "text/plain": [
              "3"
            ]
          },
          "metadata": {},
          "execution_count": 42
        }
      ]
    },
    {
      "cell_type": "code",
      "source": [
        "tup1.count(12)"
      ],
      "metadata": {
        "colab": {
          "base_uri": "https://localhost:8080/"
        },
        "id": "34IpGAlu4fg9",
        "outputId": "e7929f43-730c-4529-f69c-908136144e72"
      },
      "execution_count": null,
      "outputs": [
        {
          "output_type": "execute_result",
          "data": {
            "text/plain": [
              "2"
            ]
          },
          "metadata": {},
          "execution_count": 44
        }
      ]
    },
    {
      "cell_type": "code",
      "source": [
        "len(tup1)"
      ],
      "metadata": {
        "colab": {
          "base_uri": "https://localhost:8080/"
        },
        "id": "Wzh0yLm85Xe0",
        "outputId": "41f3c889-82a6-4a39-d840-a2b04afc575d"
      },
      "execution_count": null,
      "outputs": [
        {
          "output_type": "execute_result",
          "data": {
            "text/plain": [
              "14"
            ]
          },
          "metadata": {},
          "execution_count": 45
        }
      ]
    },
    {
      "cell_type": "code",
      "source": [
        "tup1=(12,96,2,5,1,474,252,36)\n",
        "print(max(tup1))\n",
        "print(min(tup1))"
      ],
      "metadata": {
        "colab": {
          "base_uri": "https://localhost:8080/"
        },
        "id": "CExa4Qsp5tt7",
        "outputId": "8e49b5a3-5f57-4432-fc18-138505a00e69"
      },
      "execution_count": null,
      "outputs": [
        {
          "output_type": "stream",
          "name": "stdout",
          "text": [
            "474\n",
            "1\n"
          ]
        }
      ]
    },
    {
      "cell_type": "code",
      "source": [
        "print(sorted(tup1))"
      ],
      "metadata": {
        "colab": {
          "base_uri": "https://localhost:8080/"
        },
        "id": "hP_EUsg_5t4D",
        "outputId": "e3d06a56-fc65-405d-9297-fc4a0bcf8a6f"
      },
      "execution_count": null,
      "outputs": [
        {
          "output_type": "stream",
          "name": "stdout",
          "text": [
            "[1, 2, 5, 12, 36, 96, 252, 474]\n"
          ]
        }
      ]
    },
    {
      "cell_type": "markdown",
      "source": [
        "# DICTIONARY"
      ],
      "metadata": {
        "id": "gXVkEY0X5o7b"
      }
    },
    {
      "cell_type": "code",
      "source": [
        "dict1 = {'Institute' : 'ExcelR', 'Area':'BTM Layout', 'City': 'Bangalore', 'Pincode': 560068}\n",
        "dict1"
      ],
      "metadata": {
        "colab": {
          "base_uri": "https://localhost:8080/"
        },
        "id": "2IKnpbvm6Xil",
        "outputId": "31fc0ba0-39f0-4f41-fad6-c9087fce6731"
      },
      "execution_count": null,
      "outputs": [
        {
          "output_type": "execute_result",
          "data": {
            "text/plain": [
              "{'Institute': 'ExcelR',\n",
              " 'Area': 'BTM Layout',\n",
              " 'City': 'Bangalore',\n",
              " 'Pincode': 560068}"
            ]
          },
          "metadata": {},
          "execution_count": 1
        }
      ]
    },
    {
      "cell_type": "code",
      "source": [
        "dict1 = {'Institute' :  , 'Area':'BTM Layout', 'City': 'Bangalore', 'Pincode': 560068}\n",
        "dict1"
      ],
      "metadata": {
        "colab": {
          "base_uri": "https://localhost:8080/",
          "height": 133
        },
        "id": "oOruzPtu61Je",
        "outputId": "2d909ce9-57d5-4f32-ee0c-fe571da9c41f"
      },
      "execution_count": null,
      "outputs": [
        {
          "output_type": "error",
          "ename": "SyntaxError",
          "evalue": "ignored",
          "traceback": [
            "\u001b[0;36m  File \u001b[0;32m\"<ipython-input-49-35a4a29ddb33>\"\u001b[0;36m, line \u001b[0;32m1\u001b[0m\n\u001b[0;31m    dict1 = {'Institute' :  , 'Area':'BTM Layout', 'City': 'Bangalore', 'Pincode': 560068}\u001b[0m\n\u001b[0m                         ^\u001b[0m\n\u001b[0;31mSyntaxError\u001b[0m\u001b[0;31m:\u001b[0m expression expected after dictionary key and ':'\n"
          ]
        }
      ]
    },
    {
      "cell_type": "code",
      "source": [
        "dict1 = {'Institute' :  'ExcelR', 'Area':'BTM Layout', : 'Bangalore', 'Pincode': 560068}\n",
        "dict1"
      ],
      "metadata": {
        "colab": {
          "base_uri": "https://localhost:8080/",
          "height": 133
        },
        "id": "d0onn3Su6-lN",
        "outputId": "72963433-e22c-496e-f6c7-3c07432e8f31"
      },
      "execution_count": null,
      "outputs": [
        {
          "output_type": "error",
          "ename": "SyntaxError",
          "evalue": "ignored",
          "traceback": [
            "\u001b[0;36m  File \u001b[0;32m\"<ipython-input-51-24f0ce534149>\"\u001b[0;36m, line \u001b[0;32m1\u001b[0m\n\u001b[0;31m    dict1 = {'Institute' :  'ExcelR', 'Area':'BTM Layout', : 'Bangalore', 'Pincode': 560068}\u001b[0m\n\u001b[0m                                                           ^\u001b[0m\n\u001b[0;31mSyntaxError\u001b[0m\u001b[0;31m:\u001b[0m invalid syntax\n"
          ]
        }
      ]
    },
    {
      "cell_type": "code",
      "source": [
        "dict1 = {'Institute' : 'ExcelR', 'Area':'BTM Layout', 'City': 'Bangalore', 'Pincode': 560068}\n",
        "dict1"
      ],
      "metadata": {
        "colab": {
          "base_uri": "https://localhost:8080/"
        },
        "id": "HqK7IGpBqcU_",
        "outputId": "be1c599c-a052-4e02-8f7c-a701c6baa4e8"
      },
      "execution_count": null,
      "outputs": [
        {
          "output_type": "execute_result",
          "data": {
            "text/plain": [
              "{'Institute': 'ExcelR',\n",
              " 'Area': 'BTM Layout',\n",
              " 'City': 'Bangalore',\n",
              " 'Pincode': 560068}"
            ]
          },
          "metadata": {},
          "execution_count": 6
        }
      ]
    },
    {
      "cell_type": "code",
      "source": [
        "dict1.items()"
      ],
      "metadata": {
        "colab": {
          "base_uri": "https://localhost:8080/"
        },
        "id": "W9_c0_vnpGCe",
        "outputId": "57d1e591-69f9-42ff-92cf-bfd36570501c"
      },
      "execution_count": null,
      "outputs": [
        {
          "output_type": "execute_result",
          "data": {
            "text/plain": [
              "dict_items([('Institute', 'ExcelR'), ('Area', 'BTM Layout'), ('City', 'Bangalore'), ('Pincode', 560068)])"
            ]
          },
          "metadata": {},
          "execution_count": 7
        }
      ]
    },
    {
      "cell_type": "code",
      "source": [
        "dict1.keys()"
      ],
      "metadata": {
        "colab": {
          "base_uri": "https://localhost:8080/"
        },
        "id": "7hcx_hHmpWG7",
        "outputId": "a519d014-fae4-4848-d002-9bc666e24d08"
      },
      "execution_count": null,
      "outputs": [
        {
          "output_type": "execute_result",
          "data": {
            "text/plain": [
              "dict_keys(['Institute', 'Area', 'City', 'Pincode'])"
            ]
          },
          "metadata": {},
          "execution_count": 3
        }
      ]
    },
    {
      "cell_type": "code",
      "source": [
        "keys_list= list(dict1.keys())\n",
        "print(keys_list)\n",
        "keys_tuple= tuple(dict1.keys())\n",
        "print(keys_tuple)"
      ],
      "metadata": {
        "colab": {
          "base_uri": "https://localhost:8080/"
        },
        "id": "mkSgRTBlpdc-",
        "outputId": "5f3e1c8b-305b-4054-b0e7-09a7f214771d"
      },
      "execution_count": null,
      "outputs": [
        {
          "output_type": "stream",
          "name": "stdout",
          "text": [
            "['Institute', 'Area', 'City', 'Pincode']\n",
            "('Institute', 'Area', 'City', 'Pincode')\n"
          ]
        }
      ]
    },
    {
      "cell_type": "code",
      "source": [
        "dict1.values()"
      ],
      "metadata": {
        "colab": {
          "base_uri": "https://localhost:8080/"
        },
        "id": "Q4TR0-USq6aa",
        "outputId": "cfe59d71-4bc1-4beb-cac5-6de84c4f0616"
      },
      "execution_count": null,
      "outputs": [
        {
          "output_type": "execute_result",
          "data": {
            "text/plain": [
              "dict_values(['ExcelR', 'BTM Layout', 'Bangalore', 560068])"
            ]
          },
          "metadata": {},
          "execution_count": 8
        }
      ]
    },
    {
      "cell_type": "code",
      "source": [
        "values_list=list(dict1.values())\n",
        "print(values_list)\n",
        "values_tuple=tuple(dict1.values())\n",
        "print(values_tuple)"
      ],
      "metadata": {
        "colab": {
          "base_uri": "https://localhost:8080/"
        },
        "id": "XS2uQruIrG8W",
        "outputId": "17e7464c-5c21-4cb6-fef2-a2d4fa6aad2b"
      },
      "execution_count": null,
      "outputs": [
        {
          "output_type": "stream",
          "name": "stdout",
          "text": [
            "['ExcelR', 'BTM Layout', 'Bangalore', 560068]\n",
            "('ExcelR', 'BTM Layout', 'Bangalore', 560068)\n"
          ]
        }
      ]
    },
    {
      "cell_type": "code",
      "source": [
        "range(9)"
      ],
      "metadata": {
        "colab": {
          "base_uri": "https://localhost:8080/"
        },
        "id": "JVL-UoR4sBRd",
        "outputId": "0df4d81e-78b5-47a3-b387-ec32999ffe96"
      },
      "execution_count": null,
      "outputs": [
        {
          "output_type": "execute_result",
          "data": {
            "text/plain": [
              "range(0, 9)"
            ]
          },
          "metadata": {},
          "execution_count": 11
        }
      ]
    },
    {
      "cell_type": "code",
      "source": [
        "list(range(9))"
      ],
      "metadata": {
        "colab": {
          "base_uri": "https://localhost:8080/"
        },
        "id": "Z5i4q_oSsIQS",
        "outputId": "2b0cb099-e522-436c-e31f-e55ee356bdf3"
      },
      "execution_count": null,
      "outputs": [
        {
          "output_type": "execute_result",
          "data": {
            "text/plain": [
              "[0, 1, 2, 3, 4, 5, 6, 7, 8]"
            ]
          },
          "metadata": {},
          "execution_count": 12
        }
      ]
    },
    {
      "cell_type": "code",
      "source": [
        "tuple(range(9))"
      ],
      "metadata": {
        "colab": {
          "base_uri": "https://localhost:8080/"
        },
        "id": "uW62X786sLpO",
        "outputId": "5b699175-1f76-4993-84a9-0862f48ffa60"
      },
      "execution_count": null,
      "outputs": [
        {
          "output_type": "execute_result",
          "data": {
            "text/plain": [
              "(0, 1, 2, 3, 4, 5, 6, 7, 8)"
            ]
          },
          "metadata": {},
          "execution_count": 13
        }
      ]
    },
    {
      "cell_type": "code",
      "source": [
        "dict(range(9))"
      ],
      "metadata": {
        "colab": {
          "base_uri": "https://localhost:8080/",
          "height": 169
        },
        "id": "cZLWTxudsOuP",
        "outputId": "92859805-990b-4193-c670-5808910b48f1"
      },
      "execution_count": null,
      "outputs": [
        {
          "output_type": "error",
          "ename": "TypeError",
          "evalue": "ignored",
          "traceback": [
            "\u001b[0;31m---------------------------------------------------------------------------\u001b[0m",
            "\u001b[0;31mTypeError\u001b[0m                                 Traceback (most recent call last)",
            "\u001b[0;32m<ipython-input-14-c3298c3f96e4>\u001b[0m in \u001b[0;36m<cell line: 1>\u001b[0;34m()\u001b[0m\n\u001b[0;32m----> 1\u001b[0;31m \u001b[0mdict\u001b[0m\u001b[0;34m(\u001b[0m\u001b[0mrange\u001b[0m\u001b[0;34m(\u001b[0m\u001b[0;36m9\u001b[0m\u001b[0;34m)\u001b[0m\u001b[0;34m)\u001b[0m\u001b[0;34m\u001b[0m\u001b[0;34m\u001b[0m\u001b[0m\n\u001b[0m",
            "\u001b[0;31mTypeError\u001b[0m: cannot convert dictionary update sequence element #0 to a sequence"
          ]
        }
      ]
    },
    {
      "cell_type": "code",
      "source": [
        "dict2= {'list1' : list(range(9)), 'tuple1' : tuple(range(9)),\n",
        "        'letters': ['a','b','c','d','e'], 'Bool': (True,False, False,True),\n",
        "        'Complex':[5+3j, 7+4j]}\n",
        "dict2"
      ],
      "metadata": {
        "colab": {
          "base_uri": "https://localhost:8080/"
        },
        "id": "bM8WqG9QtBbS",
        "outputId": "78011bfd-a276-421a-a532-02b2d91bd07a"
      },
      "execution_count": null,
      "outputs": [
        {
          "output_type": "execute_result",
          "data": {
            "text/plain": [
              "{'list1': [0, 1, 2, 3, 4, 5, 6, 7, 8],\n",
              " 'tuple1': (0, 1, 2, 3, 4, 5, 6, 7, 8),\n",
              " 'letters': ['a', 'b', 'c', 'd', 'e'],\n",
              " 'Bool': (True, False, False, True),\n",
              " 'Complex': [(5+3j), (7+4j)]}"
            ]
          },
          "metadata": {},
          "execution_count": 19
        }
      ]
    },
    {
      "cell_type": "code",
      "source": [
        "dict1"
      ],
      "metadata": {
        "colab": {
          "base_uri": "https://localhost:8080/"
        },
        "id": "6a6HmV4ru192",
        "outputId": "dc858fa4-5596-49b6-aa97-7fc96a7fb0de"
      },
      "execution_count": null,
      "outputs": [
        {
          "output_type": "execute_result",
          "data": {
            "text/plain": [
              "{'Institute': 'ExcelR',\n",
              " 'Area': 'BTM Layout',\n",
              " 'City': 'Bangalore',\n",
              " 'Pincode': 560068}"
            ]
          },
          "metadata": {},
          "execution_count": 20
        }
      ]
    },
    {
      "cell_type": "code",
      "source": [
        "dict1['Institute']"
      ],
      "metadata": {
        "colab": {
          "base_uri": "https://localhost:8080/",
          "height": 36
        },
        "id": "SOfizizpvLP3",
        "outputId": "40968fec-c365-4b40-b402-e1e868a0ee3c"
      },
      "execution_count": null,
      "outputs": [
        {
          "output_type": "execute_result",
          "data": {
            "text/plain": [
              "'ExcelR'"
            ],
            "application/vnd.google.colaboratory.intrinsic+json": {
              "type": "string"
            }
          },
          "metadata": {},
          "execution_count": 22
        }
      ]
    },
    {
      "cell_type": "code",
      "source": [
        "dict1['City']"
      ],
      "metadata": {
        "colab": {
          "base_uri": "https://localhost:8080/",
          "height": 36
        },
        "id": "hb322MgsvWMo",
        "outputId": "d47a1790-1286-4338-f8a5-27b8bc0a5543"
      },
      "execution_count": null,
      "outputs": [
        {
          "output_type": "execute_result",
          "data": {
            "text/plain": [
              "'Bangalore'"
            ],
            "application/vnd.google.colaboratory.intrinsic+json": {
              "type": "string"
            }
          },
          "metadata": {},
          "execution_count": 23
        }
      ]
    },
    {
      "cell_type": "code",
      "source": [
        "dict1['Wing'] = 'New Building'"
      ],
      "metadata": {
        "id": "OynaF7ehtd8R"
      },
      "execution_count": null,
      "outputs": []
    },
    {
      "cell_type": "code",
      "source": [
        "dict1"
      ],
      "metadata": {
        "colab": {
          "base_uri": "https://localhost:8080/"
        },
        "id": "PIlAek9gvhQS",
        "outputId": "b0619e25-c3c4-41c5-9026-c05d8ab2fd97"
      },
      "execution_count": null,
      "outputs": [
        {
          "output_type": "execute_result",
          "data": {
            "text/plain": [
              "{'Institute': 'ExcelR',\n",
              " 'Area': 'BTM Layout',\n",
              " 'City': 'Bangalore',\n",
              " 'Pincode': 560068,\n",
              " 'Wing': 'New Building'}"
            ]
          },
          "metadata": {},
          "execution_count": 25
        }
      ]
    },
    {
      "cell_type": "code",
      "source": [
        "a= list(dict1.items())\n",
        "a"
      ],
      "metadata": {
        "colab": {
          "base_uri": "https://localhost:8080/"
        },
        "id": "zLzHJI_UwVIT",
        "outputId": "d723c9b5-12b3-465f-ab4e-7b07d8a488d7"
      },
      "execution_count": null,
      "outputs": [
        {
          "output_type": "execute_result",
          "data": {
            "text/plain": [
              "[('Institute', 'ExcelR'),\n",
              " ('Area', 'BTM Layout'),\n",
              " ('City', 'Bangalore'),\n",
              " ('Pincode', 560068),\n",
              " ('Wing', 'New Building')]"
            ]
          },
          "metadata": {},
          "execution_count": 26
        }
      ]
    },
    {
      "cell_type": "code",
      "source": [
        "a.insert(1, ('Course','Data Science'))\n",
        "a"
      ],
      "metadata": {
        "colab": {
          "base_uri": "https://localhost:8080/"
        },
        "id": "TvsDbIATwj4S",
        "outputId": "d8c4a0cb-7883-485c-8f6c-1e1a492ec103"
      },
      "execution_count": null,
      "outputs": [
        {
          "output_type": "execute_result",
          "data": {
            "text/plain": [
              "[('Institute', 'ExcelR'),\n",
              " ('Course', 'Data Science'),\n",
              " ('Area', 'BTM Layout'),\n",
              " ('City', 'Bangalore'),\n",
              " ('Pincode', 560068),\n",
              " ('Wing', 'New Building')]"
            ]
          },
          "metadata": {},
          "execution_count": 27
        }
      ]
    },
    {
      "cell_type": "code",
      "source": [
        "dict1= dict(a)\n",
        "dict1"
      ],
      "metadata": {
        "colab": {
          "base_uri": "https://localhost:8080/"
        },
        "id": "sTZdW-xDwyyi",
        "outputId": "ea0d6536-f0cf-44ad-f631-a6219ffea4b2"
      },
      "execution_count": null,
      "outputs": [
        {
          "output_type": "execute_result",
          "data": {
            "text/plain": [
              "{'Institute': 'ExcelR',\n",
              " 'Course': 'Data Science',\n",
              " 'Area': 'BTM Layout',\n",
              " 'City': 'Bangalore',\n",
              " 'Pincode': 560068,\n",
              " 'Wing': 'New Building'}"
            ]
          },
          "metadata": {},
          "execution_count": 28
        }
      ]
    },
    {
      "cell_type": "code",
      "source": [
        "dict1 = {'Name' : 'Neha' , 'Job_Role' : 'Data Science Trainer' ,\n",
        "         'Address' : {'Area' : 'BTM Layout', 'City': 'Bangalore', 'State': 'Karnataka'}}\n",
        "dict1"
      ],
      "metadata": {
        "colab": {
          "base_uri": "https://localhost:8080/"
        },
        "id": "BaslYnXZzhdN",
        "outputId": "02a5f71a-866f-4e05-fe67-c336c7c492f0"
      },
      "execution_count": null,
      "outputs": [
        {
          "output_type": "execute_result",
          "data": {
            "text/plain": [
              "{'Name': 'Neha',\n",
              " 'Job_Role': 'Data Science Trainer',\n",
              " 'Address': {'Area': 'BTM Layout', 'City': 'Bangalore', 'State': 'Karnataka'}}"
            ]
          },
          "metadata": {},
          "execution_count": 29
        }
      ]
    },
    {
      "cell_type": "code",
      "source": [
        "dict1['Address']['State']"
      ],
      "metadata": {
        "colab": {
          "base_uri": "https://localhost:8080/",
          "height": 36
        },
        "id": "y5LJmzOf0KFd",
        "outputId": "9b569900-cafd-406a-f0c3-f3ff8dd7d9a7"
      },
      "execution_count": null,
      "outputs": [
        {
          "output_type": "execute_result",
          "data": {
            "text/plain": [
              "'Karnataka'"
            ],
            "application/vnd.google.colaboratory.intrinsic+json": {
              "type": "string"
            }
          },
          "metadata": {},
          "execution_count": 30
        }
      ]
    },
    {
      "cell_type": "code",
      "source": [
        "dict1 = {'Name' : 'Neha' , 'Surname': 'Ramchandani'}\n",
        "dict2 = {'City' : 'Bangalore' , 'State' : 'Karnataka'}\n",
        "print(dict1)\n",
        "print(dict2)\n",
        "dict1.update(dict2)\n",
        "dict1"
      ],
      "metadata": {
        "colab": {
          "base_uri": "https://localhost:8080/"
        },
        "id": "lk1VDTCr1OGS",
        "outputId": "5fff03a6-0016-461c-f0b1-4858331e49fa"
      },
      "execution_count": null,
      "outputs": [
        {
          "output_type": "stream",
          "name": "stdout",
          "text": [
            "{'Name': 'Neha', 'Surname': 'Ramchandani'}\n",
            "{'City': 'Bangalore', 'State': 'Karnataka'}\n"
          ]
        },
        {
          "output_type": "execute_result",
          "data": {
            "text/plain": [
              "{'Name': 'Neha',\n",
              " 'Surname': 'Ramchandani',\n",
              " 'City': 'Bangalore',\n",
              " 'State': 'Karnataka'}"
            ]
          },
          "metadata": {},
          "execution_count": 32
        }
      ]
    },
    {
      "cell_type": "code",
      "source": [
        "dict1 = {'Tarun': 35, 'Harsh': 21, 'Bhavna': 52, 'Rahul': 18, 'Abhishek': 42}\n",
        "print(dict1.items())\n",
        "sorted_by_names = dict(sorted(dict1.items(), key= lambda x:x[0], reverse= True))\n",
        "print(sorted_by_names)\n",
        "sorted_by_marks = dict(sorted(dict1.items(), key= lambda x:x[1]))\n",
        "print(sorted_by_marks)"
      ],
      "metadata": {
        "colab": {
          "base_uri": "https://localhost:8080/"
        },
        "id": "Z8vxORl_5pO0",
        "outputId": "94fb7904-70a0-43e5-f2b9-c98c62a9c27f"
      },
      "execution_count": null,
      "outputs": [
        {
          "output_type": "stream",
          "name": "stdout",
          "text": [
            "dict_items([('Tarun', 35), ('Harsh', 21), ('Bhavna', 52), ('Rahul', 18), ('Abhishek', 42)])\n",
            "{'Tarun': 35, 'Rahul': 18, 'Harsh': 21, 'Bhavna': 52, 'Abhishek': 42}\n",
            "{'Rahul': 18, 'Harsh': 21, 'Tarun': 35, 'Abhishek': 42, 'Bhavna': 52}\n"
          ]
        }
      ]
    },
    {
      "cell_type": "code",
      "source": [
        "dict1 = {'Name' : 'Neha' , 'Job_Role' : 'Data Science Trainer' ,\n",
        "         'Address' : {'Area' : 'BTM Layout', 'City': 'Bangalore', 'State': 'Karnataka'}}\n",
        "dict1"
      ],
      "metadata": {
        "colab": {
          "base_uri": "https://localhost:8080/"
        },
        "id": "v5XFE6_e-Sjs",
        "outputId": "76324b49-e5ee-4c0e-d083-84dc6b2c935a"
      },
      "execution_count": null,
      "outputs": [
        {
          "output_type": "execute_result",
          "data": {
            "text/plain": [
              "{'Name': 'Neha',\n",
              " 'Job_Role': 'Data Science Trainer',\n",
              " 'Address': {'Area': 'BTM Layout', 'City': 'Bangalore', 'State': 'Karnataka'}}"
            ]
          },
          "metadata": {},
          "execution_count": 5
        }
      ]
    },
    {
      "cell_type": "code",
      "source": [
        "dict1['Job_Role'] = 'DA Trainer'\n",
        "dict1"
      ],
      "metadata": {
        "colab": {
          "base_uri": "https://localhost:8080/"
        },
        "id": "1jcJaaJf-WQ8",
        "outputId": "92420200-42c5-4bac-bd50-4ca3c72ecd0b"
      },
      "execution_count": null,
      "outputs": [
        {
          "output_type": "execute_result",
          "data": {
            "text/plain": [
              "{'Name': 'Neha',\n",
              " 'Job_Role': 'DA Trainer',\n",
              " 'Address': {'Area': 'BTM Layout', 'City': 'Bangalore', 'State': 'Karnataka'}}"
            ]
          },
          "metadata": {},
          "execution_count": 6
        }
      ]
    },
    {
      "cell_type": "code",
      "source": [
        "dict1['Address']['Area'] = 'JPNagar'\n",
        "dict1"
      ],
      "metadata": {
        "colab": {
          "base_uri": "https://localhost:8080/"
        },
        "id": "UIlLV4a4-mPK",
        "outputId": "db254d42-463d-4548-e717-cb6eb27c2dba"
      },
      "execution_count": null,
      "outputs": [
        {
          "output_type": "execute_result",
          "data": {
            "text/plain": [
              "{'Name': 'Neha',\n",
              " 'Job_Role': 'DA Trainer',\n",
              " 'Address': {'Area': 'JPNagar', 'City': 'Bangalore', 'State': 'Karnataka'}}"
            ]
          },
          "metadata": {},
          "execution_count": 7
        }
      ]
    },
    {
      "cell_type": "code",
      "source": [
        "dict1 = {'Tarun': 35, 'Harsh': 21, 'Bhavna': 52, 'Rahul': 18, 'Abhishek': 42}\n",
        "print(dict1)\n",
        "del(dict1['Rahul'])\n",
        "print(dict1)"
      ],
      "metadata": {
        "colab": {
          "base_uri": "https://localhost:8080/"
        },
        "id": "YPQP9NkH_P6C",
        "outputId": "14092efc-bea6-4352-8677-a8a57c842e06"
      },
      "execution_count": null,
      "outputs": [
        {
          "output_type": "stream",
          "name": "stdout",
          "text": [
            "{'Tarun': 35, 'Harsh': 21, 'Bhavna': 52, 'Rahul': 18, 'Abhishek': 42}\n",
            "{'Tarun': 35, 'Harsh': 21, 'Bhavna': 52, 'Abhishek': 42}\n"
          ]
        }
      ]
    },
    {
      "cell_type": "code",
      "source": [
        "dict1 = {'Tarun': 35, 'Harsh': 21, 'Bhavna': 52, 'Rahul': 18, 'Abhishek': 42}\n",
        "print(dict1)\n",
        "dict1.pop('Tarun')\n",
        "print(dict1)"
      ],
      "metadata": {
        "colab": {
          "base_uri": "https://localhost:8080/"
        },
        "id": "OMZjuoYQAfkI",
        "outputId": "4edbb2d5-baf6-4d9d-c3a8-c39cf82319d2"
      },
      "execution_count": null,
      "outputs": [
        {
          "output_type": "stream",
          "name": "stdout",
          "text": [
            "{'Tarun': 35, 'Harsh': 21, 'Bhavna': 52, 'Rahul': 18, 'Abhishek': 42}\n",
            "{'Harsh': 21, 'Bhavna': 52, 'Rahul': 18, 'Abhishek': 42}\n"
          ]
        }
      ]
    },
    {
      "cell_type": "code",
      "source": [
        "print(dict1)\n",
        "dict1.popitem()\n",
        "print(dict1)"
      ],
      "metadata": {
        "colab": {
          "base_uri": "https://localhost:8080/"
        },
        "id": "18_S-edgAphd",
        "outputId": "d92d943a-8be1-46cc-dc0c-7d6cb4599905"
      },
      "execution_count": null,
      "outputs": [
        {
          "output_type": "stream",
          "name": "stdout",
          "text": [
            "{'Harsh': 21, 'Bhavna': 52, 'Rahul': 18, 'Abhishek': 42}\n",
            "{'Harsh': 21, 'Bhavna': 52, 'Rahul': 18}\n"
          ]
        }
      ]
    },
    {
      "cell_type": "code",
      "source": [
        "print(dict1)\n",
        "dict1.clear()\n",
        "print(dict1)"
      ],
      "metadata": {
        "colab": {
          "base_uri": "https://localhost:8080/"
        },
        "id": "q9yEgbV1_fX0",
        "outputId": "a890e4bd-6602-404d-c571-3964670308f6"
      },
      "execution_count": null,
      "outputs": [
        {
          "output_type": "stream",
          "name": "stdout",
          "text": [
            "{'Tarun': 35, 'Harsh': 21, 'Bhavna': 52, 'Abhishek': 42}\n",
            "{}\n"
          ]
        }
      ]
    },
    {
      "cell_type": "markdown",
      "source": [
        "# SET"
      ],
      "metadata": {
        "id": "IKvcC-T4BKH2"
      }
    },
    {
      "cell_type": "code",
      "source": [
        "set1 = {'Orange', 'Banana', 'Chickoo', 'Mango', 'Apple'}\n",
        "set1"
      ],
      "metadata": {
        "colab": {
          "base_uri": "https://localhost:8080/"
        },
        "id": "wUjp5tJLBNV0",
        "outputId": "216bd63e-3b1e-468c-84c2-a4efd89371e7"
      },
      "execution_count": null,
      "outputs": [
        {
          "output_type": "execute_result",
          "data": {
            "text/plain": [
              "{'Apple', 'Banana', 'Chickoo', 'Mango', 'Orange'}"
            ]
          },
          "metadata": {},
          "execution_count": 12
        }
      ]
    },
    {
      "cell_type": "code",
      "source": [
        "print(set1)"
      ],
      "metadata": {
        "colab": {
          "base_uri": "https://localhost:8080/"
        },
        "id": "lQpRGhMABmp_",
        "outputId": "49b38e28-27e8-40ce-89c4-35773713f198"
      },
      "execution_count": null,
      "outputs": [
        {
          "output_type": "stream",
          "name": "stdout",
          "text": [
            "{'Mango', 'Apple', 'Banana', 'Chickoo', 'Orange'}\n"
          ]
        }
      ]
    },
    {
      "cell_type": "code",
      "source": [
        "set1[0]"
      ],
      "metadata": {
        "colab": {
          "base_uri": "https://localhost:8080/",
          "height": 169
        },
        "id": "LewDNBGiBwhE",
        "outputId": "aa4b6092-a644-4561-da5b-acd97c462ca1"
      },
      "execution_count": null,
      "outputs": [
        {
          "output_type": "error",
          "ename": "TypeError",
          "evalue": "ignored",
          "traceback": [
            "\u001b[0;31m---------------------------------------------------------------------------\u001b[0m",
            "\u001b[0;31mTypeError\u001b[0m                                 Traceback (most recent call last)",
            "\u001b[0;32m<ipython-input-14-c38563f1af7a>\u001b[0m in \u001b[0;36m<cell line: 1>\u001b[0;34m()\u001b[0m\n\u001b[0;32m----> 1\u001b[0;31m \u001b[0mset1\u001b[0m\u001b[0;34m[\u001b[0m\u001b[0;36m0\u001b[0m\u001b[0;34m]\u001b[0m\u001b[0;34m\u001b[0m\u001b[0;34m\u001b[0m\u001b[0m\n\u001b[0m",
            "\u001b[0;31mTypeError\u001b[0m: 'set' object is not subscriptable"
          ]
        }
      ]
    },
    {
      "cell_type": "code",
      "source": [
        "set1 = {'Orange', 'Banana', 'Chickoo', 'Mango', 'Apple', 'Banana','Chickoo', 'Mango',}\n",
        "set1"
      ],
      "metadata": {
        "colab": {
          "base_uri": "https://localhost:8080/"
        },
        "id": "nVUyZ-vrBwqG",
        "outputId": "b9f558d6-2a45-4aa6-fd51-dbd55272d594"
      },
      "execution_count": null,
      "outputs": [
        {
          "output_type": "execute_result",
          "data": {
            "text/plain": [
              "{'Apple', 'Banana', 'Chickoo', 'Mango', 'Orange'}"
            ]
          },
          "metadata": {},
          "execution_count": 21
        }
      ]
    },
    {
      "cell_type": "code",
      "source": [
        "set1 = {'Orange', 'Banana', 'Chickoo', 'Mango', 'Apple'}\n",
        "set1.add('Watermelon')\n",
        "print(set1)\n",
        "set1.add('Grapes')\n",
        "print(set1)\n",
        "set1.add('Chickoo')\n",
        "print(set1)"
      ],
      "metadata": {
        "colab": {
          "base_uri": "https://localhost:8080/"
        },
        "id": "OMtj3-YwDB5W",
        "outputId": "f1187278-814a-4638-80be-7a974f5595d8"
      },
      "execution_count": null,
      "outputs": [
        {
          "output_type": "stream",
          "name": "stdout",
          "text": [
            "{'Mango', 'Chickoo', 'Watermelon', 'Banana', 'Apple', 'Orange'}\n",
            "{'Mango', 'Chickoo', 'Watermelon', 'Grapes', 'Banana', 'Apple', 'Orange'}\n",
            "{'Mango', 'Chickoo', 'Watermelon', 'Grapes', 'Banana', 'Apple', 'Orange'}\n"
          ]
        }
      ]
    },
    {
      "cell_type": "code",
      "source": [
        "set1= {'Apple', 'Banana', 'Chickoo', 'Grapes', 'Mango', 'Orange', 'Watermelon'}\n",
        "print(set1)\n",
        "set1.remove('Chickoo')\n",
        "print(set1)\n",
        "set1.pop()\n",
        "print(set1)\n",
        "set1.discard('Banana')\n",
        "print(set1)"
      ],
      "metadata": {
        "colab": {
          "base_uri": "https://localhost:8080/"
        },
        "id": "K0tMwnRPDgAo",
        "outputId": "e1f7fbb5-20dc-4f75-b286-67564723ba18"
      },
      "execution_count": null,
      "outputs": [
        {
          "output_type": "stream",
          "name": "stdout",
          "text": [
            "{'Grapes', 'Mango', 'Orange', 'Apple', 'Banana', 'Chickoo', 'Watermelon'}\n",
            "{'Grapes', 'Mango', 'Orange', 'Apple', 'Banana', 'Watermelon'}\n",
            "{'Mango', 'Orange', 'Apple', 'Banana', 'Watermelon'}\n",
            "{'Mango', 'Orange', 'Apple', 'Watermelon'}\n"
          ]
        }
      ]
    },
    {
      "cell_type": "code",
      "source": [
        "set1 = {'Grapes', 'Mango', 'Orange', 'Apple', 'Banana', 'Watermelon'}\n",
        "set2 = {'Mango', 'Kiwi', 'Strawberry', 'Orange', 'Sweetlime', 'DragonFruit','Banana'}\n",
        "set1 | set2"
      ],
      "metadata": {
        "colab": {
          "base_uri": "https://localhost:8080/"
        },
        "id": "Cef26pLXzU7U",
        "outputId": "8f57ecf8-0723-4189-c0e6-e2d1665492b0"
      },
      "execution_count": null,
      "outputs": [
        {
          "output_type": "execute_result",
          "data": {
            "text/plain": [
              "{'Apple',\n",
              " 'Banana',\n",
              " 'DragonFruit',\n",
              " 'Grapes',\n",
              " 'Kiwi',\n",
              " 'Mango',\n",
              " 'Orange',\n",
              " 'Strawberry',\n",
              " 'Sweetlime',\n",
              " 'Watermelon'}"
            ]
          },
          "metadata": {},
          "execution_count": 23
        }
      ]
    },
    {
      "cell_type": "code",
      "source": [
        "(set2) and (set1)"
      ],
      "metadata": {
        "colab": {
          "base_uri": "https://localhost:8080/"
        },
        "id": "Q-kbrwQU7gJr",
        "outputId": "af567f7a-aeb6-4391-a5a6-83a6b636b691"
      },
      "execution_count": null,
      "outputs": [
        {
          "output_type": "execute_result",
          "data": {
            "text/plain": [
              "{'Apple', 'Banana', 'Grapes', 'Mango', 'Orange', 'Watermelon'}"
            ]
          },
          "metadata": {},
          "execution_count": 27
        }
      ]
    },
    {
      "cell_type": "code",
      "source": [
        "set1 = {'Grapes', 'Mango', 'Orange', 'Apple', 'Banana', 'Watermelon'}\n",
        "set2 = {'Mango', 'Kiwi', 'Strawberry', 'Orange', 'Sweetlime', 'DragonFruit','Banana'}\n",
        "print(set1.union(set2))\n",
        "print(set2.union(set1))"
      ],
      "metadata": {
        "colab": {
          "base_uri": "https://localhost:8080/"
        },
        "id": "ne_AIlPTz8TR",
        "outputId": "6777bd48-3339-419d-d7ba-f61882c1a87e"
      },
      "execution_count": null,
      "outputs": [
        {
          "output_type": "stream",
          "name": "stdout",
          "text": [
            "{'Mango', 'Banana', 'Apple', 'Grapes', 'DragonFruit', 'Sweetlime', 'Kiwi', 'Strawberry', 'Watermelon', 'Orange'}\n",
            "{'Mango', 'Banana', 'Apple', 'DragonFruit', 'Sweetlime', 'Grapes', 'Kiwi', 'Strawberry', 'Watermelon', 'Orange'}\n"
          ]
        }
      ]
    },
    {
      "cell_type": "code",
      "source": [
        "set1 = {'Grapes', 'Mango', 'Orange', 'Apple', 'Banana', 'Watermelon'}\n",
        "set2 = {'Mango', 'Kiwi', 'Strawberry', 'Orange', 'Sweetlime', 'DragonFruit','Banana'}\n",
        "set1 & set2"
      ],
      "metadata": {
        "colab": {
          "base_uri": "https://localhost:8080/"
        },
        "id": "tfbbtzG70z-5",
        "outputId": "6b29447d-0ca9-45f5-994c-1514f23f7edb"
      },
      "execution_count": null,
      "outputs": [
        {
          "output_type": "execute_result",
          "data": {
            "text/plain": [
              "{'Banana', 'Mango', 'Orange'}"
            ]
          },
          "metadata": {},
          "execution_count": 5
        }
      ]
    },
    {
      "cell_type": "code",
      "source": [
        "set1 = {'Grapes', 'Mango', 'Orange', 'Apple', 'Banana', 'Watermelon'}\n",
        "set2 = {'Mango', 'Kiwi', 'Strawberry', 'Orange', 'Sweetlime', 'DragonFruit','Banana'}\n",
        "print(set1.intersection(set2))\n",
        "print(set2.intersection(set1))"
      ],
      "metadata": {
        "colab": {
          "base_uri": "https://localhost:8080/"
        },
        "id": "CuXGGLr81D8W",
        "outputId": "97449e51-0d51-4c96-8359-9e2c418d9c1b"
      },
      "execution_count": null,
      "outputs": [
        {
          "output_type": "stream",
          "name": "stdout",
          "text": [
            "{'Mango', 'Banana', 'Orange'}\n",
            "{'Mango', 'Banana', 'Orange'}\n"
          ]
        }
      ]
    },
    {
      "cell_type": "code",
      "source": [
        "set1 = {'Grapes', 'Mango', 'Orange', 'Apple', 'Banana', 'Watermelon'}\n",
        "set2 = {'Mango', 'Kiwi', 'Strawberry', 'Orange', 'Sweetlime', 'DragonFruit','Banana'}\n",
        "print(set1 - set2)\n",
        "print(set2 - set1)"
      ],
      "metadata": {
        "colab": {
          "base_uri": "https://localhost:8080/"
        },
        "id": "YBHDVrL-12Vg",
        "outputId": "ca7ee351-90db-4f2e-d20a-e20b2c77fbfa"
      },
      "execution_count": null,
      "outputs": [
        {
          "output_type": "stream",
          "name": "stdout",
          "text": [
            "{'Apple', 'Grapes', 'Watermelon'}\n",
            "{'Kiwi', 'Strawberry', 'DragonFruit', 'Sweetlime'}\n"
          ]
        }
      ]
    },
    {
      "cell_type": "code",
      "source": [
        "print(set1.difference(set2))\n",
        "print(set2.difference(set1))"
      ],
      "metadata": {
        "colab": {
          "base_uri": "https://localhost:8080/"
        },
        "id": "lQ9tUOH52WMW",
        "outputId": "1b6697fe-5b33-4db0-f946-020b4696454e"
      },
      "execution_count": null,
      "outputs": [
        {
          "output_type": "stream",
          "name": "stdout",
          "text": [
            "{'Apple', 'Grapes', 'Watermelon'}\n",
            "{'Kiwi', 'Strawberry', 'DragonFruit', 'Sweetlime'}\n"
          ]
        }
      ]
    },
    {
      "cell_type": "code",
      "source": [
        "#Symmetric Difference\n",
        "set1 = {'Grapes', 'Mango', 'Orange', 'Apple', 'Banana', 'Watermelon'}\n",
        "set2 = {'Mango', 'Kiwi', 'Strawberry', 'Orange', 'Sweetlime', 'DragonFruit','Banana'}\n",
        "set1 ^ set2"
      ],
      "metadata": {
        "colab": {
          "base_uri": "https://localhost:8080/"
        },
        "id": "5mrViiHL3b4u",
        "outputId": "79b57a1a-ad50-4872-ca43-0d3c123a0812"
      },
      "execution_count": null,
      "outputs": [
        {
          "output_type": "execute_result",
          "data": {
            "text/plain": [
              "{'Apple',\n",
              " 'DragonFruit',\n",
              " 'Grapes',\n",
              " 'Kiwi',\n",
              " 'Strawberry',\n",
              " 'Sweetlime',\n",
              " 'Watermelon'}"
            ]
          },
          "metadata": {},
          "execution_count": 11
        }
      ]
    },
    {
      "cell_type": "code",
      "source": [
        "set1 = {'Grapes', 'Mango', 'Orange', 'Apple', 'Banana', 'Watermelon'}\n",
        "set2 = {'Mango', 'Kiwi', 'Strawberry', 'Orange', 'Sweetlime', 'DragonFruit','Banana'}\n",
        "print(set1.symmetric_difference(set2))\n",
        "print(set2.symmetric_difference(set1))"
      ],
      "metadata": {
        "colab": {
          "base_uri": "https://localhost:8080/"
        },
        "id": "VxktKnwZ3518",
        "outputId": "54b93b77-90d3-4ad2-ed35-65e8915084c8"
      },
      "execution_count": null,
      "outputs": [
        {
          "output_type": "stream",
          "name": "stdout",
          "text": [
            "{'Apple', 'Grapes', 'DragonFruit', 'Sweetlime', 'Kiwi', 'Strawberry', 'Watermelon'}\n",
            "{'Apple', 'DragonFruit', 'Grapes', 'Sweetlime', 'Kiwi', 'Strawberry', 'Watermelon'}\n"
          ]
        }
      ]
    },
    {
      "cell_type": "code",
      "source": [
        "setA = {'Mango','Banana','Apple','Grapes','DragonFruit','Sweetlime','Kiwi','Strawberry','Watermelon','Orange'}\n",
        "setB = {'Mango','Sweetlime','Apple','Kiwi'}"
      ],
      "metadata": {
        "id": "EJvwMoXt4C1Y"
      },
      "execution_count": null,
      "outputs": []
    },
    {
      "cell_type": "code",
      "source": [
        "print('setA is a superset of setB: ', setA>setB)\n",
        "print('setB is a superset of setA: ', setA<setB)\n",
        "print('setB is a subset of setA: ', setB<setA)"
      ],
      "metadata": {
        "colab": {
          "base_uri": "https://localhost:8080/"
        },
        "id": "cCFCkQBl5SUg",
        "outputId": "5f99df73-21c2-4596-fa02-c607d3861ddd"
      },
      "execution_count": null,
      "outputs": [
        {
          "output_type": "stream",
          "name": "stdout",
          "text": [
            "setA is a superset of setB:  True\n",
            "setB is a superset of setA:  False\n",
            "setB is a subset of setA:  True\n"
          ]
        }
      ]
    },
    {
      "cell_type": "markdown",
      "source": [
        "# CONDITIONAL STATEMENTS"
      ],
      "metadata": {
        "id": "_NOTKOivBLOw"
      }
    },
    {
      "cell_type": "code",
      "source": [
        "rating = 5\n",
        "if (rating > 4):\n",
        "  print('Show is Good')"
      ],
      "metadata": {
        "colab": {
          "base_uri": "https://localhost:8080/"
        },
        "id": "dXgnWB-P6ARc",
        "outputId": "0108a185-899c-495d-e81b-f44a700be8b0"
      },
      "execution_count": null,
      "outputs": [
        {
          "output_type": "stream",
          "name": "stdout",
          "text": [
            "Show is Good\n"
          ]
        }
      ]
    },
    {
      "cell_type": "code",
      "source": [
        "rating = 3\n",
        "if (rating > 4):\n",
        "  print('Show is Good')"
      ],
      "metadata": {
        "id": "-I-SyQsQCPvi"
      },
      "execution_count": null,
      "outputs": []
    },
    {
      "cell_type": "code",
      "source": [
        "num = 4\n",
        "if (num > 0):\n",
        "  print(num, 'is positive')\n",
        "else:\n",
        "  print(num, 'is negative')"
      ],
      "metadata": {
        "colab": {
          "base_uri": "https://localhost:8080/"
        },
        "id": "tsshx5DeDVbC",
        "outputId": "796f934a-3d40-4df9-e4a4-1ce2f3fb2f2a"
      },
      "execution_count": null,
      "outputs": [
        {
          "output_type": "stream",
          "name": "stdout",
          "text": [
            "4 is positive\n"
          ]
        }
      ]
    },
    {
      "cell_type": "code",
      "source": [
        "num = -3\n",
        "if (num > 0):\n",
        "  print(num, 'is positive')\n",
        "else:\n",
        "  print(num, 'is negative')"
      ],
      "metadata": {
        "colab": {
          "base_uri": "https://localhost:8080/"
        },
        "id": "BKrPMjhgD5h-",
        "outputId": "144e8ba5-3f40-4950-df84-8a3b187991a5"
      },
      "execution_count": null,
      "outputs": [
        {
          "output_type": "stream",
          "name": "stdout",
          "text": [
            "-3 is negative\n"
          ]
        }
      ]
    },
    {
      "cell_type": "code",
      "source": [
        "num = 52\n",
        "if (num>0):\n",
        "  print(num, 'is positive')\n",
        "elif (num<0):\n",
        "  print(num, 'is negative')\n",
        "else:\n",
        "  print(num, 'is zero')"
      ],
      "metadata": {
        "colab": {
          "base_uri": "https://localhost:8080/"
        },
        "id": "uVqpggUlFQ-t",
        "outputId": "b703be2d-2296-4f7d-8867-57b204b02f1e"
      },
      "execution_count": null,
      "outputs": [
        {
          "output_type": "stream",
          "name": "stdout",
          "text": [
            "52 is positive\n"
          ]
        }
      ]
    },
    {
      "cell_type": "code",
      "source": [
        "num = -6\n",
        "if (num>0):\n",
        "  print(num, 'is positive')\n",
        "elif (num<0):\n",
        "  print(num, 'is negative')\n",
        "else:\n",
        "  print(num, 'is zero')"
      ],
      "metadata": {
        "colab": {
          "base_uri": "https://localhost:8080/"
        },
        "id": "0oOlfYtmF0P6",
        "outputId": "ef70fa71-2eb4-4081-e067-4637006e9b46"
      },
      "execution_count": null,
      "outputs": [
        {
          "output_type": "stream",
          "name": "stdout",
          "text": [
            "-6 is negative\n"
          ]
        }
      ]
    },
    {
      "cell_type": "code",
      "source": [
        "num = 0\n",
        "if (num>0):\n",
        "  print(num, 'is positive')\n",
        "elif (num<0):\n",
        "  print(num, 'is negative')\n",
        "else:\n",
        "  print(num, 'is zero')"
      ],
      "metadata": {
        "colab": {
          "base_uri": "https://localhost:8080/"
        },
        "id": "WNVPOr0FF4yV",
        "outputId": "714ecaf3-2e1f-47ba-aa38-fed6fdc1117b"
      },
      "execution_count": null,
      "outputs": [
        {
          "output_type": "stream",
          "name": "stdout",
          "text": [
            "0 is zero\n"
          ]
        }
      ]
    },
    {
      "cell_type": "markdown",
      "source": [
        "- 0 to 34 inclusive - Fail\n",
        "- 35 to 59 inclusive - Second Grade\n",
        "- 60 to 74 inclusive - First Grade\n",
        "- 75 and more - Distinction"
      ],
      "metadata": {
        "id": "Jbrq5GG_GxY3"
      }
    },
    {
      "cell_type": "code",
      "source": [
        "marks = int(input(\"Enter the marks!\"))\n",
        "if (marks<0) | (marks>100):\n",
        "  print('Invalid Marks')\n",
        "elif (marks>=0) & (marks<35):\n",
        "  print('Fail')\n",
        "elif (marks>=35) & (marks<60):\n",
        "  print('Second Grade')\n",
        "elif (marks>=60) & (marks<75):\n",
        "  print('First Grade')\n",
        "else:\n",
        "  print('Distinction')"
      ],
      "metadata": {
        "colab": {
          "base_uri": "https://localhost:8080/"
        },
        "id": "v55cxC66Gsqi",
        "outputId": "6c0e5125-99f9-4409-8da6-9012fd5e92db"
      },
      "execution_count": null,
      "outputs": [
        {
          "output_type": "stream",
          "name": "stdout",
          "text": [
            "Enter the marks!-3\n",
            "Invalid Marks\n"
          ]
        }
      ]
    },
    {
      "cell_type": "code",
      "source": [
        "a = [52,12,7,1,3,65,2,4,82,85,2,24,65,72,88,22,96,48,85,12,25,84,1,2,7,5,54,4,8,23,2,1]\n",
        "for i in a:\n",
        "  if (i%2==0):\n",
        "    print(i)"
      ],
      "metadata": {
        "colab": {
          "base_uri": "https://localhost:8080/"
        },
        "id": "_Om3D0VPLM77",
        "outputId": "4b949cf7-3d36-4808-9d8c-e6dc5402fc39"
      },
      "execution_count": null,
      "outputs": [
        {
          "output_type": "stream",
          "name": "stdout",
          "text": [
            "52\n",
            "12\n",
            "2\n",
            "4\n",
            "82\n",
            "2\n",
            "24\n",
            "72\n",
            "88\n",
            "22\n",
            "96\n",
            "48\n",
            "12\n",
            "84\n",
            "2\n",
            "54\n",
            "4\n",
            "8\n",
            "2\n"
          ]
        }
      ]
    },
    {
      "cell_type": "code",
      "source": [
        "a = [52,12,7,1,3,65,2,4,82,85,2,24,65,72,88,22,96,48,85,12,25,84,1,2,7,5,54,4,8,23,2,1]\n",
        "div_2=[]\n",
        "for i in a:\n",
        "  if (i%2==0):\n",
        "    div_2.append(i)\n",
        "\n",
        "print(div_2)"
      ],
      "metadata": {
        "colab": {
          "base_uri": "https://localhost:8080/"
        },
        "id": "33beV3SSNtUU",
        "outputId": "f534b7c6-478a-427c-affb-74e0517de65d"
      },
      "execution_count": null,
      "outputs": [
        {
          "output_type": "stream",
          "name": "stdout",
          "text": [
            "[52, 12, 2, 4, 82, 2, 24, 72, 88, 22, 96, 48, 12, 84, 2, 54, 4, 8, 2]\n"
          ]
        }
      ]
    },
    {
      "cell_type": "code",
      "source": [
        "a = [52,12,7,1,3,65,2,4,82,85,2,24,65,72,88,22,96,48,85,12,25,84,1,2,7,5,54,4,8,23,2,1]\n",
        "for i in a:\n",
        "  if i%2==0:\n",
        "    print(i, 'is Even')\n",
        "  else:\n",
        "    print(i, 'is Odd')"
      ],
      "metadata": {
        "colab": {
          "base_uri": "https://localhost:8080/"
        },
        "id": "7GW-_0mDPq56",
        "outputId": "c7fd36de-9b3a-4c52-a094-9317e2e783ca"
      },
      "execution_count": null,
      "outputs": [
        {
          "output_type": "stream",
          "name": "stdout",
          "text": [
            "52 is Even\n",
            "12 is Even\n",
            "7 is Odd\n",
            "1 is Odd\n",
            "3 is Odd\n",
            "65 is Odd\n",
            "2 is Even\n",
            "4 is Even\n",
            "82 is Even\n",
            "85 is Odd\n",
            "2 is Even\n",
            "24 is Even\n",
            "65 is Odd\n",
            "72 is Even\n",
            "88 is Even\n",
            "22 is Even\n",
            "96 is Even\n",
            "48 is Even\n",
            "85 is Odd\n",
            "12 is Even\n",
            "25 is Odd\n",
            "84 is Even\n",
            "1 is Odd\n",
            "2 is Even\n",
            "7 is Odd\n",
            "5 is Odd\n",
            "54 is Even\n",
            "4 is Even\n",
            "8 is Even\n",
            "23 is Odd\n",
            "2 is Even\n",
            "1 is Odd\n"
          ]
        }
      ]
    },
    {
      "cell_type": "code",
      "source": [
        "list1 = ['Neha', 'b', 'c', 'Data Science', 'e','Neha', 'b', 'c', 'Data Science', 'e', 2, 5, 3, 'Data Science']\n",
        "range(len(list1))\n",
        "#0,1,2,3,4,5,6,7,8,9,10,11,12,13"
      ],
      "metadata": {
        "colab": {
          "base_uri": "https://localhost:8080/"
        },
        "id": "fyU2pYct_y_e",
        "outputId": "292273cb-624b-404d-a048-b603404e54bf"
      },
      "execution_count": 2,
      "outputs": [
        {
          "output_type": "execute_result",
          "data": {
            "text/plain": [
              "range(0, 14)"
            ]
          },
          "metadata": {},
          "execution_count": 2
        }
      ]
    },
    {
      "cell_type": "code",
      "source": [
        "list1 = ['Neha', 'b', 'c', 'Data Science', 'e','Neha', 'b', 'c', 'Data Science', 'e', 2, 5, 3, 'Data Science']\n",
        "Data_Science=[]\n",
        "for i in range(len(list1)):\n",
        "  if (list1[i]=='Data Science'):\n",
        "    Data_Science.append(i)\n",
        "\n",
        "Data_Science"
      ],
      "metadata": {
        "colab": {
          "base_uri": "https://localhost:8080/"
        },
        "id": "WOauMy4S9RgW",
        "outputId": "59f60a4a-dd28-4334-996a-57b460ac37b4"
      },
      "execution_count": 3,
      "outputs": [
        {
          "output_type": "execute_result",
          "data": {
            "text/plain": [
              "[3, 8, 13]"
            ]
          },
          "metadata": {},
          "execution_count": 3
        }
      ]
    },
    {
      "cell_type": "code",
      "source": [
        "num = int(input('Enter the number!'))\n",
        "factors = []\n",
        "for i in (range(1, num+1)):\n",
        "  if num%i==0:\n",
        "    factors.append(i)\n",
        "\n",
        "print(factors)"
      ],
      "metadata": {
        "colab": {
          "base_uri": "https://localhost:8080/"
        },
        "id": "FJut0sj0DOwJ",
        "outputId": "a243c9a8-c60e-448d-9cb8-99df4c91c311"
      },
      "execution_count": 3,
      "outputs": [
        {
          "output_type": "stream",
          "name": "stdout",
          "text": [
            "Enter the number!25\n",
            "[1, 5, 25]\n"
          ]
        }
      ]
    }
  ]
}